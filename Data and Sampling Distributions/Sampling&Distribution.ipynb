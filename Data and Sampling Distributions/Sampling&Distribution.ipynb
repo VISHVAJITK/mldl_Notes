{
 "cells": [
  {
   "cell_type": "markdown",
   "metadata": {},
   "source": [
    "# Confidence interval\n",
    "![purple-divider](https://user-images.githubusercontent.com/7065401/52071927-c1cd7100-2562-11e9-908a-dde91ba14e59.png)"
   ]
  },
  {
   "cell_type": "markdown",
   "metadata": {},
   "source": [
    "## Given a sample of size n, and a sample statistic of interest, the algorithm for a boot‐ strap confidence interval is as follows:\n",
    "## 1. Draw a random sample of size n with replacement from the data (a resample).\n",
    "## 2. Record the statistic of interest for the resample.\n",
    "## 3. Repeat steps 1–2 many (R) times.\n",
    "## 4. For an x% confidence interval, trim [(100-x) / 2]% of the R resample results from either end of the distribution.\n",
    "## 5. The trim points are the endpoints of an x% bootstrap confidence interval."
   ]
  },
  {
   "cell_type": "code",
   "execution_count": 1,
   "metadata": {},
   "outputs": [],
   "source": [
    "import pandas as pd\n",
    "import numpy as np\n",
    "import matplotlib.pyplot as plt"
   ]
  },
  {
   "cell_type": "code",
   "execution_count": 2,
   "metadata": {},
   "outputs": [
    {
     "data": {
      "text/plain": [
       "((50000, 1),\n",
       "         x\n",
       " 0   67000\n",
       " 1   52000\n",
       " 2  100000\n",
       " 3   78762\n",
       " 4   37041,\n",
       " Index(['x'], dtype='object'))"
      ]
     },
     "execution_count": 2,
     "metadata": {},
     "output_type": "execute_result"
    }
   ],
   "source": [
    "loan_income = pd.read_csv('E:\\machine_learning_projects\\Statistics for Data Science\\Data and Sampling Distributions\\loans_income.csv')\n",
    "loan_income.shape, loan_income.head(), loan_income.columns"
   ]
  },
  {
   "cell_type": "code",
   "execution_count": 3,
   "metadata": {},
   "outputs": [
    {
     "data": {
      "image/png": "[encoded data removed]",
      "text/plain": [
       "<Figure size 432x288 with 1 Axes>"
      ]
     },
     "metadata": {
      "needs_background": "light"
     },
     "output_type": "display_data"
    }
   ],
   "source": [
    "## Plotting and calculatig the confidence interval\n",
    "sample_mean = []\n",
    "\n",
    "for i in range(500):\n",
    "    sample_mean.append(loan_income.x.sample(20).mean())\n",
    "\n",
    "\n",
    "condidence_level = np.quantile(sample_mean,[0.05,0.95])\n",
    "\n",
    "fig, ax = plt.subplots()\n",
    "ax.hist(sample_mean, bins  = 30, color = 'blue', alpha = 0.25)\n",
    "ax.axvline(condidence_level[0])\n",
    "ax.axvline(condidence_level[1])\n",
    "ax.axvline(pd.Series(sample_mean).mean())\n",
    "ax.set_xlabel('loan_income')\n",
    "ax.set_ylabel('Frequency')\n",
    "\n",
    "plt.show()\n",
    "\n"
   ]
  },
  {
   "cell_type": "markdown",
   "metadata": {},
   "source": [
    " ## Converting data to z-scores (i.e., standardizing or normalizing the data) does not make the data normally distributed. It just puts the data on the same scale as the standard normal distribution, often for comparison purposes.\n"
   ]
  },
  {
   "cell_type": "markdown",
   "metadata": {},
   "source": [
    "# t distribution\n",
    "![purple-divider](https://user-images.githubusercontent.com/7065401/52071927-c1cd7100-2562-11e9-908a-dde91ba14e59.png)"
   ]
  },
  {
   "cell_type": "markdown",
   "metadata": {},
   "source": [
    "## A number of different statistics can be compared, after standardization, to the tdistribution, to estimate confidence intervals in light of sampling variation. Consider\n",
    "## a sample of size n for which the sample mean x has been calculated. If s is the sample\n",
    "## standard deviation, a 90% confidence interval around the sample mean is given by:\n",
    "## x ± t(n − 1)0.05 ·s/sq.root of n\n",
    "\n",
    "## where t(n − 1).05 is the value of the t-statistic, with (n – 1) degrees of freedom (see\n",
    "## “Degrees of Freedom” on page 116), that “chops off ” 5% of the t-distribution at either\n",
    "## end. The t-distribution has been used as a reference for the distribution of a sample\n",
    "## mean, the difference between two sample means, regression parameters, and other\n",
    "## statistics.\n"
   ]
  },
  {
   "cell_type": "markdown",
   "metadata": {},
   "source": [
    "# Binomial Ddistribution\n",
    "![purple-divider](https://user-images.githubusercontent.com/7065401/52071927-c1cd7100-2562-11e9-908a-dde91ba14e59.png) "
   ]
  },
  {
   "cell_type": "markdown",
   "metadata": {},
   "source": [
    "## Probability Mass function (pmf)\n",
    "## the PMF is a probability measure that gives us probabilities of the possible values for a random variable."
   ]
  },
  {
   "cell_type": "code",
   "execution_count": 4,
   "metadata": {},
   "outputs": [
    {
     "data": {
      "text/plain": [
       "(0.0, 0.017587946605721567)"
      ]
     },
     "execution_count": 4,
     "metadata": {},
     "output_type": "execute_result"
    }
   ],
   "source": [
    "import scipy.stats as stat\n",
    "stat.binom.pmf(0.1,200,0.02), stat.binom.cdf(0.1,200,0.02)"
   ]
  },
  {
   "cell_type": "markdown",
   "metadata": {},
   "source": [
    "## Cumulative Distribution Function (cdf)\n",
    "## The PMF is one way to describe the distribution of a discrete random variable. As we will see later on, PMF cannot be defined for continuous random variables. The cumulative distribution function (CDF) of a random variable is another method to describe the distribution of random variables. The advantage of the CDF is that it can be defined for any kind of random variable (discrete, continuous, and mixed)"
   ]
  },
  {
   "cell_type": "markdown",
   "metadata": {},
   "source": [
    "# Chi Square distribution\n",
    "![purple-divider](https://user-images.githubusercontent.com/7065401/52071927-c1cd7100-2562-11e9-908a-dde91ba14e59.png)"
   ]
  },
  {
   "cell_type": "markdown",
   "metadata": {},
   "source": [
    "## An important idea in statistics is departure from expectation, especially with respect to category \"COUNTS\".\n",
    "## "
   ]
  },
  {
   "cell_type": "markdown",
   "metadata": {},
   "source": [
    "# f distribution\n",
    "![purple-divider](https://user-images.githubusercontent.com/7065401/52071927-c1cd7100-2562-11e9-908a-dde91ba14e59.png)"
   ]
  },
  {
   "cell_type": "markdown",
   "metadata": {},
   "source": [
    "## A common procedure in scientific experimentation is to test multiple treatments\n",
    "## across groups—say, different fertilizers on different blocks of a field. This is similar to\n",
    "## the A/B/C test referred to in the chi-square distribution (see “Chi-Square Distribu‐\n",
    "## tion” on page 80), except we are dealing with \"measured CONTINEOUS VALUES\" rather than\n",
    "## counts. In this case we are interested in the extent to which differences among group\n",
    "## means are greater than we might expect under normal random variation. "
   ]
  }
 ],
 "metadata": {
  "interpreter": {
   "hash": "b4e8f4f1c3b8324d6d16cd48f41ad5638240ba994d2f06302ae6e77a116c172c"
  },
  "kernelspec": {
   "display_name": "Python 3.9.7 64-bit ('machine_learning': venv)",
   "name": "python3"
  },
  "language_info": {
   "codemirror_mode": {
    "name": "ipython",
    "version": 3
   },
   "file_extension": ".py",
   "mimetype": "text/x-python",
   "name": "python",
   "nbconvert_exporter": "python",
   "pygments_lexer": "ipython3",
   "version": "3.9.7"
  },
  "orig_nbformat": 4
 },
 "nbformat": 4,
 "nbformat_minor": 2
}
