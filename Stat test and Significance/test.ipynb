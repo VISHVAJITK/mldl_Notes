{
 "cells": [
  {
   "cell_type": "markdown",
   "metadata": {},
   "source": [
    "![purple-divider](https://user-images.githubusercontent.com/7065401/52071927-c1cd7100-2562-11e9-908a-dde91ba14e59.png)\n",
    "# Resampling\n",
    "![purple-divider](https://user-images.githubusercontent.com/7065401/52071927-c1cd7100-2562-11e9-908a-dde91ba14e59.png)"
   ]
  },
  {
   "cell_type": "code",
   "execution_count": 3,
   "metadata": {},
   "outputs": [],
   "source": [
    "import pandas as pd\n",
    "import numpy as np\n",
    "import matplotlib.pyplot as plt "
   ]
  },
  {
   "cell_type": "code",
   "execution_count": 4,
   "metadata": {},
   "outputs": [
    {
     "data": {
      "image/png": "[encoded data removed]",
      "text/plain": [
       "<Figure size 432x288 with 2 Axes>"
      ]
     },
     "metadata": {
      "needs_background": "light"
     },
     "output_type": "display_data"
    }
   ],
   "source": [
    "session_times = pd.read_csv('E:\\machine_learning_projects\\Statistics for Data Science\\Stat test and Significance\\web_page_data.csv')\n",
    "mask1 = session_times.Page == 'Page A'\n",
    "mask2 = session_times.Page == 'Page B'\n",
    "\n",
    "# ploti=ting box plot\n",
    "fig,(ax1, ax2) = plt.subplots(1,2)\n",
    "\n",
    "ax1.boxplot(session_times.loc[mask1].Time)\n",
    "ax2.boxplot(session_times.loc[mask2].Time)\n",
    "\n",
    "ax1.set_xlabel('Page1')\n",
    "ax1.set_ylabel('Times in second')\n",
    "ax1.set_title('Box plot')\n",
    "\n",
    "ax2.set_xlabel('Page2')\n",
    "ax2.set_ylabel('Times in second')\n",
    "ax2.set_title('Box plot')\n",
    "\n",
    "plt.show()\n"
   ]
  },
  {
   "cell_type": "code",
   "execution_count": 5,
   "metadata": {},
   "outputs": [
    {
     "data": {
      "text/plain": [
       "0.3566666666666669"
      ]
     },
     "execution_count": 5,
     "metadata": {},
     "output_type": "execute_result"
    }
   ],
   "source": [
    "# Difference in Mean\n",
    "\n",
    "mean_pageA = session_times.loc[mask1].Time.mean()\n",
    "mean_pageB = session_times.loc[mask2].Time.mean()\n",
    "mean_pageB - mean_pageA\n"
   ]
  },
  {
   "cell_type": "markdown",
   "metadata": {},
   "source": [
    "# Permutation test\n",
    "![purple-divider](https://user-images.githubusercontent.com/7065401/52071927-c1cd7100-2562-11e9-908a-dde91ba14e59.png)"
   ]
  },
  {
   "cell_type": "code",
   "execution_count": 6,
   "metadata": {},
   "outputs": [],
   "source": [
    "mean_diff = []\n",
    "def p_test(n =1000,na=21, nb = 18):\n",
    "    for i in range(n): \n",
    "\n",
    "        idxa = session_times.Time.sample(na).index.values\n",
    "        idxb = ~session_times.index.isin(idxa) # isnotin\n",
    "        \n",
    "        a_mean = session_times.loc[idxa].Time.mean()\n",
    "        b_mean = session_times.loc[idxb].Time.mean()\n",
    "\n",
    "        mean_diff.append(b_mean - a_mean )\n",
    "\n",
    "    "
   ]
  },
  {
   "cell_type": "code",
   "execution_count": 7,
   "metadata": {},
   "outputs": [],
   "source": [
    "p_test()\n"
   ]
  },
  {
   "cell_type": "code",
   "execution_count": 8,
   "metadata": {},
   "outputs": [
    {
     "data": {
      "image/png": "[encoded data removed]",
      "text/plain": [
       "<Figure size 432x288 with 1 Axes>"
      ]
     },
     "metadata": {
      "needs_background": "light"
     },
     "output_type": "display_data"
    }
   ],
   "source": [
    "plt.hist(mean_diff, bins= 10)\n",
    "plt.show()"
   ]
  },
  {
   "cell_type": "markdown",
   "metadata": {},
   "source": [
    "## Find which one has better conversion rate\n",
    "\n",
    "## Outcome         Price A   Price B\n",
    "## Conversion      200        182\n",
    "## No conversion   23,539     22,406"
   ]
  },
  {
   "cell_type": "code",
   "execution_count": 9,
   "metadata": {},
   "outputs": [
    {
     "data": {
      "text/plain": [
       "(46327, 382, 45945)"
      ]
     },
     "execution_count": 9,
     "metadata": {},
     "output_type": "execute_result"
    }
   ],
   "source": [
    "Total = 23539+200+182+22406\n",
    "Total_1 = 200+182\n",
    "Total_0 = 23539 +22406\n",
    "Total, Total_1, Total_0"
   ]
  },
  {
   "cell_type": "code",
   "execution_count": 10,
   "metadata": {},
   "outputs": [
    {
     "data": {
      "text/plain": [
       "0    45945\n",
       "1      382\n",
       "dtype: int64"
      ]
     },
     "execution_count": 10,
     "metadata": {},
     "output_type": "execute_result"
    }
   ],
   "source": [
    "conversion = [1] * 382\n",
    "non_conversion = [0] * 45945\n",
    "\n",
    "price = pd.Series(conversion+non_conversion)\n",
    "price.shape\n",
    "price.value_counts()"
   ]
  },
  {
   "cell_type": "code",
   "execution_count": 11,
   "metadata": {},
   "outputs": [
    {
     "data": {
      "text/plain": [
       "0    45945\n",
       "1      382\n",
       "dtype: int64"
      ]
     },
     "execution_count": 11,
     "metadata": {},
     "output_type": "execute_result"
    }
   ],
   "source": [
    "price.value_counts()"
   ]
  },
  {
   "cell_type": "code",
   "execution_count": 12,
   "metadata": {},
   "outputs": [],
   "source": [
    "distribution = []\n",
    "observed_diff = 100*(200/23739 - 182/22588)\n",
    "def per(data, na = 23539 +200, nb = 22406 + 182,n=1000):\n",
    "    observed_diff = 100*(200/23739 - 182/22588)\n",
    "    print(f'observed difference :{observed_diff:.4f}%')\n",
    "    for i in range(n):\n",
    "        idx_cov = data.sample(na).index\n",
    "        price_a = data.loc[idx_cov].value_counts()\n",
    "        idx_noncov = ~data.index.isin(idx_cov)\n",
    "        price_b = data.loc[idx_noncov].value_counts()\n",
    "\n",
    "        diff = 100*(price_a[1]/(price_a[0]+price_a[1]) - price_b[1]/(price_b[0]+price_b[1]))\n",
    "        distribution.append(diff)\n",
    "\n",
    "\n",
    "    fig, ax = plt.subplots()\n",
    "    ax.hist(distribution,bins = 11, color = 'red', alpha = 0.25)\n",
    "    ax.axvline(observed_diff)\n",
    "    ax.set_xlabel('Mean Difference')\n",
    "    ax.set_ylabel('Frequency')\n",
    "    ax.set_title('Histogram')\n",
    "    plt.show()\n",
    "\n",
    "\n"
   ]
  },
  {
   "cell_type": "code",
   "execution_count": 13,
   "metadata": {},
   "outputs": [
    {
     "name": "stdout",
     "output_type": "stream",
     "text": [
      "observed difference :0.0368%\n"
     ]
    },
    {
     "data": {
      "image/png": "[encoded data removed]",
      "text/plain": [
       "<Figure size 432x288 with 1 Axes>"
      ]
     },
     "metadata": {
      "needs_background": "light"
     },
     "output_type": "display_data"
    }
   ],
   "source": [
    "per(price)"
   ]
  },
  {
   "cell_type": "markdown",
   "metadata": {},
   "source": [
    "# Pvalue\n",
    "![purple-divider](https://user-images.githubusercontent.com/7065401/52071927-c1cd7100-2562-11e9-908a-dde91ba14e59.png)"
   ]
  },
  {
   "cell_type": "markdown",
   "metadata": {},
   "source": [
    "## We can estimate a pvalue from our permutation test by taking the proportion of times that the permuta‐\n",
    "## tion test produces a difference equal to or greater than the observed difference:"
   ]
  },
  {
   "cell_type": "code",
   "execution_count": 14,
   "metadata": {},
   "outputs": [
    {
     "data": {
      "text/plain": [
       "0.5"
      ]
     },
     "execution_count": 14,
     "metadata": {},
     "output_type": "execute_result"
    }
   ],
   "source": [
    "## If np.mean is applied to a list of booleans, it gives the percentage of how often True was found in the list (#True / #Total).\n",
    "np.mean([True, True,False, False])"
   ]
  },
  {
   "cell_type": "code",
   "execution_count": 17,
   "metadata": {},
   "outputs": [
    {
     "data": {
      "text/plain": [
       "0.308"
      ]
     },
     "execution_count": 17,
     "metadata": {},
     "output_type": "execute_result"
    }
   ],
   "source": [
    "pvalue = np.mean(pd.Series(distribution) > observed_diff) \n",
    "pvalue"
   ]
  },
  {
   "cell_type": "markdown",
   "metadata": {},
   "source": [
    "## The real problem is that people want more meaning from the p-value than it con‐tains. Here’s what we would like the p-value to convey:\n",
    "## The probability that the result is due to chance.\n",
    "## We hope for a low value, so we can conclude that we’ve proved something. This is how many journal editors were interpreting the p-value. But here’s what the p-value actually represents:\n",
    "## The probability that, given a chance model, results as extreme as the observed results could occur."
   ]
  },
  {
   "cell_type": "markdown",
   "metadata": {},
   "source": [
    "## In assessing statistical significance, two types of error are possible:\n",
    "## • A Type 1 error, in which you mistakenly conclude an effect is real, when it is really just due to chance\n",
    "## • A Type 2 error, in which you mistakenly conclude that an effect is not real (i.e., due to chance), when it actually is real"
   ]
  },
  {
   "cell_type": "markdown",
   "metadata": {},
   "source": [
    "## Actually, a Type 2 error is not so much an error as a judgment that the sample size is too small to detect the effect. When a p-value falls short of statistical significance (e.g., it exceeds 5%), what we are really saying is “effect not proven.” It could be that a larger sample would yield a smaller p-value.\n",
    "## The basic function of significance tests (also called hypothesis tests) is to protect against being fooled by random chance; thus they are typically structured to mini‐ mize Type 1 errors."
   ]
  },
  {
   "cell_type": "markdown",
   "metadata": {},
   "source": [
    "# t test\n",
    "![purple-divider](https://user-images.githubusercontent.com/7065401/52071927-c1cd7100-2562-11e9-908a-dde91ba14e59.png)"
   ]
  },
  {
   "cell_type": "markdown",
   "metadata": {},
   "source": [
    "## In the 1920s and 1930s, when statistical hypothesis testing was being developed, it\n",
    "## was not feasible to randomly shuffle data thousands of times to do a resampling test.\n",
    "## Statisticians found that a good approximation to the permutation (shuffled) distribu‐\n",
    "## tion was the t-test, based on Gosset’s t-distribution. It is used for the very common\n",
    "## two-sample comparison—A/B test—in which the data is numeric. But in order for\n",
    "## the t-distribution to be used without regard to scale, a standardized form of the test\n",
    "## statistic must be used."
   ]
  },
  {
   "cell_type": "markdown",
   "metadata": {},
   "source": [
    " ## "
   ]
  },
  {
   "cell_type": "code",
   "execution_count": 18,
   "metadata": {},
   "outputs": [],
   "source": [
    "import scipy.stats as stat"
   ]
  },
  {
   "cell_type": "code",
   "execution_count": 41,
   "metadata": {},
   "outputs": [],
   "source": [
    "session_times\n",
    "ststistic, pvalue = stat.ttest_ind(session_times.loc[session_times.Page == 'Page A'].Time, \n",
    "                session_times.loc[session_times.Page == 'Page B'].Time,\n",
    "                equal_var=False)"
   ]
  },
  {
   "cell_type": "markdown",
   "metadata": {},
   "source": [
    "# Multiple Testing and Alphainflation\n",
    "![purple-divider](https://user-images.githubusercontent.com/7065401/52071927-c1cd7100-2562-11e9-908a-dde91ba14e59.png)\n",
    "## For example, if you have 20 predictor variables and one outcome variable, all ran‐ domly generated, the odds are pretty good that at least one predictor will (falsely) turn out to be statistically significant if you do a series of 20 significance tests at the alpha = 0.05 level. As previously discussed, this is called a Type 1 error. You can calculate this probability by first finding the probability that all will correctly test nonsignificant at the 0.05 level. The probability that one will correctly test nonsignificant is 0.95, so the probability that all 20 will correctly test nonsignificant is 0.95 × 0.95 × 0.95…, or 0.95^20 = 0.36.1 The probability that at least one predictor will (falsely) test significant is the flip side of this probability, or 1 – (probability that all will be nonsignificant) = 0.64. This is known as alpha inflation. This issue is related to the problem of overfitting in data mining, or “fitting the model to the noise.” The more variables you add, or the more models you run, the greater the probability that something will emerge as “significant” just by chance."
   ]
  },
  {
   "cell_type": "markdown",
   "metadata": {},
   "source": [
    "# F - Distribution (ANOVA)\n",
    "![purple-divider](https://user-images.githubusercontent.com/7065401/52071927-c1cd7100-2562-11e9-908a-dde91ba14e59.png)\n",
    "# Pairwise comparison--\n",
    "## A hypothesis test (e.g., of means) between two groups among multiple groups.\n",
    "# Omnibus test--\n",
    "## A single hypothesis test of the overall variance among multiple group means.\n",
    "# Decomposition of variance--\n",
    "## Separation of components contributing to an individual value (e.g., from the\n",
    "## overall average, from a treatment mean, and from a residual error).\n",
    "# F-statistic--\n",
    "## A standardized statistic that measures the extent to which differences among\n",
    "## group means exceed what might be expected in a chance model.\n",
    "# SS--\n",
    "## “Sum of squares,” referring to deviations from some average value.\n"
   ]
  },
  {
   "cell_type": "code",
   "execution_count": 66,
   "metadata": {},
   "outputs": [
    {
     "data": {
      "text/plain": [
       "<AxesSubplot:title={'center':'Time'}, xlabel='Page'>"
      ]
     },
     "execution_count": 66,
     "metadata": {},
     "output_type": "execute_result"
    },
    {
     "data": {
      "image/png": "[encoded data removed]",
      "text/plain": [
       "<Figure size 432x288 with 1 Axes>"
      ]
     },
     "metadata": {
      "needs_background": "light"
     },
     "output_type": "display_data"
    }
   ],
   "source": [
    "four_sessions = pd.read_csv('E:\\machine_learning_projects\\Statistics for Data Science\\Stat test and Significance\\Four_sessions.csv')\n",
    "## Plotting box plot to check variation in mean or median amoung the groups\n",
    "\n",
    "four_sessions.boxplot(by = 'Page',column = 'Time') \n",
    "\n"
   ]
  },
  {
   "cell_type": "code",
   "execution_count": 73,
   "metadata": {},
   "outputs": [
    {
     "data": {
      "text/plain": [
       "Page\n",
       "Page 1    AxesSubplot(0.125,0.125;0.775x0.755)\n",
       "Page 2    AxesSubplot(0.125,0.125;0.775x0.755)\n",
       "Page 3    AxesSubplot(0.125,0.125;0.775x0.755)\n",
       "Page 4    AxesSubplot(0.125,0.125;0.775x0.755)\n",
       "dtype: object"
      ]
     },
     "execution_count": 73,
     "metadata": {},
     "output_type": "execute_result"
    },
    {
     "data": {
      "image/png": "[encoded data removed]",
      "text/plain": [
       "<Figure size 432x288 with 1 Axes>"
      ]
     },
     "metadata": {
      "needs_background": "light"
     },
     "output_type": "display_data"
    },
    {
     "data": {
      "image/png": "[encoded data removed]",
      "text/plain": [
       "<Figure size 432x288 with 1 Axes>"
      ]
     },
     "metadata": {
      "needs_background": "light"
     },
     "output_type": "display_data"
    },
    {
     "data": {
      "image/png": "[encoded data removed]",
      "text/plain": [
       "<Figure size 432x288 with 1 Axes>"
      ]
     },
     "metadata": {
      "needs_background": "light"
     },
     "output_type": "display_data"
    },
    {
     "data": {
      "image/png": "[encoded data removed]",
      "text/plain": [
       "<Figure size 432x288 with 1 Axes>"
      ]
     },
     "metadata": {
      "needs_background": "light"
     },
     "output_type": "display_data"
    }
   ],
   "source": [
    "## plotting by groupby operation\n",
    "four_sessions.groupby('Page').plot(kind = 'box')"
   ]
  },
  {
   "cell_type": "markdown",
   "metadata": {},
   "source": [
    "## Pemutation test for A/B/C/D test"
   ]
  },
  {
   "cell_type": "code",
   "execution_count": 91,
   "metadata": {},
   "outputs": [],
   "source": [
    "obseved_means = four_sessions.groupby('Page')['Time'].mean()\n",
    "observed_var = four_sessions.groupby('Page')['Time'].mean().var()"
   ]
  },
  {
   "cell_type": "code",
   "execution_count": 106,
   "metadata": {},
   "outputs": [],
   "source": [
    "def per_test(df):\n",
    "    df = df.copy()\n",
    "    df[\"Time\"] = np.random.permutation(df.Time.values) # np.random.permutation() isused for shuffling the given array\n",
    "    variance = df.groupby('Page').Time.mean().var()\n",
    "    return variance"
   ]
  },
  {
   "cell_type": "code",
   "execution_count": 136,
   "metadata": {},
   "outputs": [
    {
     "data": {
      "image/png": "[encoded data removed]",
      "text/plain": [
       "<Figure size 432x288 with 1 Axes>"
      ]
     },
     "metadata": {
      "needs_background": "light"
     },
     "output_type": "display_data"
    },
    {
     "name": "stdout",
     "output_type": "stream",
     "text": [
      "Pvalue: 0.082\n"
     ]
    }
   ],
   "source": [
    "variance = [per_test(four_sessions) for _ in range(1000)]\n",
    "plt.hist(variance, bins = 10, ec = 'k')\n",
    "plt.axvline(observed_var)\n",
    "plt.show()\n",
    "\n",
    "\n",
    "print(f'Pvalue: {np.mean(variance > observed_var)}')"
   ]
  },
  {
   "cell_type": "markdown",
   "metadata": {},
   "source": [
    "# F - Statistics"
   ]
  },
  {
   "cell_type": "markdown",
   "metadata": {},
   "source": [
    "## The Fstatistic is based on the ratio of the variance across group means (i.e., the treatment effect) to the variance due to residual error. The higher this ratio, the more statisti‐ cally significant the result. If the data follows a normal distribution, then statistical theory dictates that the statistic should have a certain distribution. Based on this, it is possible to compute a p-value.\n"
   ]
  },
  {
   "cell_type": "code",
   "execution_count": 141,
   "metadata": {},
   "outputs": [],
   "source": [
    "import statsmodels.api as sm\n",
    "import statsmodels.formula.api as smf"
   ]
  },
  {
   "cell_type": "markdown",
   "metadata": {},
   "source": [
    "## Anova used for predicting the contineous variable by using the categorical one ex. predicting the salary(contineous variable) of a person by using his degree(Categorical variable)"
   ]
  },
  {
   "cell_type": "markdown",
   "metadata": {},
   "source": [
    "## Omnibus Test\n",
    "## F Test for  multiple Group  (SEE note book for formulas)"
   ]
  },
  {
   "cell_type": "code",
   "execution_count": 142,
   "metadata": {},
   "outputs": [
    {
     "data": {
      "text/html": [
       "<div>\n",
       "<style scoped>\n",
       "    .dataframe tbody tr th:only-of-type {\n",
       "        vertical-align: middle;\n",
       "    }\n",
       "\n",
       "    .dataframe tbody tr th {\n",
       "        vertical-align: top;\n",
       "    }\n",
       "\n",
       "    .dataframe thead th {\n",
       "        text-align: right;\n",
       "    }\n",
       "</style>\n",
       "<table border=\"1\" class=\"dataframe\">\n",
       "  <thead>\n",
       "    <tr style=\"text-align: right;\">\n",
       "      <th></th>\n",
       "      <th>df</th>\n",
       "      <th>sum_sq</th>\n",
       "      <th>mean_sq</th>\n",
       "      <th>F</th>\n",
       "      <th>PR(&gt;F)</th>\n",
       "    </tr>\n",
       "  </thead>\n",
       "  <tbody>\n",
       "    <tr>\n",
       "      <th>Page</th>\n",
       "      <td>3.0</td>\n",
       "      <td>831.4</td>\n",
       "      <td>277.133333</td>\n",
       "      <td>2.739825</td>\n",
       "      <td>0.077586</td>\n",
       "    </tr>\n",
       "    <tr>\n",
       "      <th>Residual</th>\n",
       "      <td>16.0</td>\n",
       "      <td>1618.4</td>\n",
       "      <td>101.150000</td>\n",
       "      <td>NaN</td>\n",
       "      <td>NaN</td>\n",
       "    </tr>\n",
       "  </tbody>\n",
       "</table>\n",
       "</div>"
      ],
      "text/plain": [
       "            df  sum_sq     mean_sq         F    PR(>F)\n",
       "Page       3.0   831.4  277.133333  2.739825  0.077586\n",
       "Residual  16.0  1618.4  101.150000       NaN       NaN"
      ]
     },
     "execution_count": 142,
     "metadata": {},
     "output_type": "execute_result"
    }
   ],
   "source": [
    "## Building model \n",
    "model = smf.ols('Time ~ Page', data=four_sessions).fit()\n",
    "aov_table = sm.stats.anova_lm(model)\n",
    "aov_table\n"
   ]
  },
  {
   "cell_type": "markdown",
   "metadata": {},
   "source": [
    "# Chi-Square Test\n",
    "![purple-divider](https://user-images.githubusercontent.com/7065401/52071927-c1cd7100-2562-11e9-908a-dde91ba14e59.png)"
   ]
  },
  {
   "cell_type": "markdown",
   "metadata": {},
   "source": [
    "## We can test with this resampling algorithm:\n",
    "1. Constitute a box with 34 ones (clicks) and 2,966 zeros (no clicks).\n",
    "2. Shuffle, take three separate samples of 1,000, and count the clicks in each.\n",
    "3. Find the squared differences between the shuffled counts and the expected\n",
    "counts and sum them.\n",
    "4. Repeat steps 2 and 3, say, 1,000 times.\n",
    "5. How often does the resampled sum of squared deviations exceed the observed?\n",
    "That’s the p-value."
   ]
  },
  {
   "cell_type": "code",
   "execution_count": 173,
   "metadata": {},
   "outputs": [],
   "source": [
    "import random\n",
    "import math\n",
    "click = [1] * 34\n",
    "no_click = [0] * 2966\n",
    "data = click + no_click\n",
    "\n",
    "permutation_residuals = []\n",
    "expected_counts = [11.33,11.33,11.33, 988.67,988.67,988.67]\n",
    "ob_counts = [14,8,12.986,992,988]\n",
    "\n",
    "\n",
    "def chi(expected_counts,data):\n",
    "    for i in range(1000):\n",
    "        random.shuffle(data)\n",
    "        df1 = data[:1000].count(1)\n",
    "        df2 = data[1000:2000].count(1)\n",
    "        df3 = data[2000:].count(1)\n",
    "        observed_counts = [df1,df2,df3,1000-df1,1000-df2,1000-df3]\n",
    "        for ob, ex in zip(observed_counts, expected_counts):\n",
    "            permutation_residuals.append((ob-ex)/math.sqrt(ex))\n",
    "    return permutation_residuals\n",
    "\n",
    "fig, ax = plt.subplots()\n",
    "\n",
    "ax.hist(chi(expected_counts,data), bins = 10, color ='red', alpha = 0.25, ec = 'k')\n",
    "ax.axvline((ob_c-ex)/math.sqrt(ex))\n",
    "\n"
   ]
  },
  {
   "cell_type": "code",
   "execution_count": 174,
   "metadata": {},
   "outputs": [
    {
     "data": {
      "text/plain": [
       "[0.1990489301924727,\n",
       " -0.6922149363409872,\n",
       " 0.49613688570362596,\n",
       " -0.09803902531868061,\n",
       " -0.3951269808298339,\n",
       " 0.49613688570362596,\n",
       " -0.6922149363409872,\n",
       " 1.387400752237086,\n",
       " -0.6922149363409872,\n",
       " 0.1990489301924727,\n",
       " 1.387400752237086,\n",
       " -1.583478802874447,\n",
       " -0.3951269808298339,\n",
       " 0.49613688570362596,\n",
       " -0.09803902531868061,\n",
       " -1.2863908473632937,\n",
       " -0.09803902531868061,\n",
       " 1.387400752237086,\n",
       " -0.3951269808298339,\n",
       " 0.7932248412147792,\n",
       " -0.3951269808298339,\n",
       " -0.3951269808298339,\n",
       " -0.3951269808298339,\n",
       " 0.7932248412147792,\n",
       " 0.49613688570362596,\n",
       " 0.49613688570362596,\n",
       " -0.9893028918521405,\n",
       " 1.0903127967259325,\n",
       " -0.6922149363409872,\n",
       " -0.3951269808298339,\n",
       " -0.3951269808298339,\n",
       " 0.7932248412147792,\n",
       " -0.3951269808298339,\n",
       " -0.6922149363409872,\n",
       " 0.7932248412147792,\n",
       " -0.09803902531868061,\n",
       " -0.09803902531868061,\n",
       " 0.1990489301924727,\n",
       " -0.09803902531868061,\n",
       " 1.6844887077482391,\n",
       " -0.6922149363409872,\n",
       " -0.9893028918521405,\n",
       " -0.3951269808298339,\n",
       " 0.49613688570362596,\n",
       " -0.09803902531868061,\n",
       " -0.09803902531868061,\n",
       " -1.2863908473632937,\n",
       " 1.387400752237086,\n",
       " -0.3951269808298339,\n",
       " 0.7932248412147792,\n",
       " -0.3951269808298339,\n",
       " 0.49613688570362596,\n",
       " -0.09803902531868061,\n",
       " -0.3951269808298339,\n",
       " 1.6844887077482391,\n",
       " 0.1990489301924727,\n",
       " -1.8805667583856003,\n",
       " -0.3951269808298339,\n",
       " 0.49613688570362596,\n",
       " -0.09803902531868061,\n",
       " -0.09803902531868061,\n",
       " 0.7932248412147792,\n",
       " -0.6922149363409872,\n",
       " 1.9815766632593923,\n",
       " -0.09803902531868061,\n",
       " -1.8805667583856003,\n",
       " -2.1776547138967537,\n",
       " 0.1990489301924727,\n",
       " 1.9815766632593923,\n",
       " 1.6844887077482391,\n",
       " -0.09803902531868061,\n",
       " -1.583478802874447,\n",
       " -0.6922149363409872,\n",
       " 0.1990489301924727,\n",
       " 0.49613688570362596,\n",
       " -0.6922149363409872,\n",
       " -0.3951269808298339,\n",
       " 1.0903127967259325,\n",
       " -0.09803902531868061,\n",
       " 0.49613688570362596,\n",
       " -0.3951269808298339,\n",
       " -0.09803902531868061,\n",
       " -0.09803902531868061,\n",
       " 0.1990489301924727,\n",
       " -0.09803902531868061,\n",
       " 0.7932248412147792,\n",
       " -0.6922149363409872,\n",
       " -0.09803902531868061,\n",
       " 0.49613688570362596,\n",
       " -0.3951269808298339,\n",
       " -1.2863908473632937,\n",
       " 1.6844887077482391,\n",
       " -0.3951269808298339,\n",
       " 0.1990489301924727,\n",
       " 0.7932248412147792,\n",
       " -0.9893028918521405,\n",
       " 1.0903127967259325,\n",
       " -0.09803902531868061,\n",
       " -0.9893028918521405,\n",
       " 1.6844887077482391,\n",
       " 0.1990489301924727,\n",
       " -1.8805667583856003,\n",
       " 0.49613688570362596,\n",
       " -0.6922149363409872,\n",
       " 0.1990489301924727,\n",
       " -0.6922149363409872,\n",
       " 0.7932248412147792,\n",
       " -0.09803902531868061,\n",
       " 0.1990489301924727,\n",
       " -0.6922149363409872,\n",
       " 0.49613688570362596,\n",
       " -0.09803902531868061,\n",
       " 0.49613688570362596,\n",
       " -0.3951269808298339,\n",
       " -0.3951269808298339,\n",
       " -0.09803902531868061,\n",
       " 0.49613688570362596,\n",
       " -0.3951269808298339,\n",
       " 1.387400752237086,\n",
       " -0.9893028918521405,\n",
       " 1.387400752237086,\n",
       " -2.1776547138967537,\n",
       " 0.7932248412147792,\n",
       " -0.3951269808298339,\n",
       " -0.6922149363409872,\n",
       " 1.0903127967259325,\n",
       " 0.1990489301924727,\n",
       " -0.3951269808298339,\n",
       " 0.1990489301924727,\n",
       " -0.3951269808298339,\n",
       " 0.1990489301924727,\n",
       " 0.1990489301924727,\n",
       " -0.09803902531868061,\n",
       " -0.6922149363409872,\n",
       " 0.7932248412147792,\n",
       " -0.3951269808298339,\n",
       " -0.3951269808298339,\n",
       " 0.7932248412147792,\n",
       " -0.09803902531868061,\n",
       " -0.09803902531868061,\n",
       " 0.1990489301924727,\n",
       " -0.9893028918521405,\n",
       " -0.3951269808298339,\n",
       " 1.387400752237086,\n",
       " 1.0903127967259325,\n",
       " 0.1990489301924727,\n",
       " -1.2863908473632937,\n",
       " 0.49613688570362596,\n",
       " 0.49613688570362596,\n",
       " -0.9893028918521405,\n",
       " 0.1990489301924727,\n",
       " -0.6922149363409872,\n",
       " 0.49613688570362596,\n",
       " 0.7932248412147792,\n",
       " -0.3951269808298339,\n",
       " -0.3951269808298339,\n",
       " -0.6922149363409872,\n",
       " 1.0903127967259325,\n",
       " -0.3951269808298339,\n",
       " 0.1990489301924727,\n",
       " -0.6922149363409872,\n",
       " 0.49613688570362596,\n",
       " 1.387400752237086,\n",
       " -0.3951269808298339,\n",
       " -0.9893028918521405,\n",
       " 0.1990489301924727,\n",
       " -0.3951269808298339,\n",
       " 0.1990489301924727,\n",
       " -1.8805667583856003,\n",
       " 2.2786646187705455,\n",
       " -0.3951269808298339,\n",
       " -0.09803902531868061,\n",
       " 0.49613688570362596,\n",
       " -0.3951269808298339,\n",
       " 0.49613688570362596,\n",
       " -0.9893028918521405,\n",
       " 0.49613688570362596,\n",
       " 1.387400752237086,\n",
       " -0.9893028918521405,\n",
       " -0.3951269808298339,\n",
       " 0.1990489301924727,\n",
       " -1.2863908473632937,\n",
       " 1.0903127967259325,\n",
       " 0.1990489301924727,\n",
       " 0.7932248412147792,\n",
       " -0.9893028918521405,\n",
       " 0.7932248412147792,\n",
       " 0.1990489301924727,\n",
       " -0.9893028918521405,\n",
       " -0.09803902531868061,\n",
       " 0.49613688570362596,\n",
       " -0.3951269808298339,\n",
       " 1.9815766632593923,\n",
       " -1.2863908473632937,\n",
       " -0.6922149363409872,\n",
       " -0.09803902531868061,\n",
       " -0.9893028918521405,\n",
       " 1.0903127967259325,\n",
       " -0.6922149363409872,\n",
       " -0.09803902531868061,\n",
       " 0.7932248412147792,\n",
       " -1.583478802874447,\n",
       " 1.6844887077482391,\n",
       " -0.09803902531868061,\n",
       " 0.49613688570362596,\n",
       " 1.0903127967259325,\n",
       " -1.583478802874447,\n",
       " -0.09803902531868061,\n",
       " -0.9893028918521405,\n",
       " 1.0903127967259325,\n",
       " -0.3951269808298339,\n",
       " -0.09803902531868061,\n",
       " 0.49613688570362596,\n",
       " 1.0903127967259325,\n",
       " 1.0903127967259325,\n",
       " -2.1776547138967537,\n",
       " 0.49613688570362596,\n",
       " 0.1990489301924727,\n",
       " -0.6922149363409872,\n",
       " -0.9893028918521405,\n",
       " 1.0903127967259325,\n",
       " -0.09803902531868061,\n",
       " -0.3951269808298339,\n",
       " -1.2863908473632937,\n",
       " 1.6844887077482391,\n",
       " -0.6922149363409872,\n",
       " 0.7932248412147792,\n",
       " -0.09803902531868061,\n",
       " -0.3951269808298339,\n",
       " -0.9893028918521405,\n",
       " 1.387400752237086,\n",
       " 0.7932248412147792,\n",
       " -0.6922149363409872,\n",
       " -0.09803902531868061,\n",
       " 1.387400752237086,\n",
       " -0.9893028918521405,\n",
       " -0.3951269808298339,\n",
       " -0.3951269808298339,\n",
       " -0.6922149363409872,\n",
       " 1.0903127967259325,\n",
       " 0.1990489301924727,\n",
       " -0.09803902531868061,\n",
       " -0.09803902531868061,\n",
       " -1.2863908473632937,\n",
       " 1.387400752237086,\n",
       " -0.09803902531868061,\n",
       " -0.3951269808298339,\n",
       " 0.49613688570362596,\n",
       " -0.09803902531868061,\n",
       " 0.49613688570362596,\n",
       " -0.09803902531868061,\n",
       " -0.3951269808298339,\n",
       " -0.09803902531868061,\n",
       " -0.09803902531868061,\n",
       " 0.1990489301924727,\n",
       " -0.6922149363409872,\n",
       " -0.09803902531868061,\n",
       " 0.7932248412147792,\n",
       " -0.3951269808298339,\n",
       " -0.9893028918521405,\n",
       " 1.387400752237086,\n",
       " -0.3951269808298339,\n",
       " 0.1990489301924727,\n",
       " 0.1990489301924727,\n",
       " 1.387400752237086,\n",
       " 0.49613688570362596,\n",
       " -1.8805667583856003,\n",
       " 0.7932248412147792,\n",
       " 1.0903127967259325,\n",
       " -1.8805667583856003,\n",
       " -0.3951269808298339,\n",
       " -0.6922149363409872,\n",
       " 1.0903127967259325,\n",
       " 0.1990489301924727,\n",
       " 0.49613688570362596,\n",
       " -0.6922149363409872,\n",
       " 0.49613688570362596,\n",
       " -0.9893028918521405,\n",
       " 0.49613688570362596,\n",
       " 0.7932248412147792,\n",
       " 0.1990489301924727,\n",
       " -0.9893028918521405,\n",
       " 0.49613688570362596,\n",
       " -0.3951269808298339,\n",
       " -0.09803902531868061,\n",
       " -1.2863908473632937,\n",
       " 1.387400752237086,\n",
       " -0.09803902531868061,\n",
       " 0.1990489301924727,\n",
       " -0.3951269808298339,\n",
       " 0.1990489301924727,\n",
       " -0.3951269808298339,\n",
       " 0.1990489301924727,\n",
       " 0.1990489301924727,\n",
       " 0.1990489301924727,\n",
       " -0.6922149363409872,\n",
       " 0.49613688570362596,\n",
       " 1.6844887077482391,\n",
       " -0.3951269808298339,\n",
       " -1.2863908473632937,\n",
       " 1.6844887077482391,\n",
       " -0.6922149363409872,\n",
       " -0.9893028918521405,\n",
       " 0.7932248412147792,\n",
       " 0.49613688570362596,\n",
       " -1.2863908473632937,\n",
       " 0.49613688570362596,\n",
       " -0.6922149363409872,\n",
       " 0.1990489301924727,\n",
       " -0.3951269808298339,\n",
       " -0.09803902531868061,\n",
       " 0.49613688570362596,\n",
       " -1.583478802874447,\n",
       " 0.49613688570362596,\n",
       " 1.0903127967259325,\n",
       " 0.1990489301924727,\n",
       " -0.3951269808298339,\n",
       " 0.1990489301924727,\n",
       " 1.0903127967259325,\n",
       " -0.6922149363409872,\n",
       " -0.3951269808298339,\n",
       " 0.7932248412147792,\n",
       " -0.9893028918521405,\n",
       " 0.1990489301924727,\n",
       " -0.3951269808298339,\n",
       " -0.3951269808298339,\n",
       " 0.7932248412147792,\n",
       " -1.583478802874447,\n",
       " 1.0903127967259325,\n",
       " 0.49613688570362596,\n",
       " 1.6844887077482391,\n",
       " -0.3951269808298339,\n",
       " -1.2863908473632937,\n",
       " -0.3951269808298339,\n",
       " 1.0903127967259325,\n",
       " -0.6922149363409872,\n",
       " 1.0903127967259325,\n",
       " -0.09803902531868061,\n",
       " -0.9893028918521405,\n",
       " -0.6922149363409872,\n",
       " 0.1990489301924727,\n",
       " 0.49613688570362596,\n",
       " -0.09803902531868061,\n",
       " -0.9893028918521405,\n",
       " 1.0903127967259325,\n",
       " 1.0903127967259325,\n",
       " 0.7932248412147792,\n",
       " -1.8805667583856003,\n",
       " -0.6922149363409872,\n",
       " 0.1990489301924727,\n",
       " 0.49613688570362596,\n",
       " 0.49613688570362596,\n",
       " -1.2863908473632937,\n",
       " 0.7932248412147792,\n",
       " -1.583478802874447,\n",
       " 0.1990489301924727,\n",
       " 1.387400752237086,\n",
       " -0.9893028918521405,\n",
       " 1.387400752237086,\n",
       " -0.3951269808298339,\n",
       " 0.1990489301924727,\n",
       " -1.2863908473632937,\n",
       " 1.0903127967259325,\n",
       " -0.09803902531868061,\n",
       " 1.387400752237086,\n",
       " -1.2863908473632937,\n",
       " -0.3951269808298339,\n",
       " 0.49613688570362596,\n",
       " -0.09803902531868061,\n",
       " -0.3951269808298339,\n",
       " -0.9893028918521405,\n",
       " 1.387400752237086,\n",
       " 0.7932248412147792,\n",
       " -0.9893028918521405,\n",
       " 0.1990489301924727,\n",
       " -0.09803902531868061,\n",
       " 0.49613688570362596,\n",
       " -0.3951269808298339,\n",
       " -0.3951269808298339,\n",
       " -0.6922149363409872,\n",
       " 1.0903127967259325,\n",
       " 0.7932248412147792,\n",
       " -0.9893028918521405,\n",
       " 0.1990489301924727,\n",
       " -1.8805667583856003,\n",
       " 1.0903127967259325,\n",
       " 0.7932248412147792,\n",
       " -0.09803902531868061,\n",
       " -0.09803902531868061,\n",
       " 0.1990489301924727,\n",
       " -0.3951269808298339,\n",
       " 0.7932248412147792,\n",
       " -0.3951269808298339,\n",
       " 1.6844887077482391,\n",
       " -1.2863908473632937,\n",
       " -0.3951269808298339,\n",
       " -0.3951269808298339,\n",
       " 0.7932248412147792,\n",
       " -0.3951269808298339,\n",
       " 0.7932248412147792,\n",
       " -0.9893028918521405,\n",
       " 0.1990489301924727,\n",
       " -0.3951269808298339,\n",
       " -0.09803902531868061,\n",
       " 0.49613688570362596,\n",
       " -0.9893028918521405,\n",
       " 1.387400752237086,\n",
       " -0.3951269808298339,\n",
       " 0.49613688570362596,\n",
       " -0.09803902531868061,\n",
       " -0.3951269808298339,\n",
       " 1.0903127967259325,\n",
       " -0.6922149363409872,\n",
       " -0.3951269808298339,\n",
       " 0.49613688570362596,\n",
       " -0.3951269808298339,\n",
       " -0.09803902531868061,\n",
       " 1.387400752237086,\n",
       " -1.2863908473632937,\n",
       " -0.09803902531868061,\n",
       " -0.3951269808298339,\n",
       " 1.0903127967259325,\n",
       " -0.6922149363409872,\n",
       " 1.387400752237086,\n",
       " -0.9893028918521405,\n",
       " -0.3951269808298339,\n",
       " -1.583478802874447,\n",
       " 2.8728405297928523,\n",
       " -1.2863908473632937,\n",
       " -0.3951269808298339,\n",
       " 0.1990489301924727,\n",
       " 0.1990489301924727,\n",
       " 0.1990489301924727,\n",
       " -0.6922149363409872,\n",
       " 0.49613688570362596,\n",
       " 0.7932248412147792,\n",
       " 0.1990489301924727,\n",
       " -0.9893028918521405,\n",
       " -1.2863908473632937,\n",
       " 1.6844887077482391,\n",
       " -0.3951269808298339,\n",
       " -0.09803902531868061,\n",
       " -0.09803902531868061,\n",
       " 0.1990489301924727,\n",
       " 1.0903127967259325,\n",
       " -0.3951269808298339,\n",
       " -0.6922149363409872,\n",
       " -0.3951269808298339,\n",
       " -0.6922149363409872,\n",
       " 1.0903127967259325,\n",
       " 1.6844887077482391,\n",
       " -1.2863908473632937,\n",
       " -0.3951269808298339,\n",
       " 1.0903127967259325,\n",
       " -0.6922149363409872,\n",
       " -0.3951269808298339,\n",
       " 1.387400752237086,\n",
       " -1.583478802874447,\n",
       " 0.1990489301924727,\n",
       " 0.1990489301924727,\n",
       " -0.09803902531868061,\n",
       " -0.09803902531868061,\n",
       " -0.6922149363409872,\n",
       " 0.7932248412147792,\n",
       " -0.09803902531868061,\n",
       " 2.2786646187705455,\n",
       " -0.6922149363409872,\n",
       " -1.583478802874447,\n",
       " -0.9893028918521405,\n",
       " 0.1990489301924727,\n",
       " 0.7932248412147792,\n",
       " 0.7932248412147792,\n",
       " -0.3951269808298339,\n",
       " -0.3951269808298339,\n",
       " -0.6922149363409872,\n",
       " -0.09803902531868061,\n",
       " 0.7932248412147792,\n",
       " -0.3951269808298339,\n",
       " -0.09803902531868061,\n",
       " 0.49613688570362596,\n",
       " 0.1990489301924727,\n",
       " -0.9893028918521405,\n",
       " 0.7932248412147792,\n",
       " 0.1990489301924727,\n",
       " 0.7932248412147792,\n",
       " -0.9893028918521405,\n",
       " -0.09803902531868061,\n",
       " -0.3951269808298339,\n",
       " 0.49613688570362596,\n",
       " 0.1990489301924727,\n",
       " 0.1990489301924727,\n",
       " -0.3951269808298339,\n",
       " -0.3951269808298339,\n",
       " 0.7932248412147792,\n",
       " -0.3951269808298339,\n",
       " -0.3951269808298339,\n",
       " -0.3951269808298339,\n",
       " 0.7932248412147792,\n",
       " -1.2863908473632937,\n",
       " 2.2786646187705455,\n",
       " -0.9893028918521405,\n",
       " -0.09803902531868061,\n",
       " -0.3951269808298339,\n",
       " 0.49613688570362596,\n",
       " -1.583478802874447,\n",
       " 2.8728405297928523,\n",
       " -1.2863908473632937,\n",
       " -0.3951269808298339,\n",
       " -0.09803902531868061,\n",
       " 0.49613688570362596,\n",
       " 1.387400752237086,\n",
       " -0.3951269808298339,\n",
       " -0.9893028918521405,\n",
       " -2.1776547138967537,\n",
       " 1.387400752237086,\n",
       " 0.7932248412147792,\n",
       " -0.3951269808298339,\n",
       " -0.09803902531868061,\n",
       " 0.49613688570362596,\n",
       " 1.387400752237086,\n",
       " 0.7932248412147792,\n",
       " -2.1776547138967537,\n",
       " -0.3951269808298339,\n",
       " -0.3951269808298339,\n",
       " 0.7932248412147792,\n",
       " 1.9815766632593923,\n",
       " -0.9893028918521405,\n",
       " -0.9893028918521405,\n",
       " 0.1990489301924727,\n",
       " -0.9893028918521405,\n",
       " 0.7932248412147792,\n",
       " 1.6844887077482391,\n",
       " -0.3951269808298339,\n",
       " -1.2863908473632937,\n",
       " 1.387400752237086,\n",
       " -0.9893028918521405,\n",
       " -0.3951269808298339,\n",
       " -0.9893028918521405,\n",
       " 1.387400752237086,\n",
       " -0.3951269808298339,\n",
       " -0.09803902531868061,\n",
       " 0.1990489301924727,\n",
       " -0.09803902531868061,\n",
       " -1.2863908473632937,\n",
       " -0.09803902531868061,\n",
       " 1.387400752237086,\n",
       " 0.1990489301924727,\n",
       " -1.2863908473632937,\n",
       " 1.0903127967259325,\n",
       " -0.6922149363409872,\n",
       " -0.09803902531868061,\n",
       " 0.7932248412147792,\n",
       " -1.2863908473632937,\n",
       " 0.49613688570362596,\n",
       " 0.7932248412147792,\n",
       " -0.3951269808298339,\n",
       " -1.583478802874447,\n",
       " 1.9815766632593923,\n",
       " 0.1990489301924727,\n",
       " 0.49613688570362596,\n",
       " -0.6922149363409872,\n",
       " 0.49613688570362596,\n",
       " -0.6922149363409872,\n",
       " 0.1990489301924727,\n",
       " 0.7932248412147792,\n",
       " -0.3951269808298339,\n",
       " -0.3951269808298339,\n",
       " -0.6922149363409872,\n",
       " 0.1990489301924727,\n",
       " 0.49613688570362596,\n",
       " 0.7932248412147792,\n",
       " -0.3951269808298339,\n",
       " -0.3951269808298339,\n",
       " 0.1990489301924727,\n",
       " -0.3951269808298339,\n",
       " 0.1990489301924727,\n",
       " 0.49613688570362596,\n",
       " -0.6922149363409872,\n",
       " 0.1990489301924727,\n",
       " -0.6922149363409872,\n",
       " -0.09803902531868061,\n",
       " 0.7932248412147792,\n",
       " -0.09803902531868061,\n",
       " 0.1990489301924727,\n",
       " -0.09803902531868061,\n",
       " 0.1990489301924727,\n",
       " -0.9893028918521405,\n",
       " 0.7932248412147792,\n",
       " 0.7932248412147792,\n",
       " 0.1990489301924727,\n",
       " -0.9893028918521405,\n",
       " 0.49613688570362596,\n",
       " -0.3951269808298339,\n",
       " -0.09803902531868061,\n",
       " 0.7932248412147792,\n",
       " -1.2863908473632937,\n",
       " 0.49613688570362596,\n",
       " -1.8805667583856003,\n",
       " 1.9815766632593923,\n",
       " -0.09803902531868061,\n",
       " 0.1990489301924727,\n",
       " -0.6922149363409872,\n",
       " 0.49613688570362596,\n",
       " 0.49613688570362596,\n",
       " -0.3951269808298339,\n",
       " -0.09803902531868061,\n",
       " 0.1990489301924727,\n",
       " 1.387400752237086,\n",
       " -1.583478802874447,\n",
       " -0.9893028918521405,\n",
       " 0.49613688570362596,\n",
       " 0.49613688570362596,\n",
       " 0.49613688570362596,\n",
       " -0.3951269808298339,\n",
       " -0.09803902531868061,\n",
       " -0.6922149363409872,\n",
       " -1.2863908473632937,\n",
       " 1.9815766632593923,\n",
       " -0.3951269808298339,\n",
       " -0.6922149363409872,\n",
       " 1.0903127967259325,\n",
       " -0.09803902531868061,\n",
       " -0.09803902531868061,\n",
       " 0.1990489301924727,\n",
       " -1.583478802874447,\n",
       " 1.0903127967259325,\n",
       " 0.49613688570362596,\n",
       " 0.49613688570362596,\n",
       " -0.09803902531868061,\n",
       " -0.3951269808298339,\n",
       " 0.1990489301924727,\n",
       " 0.1990489301924727,\n",
       " -0.3951269808298339,\n",
       " 0.7932248412147792,\n",
       " -0.9893028918521405,\n",
       " 0.1990489301924727,\n",
       " -0.09803902531868061,\n",
       " -0.09803902531868061,\n",
       " 0.1990489301924727,\n",
       " -0.6922149363409872,\n",
       " -0.3951269808298339,\n",
       " 1.0903127967259325,\n",
       " -0.09803902531868061,\n",
       " 1.0903127967259325,\n",
       " -0.9893028918521405,\n",
       " 1.0903127967259325,\n",
       " -0.9893028918521405,\n",
       " -0.09803902531868061,\n",
       " 0.49613688570362596,\n",
       " 0.1990489301924727,\n",
       " -0.6922149363409872,\n",
       " 0.1990489301924727,\n",
       " 0.49613688570362596,\n",
       " -0.6922149363409872,\n",
       " -0.3951269808298339,\n",
       " 0.49613688570362596,\n",
       " -0.09803902531868061,\n",
       " -0.3951269808298339,\n",
       " 1.0903127967259325,\n",
       " -0.6922149363409872,\n",
       " -0.9893028918521405,\n",
       " 0.7932248412147792,\n",
       " 0.1990489301924727,\n",
       " -0.6922149363409872,\n",
       " -0.6922149363409872,\n",
       " 1.387400752237086,\n",
       " -0.09803902531868061,\n",
       " -0.6922149363409872,\n",
       " 0.7932248412147792,\n",
       " 0.7932248412147792,\n",
       " -0.09803902531868061,\n",
       " -0.6922149363409872,\n",
       " -1.583478802874447,\n",
       " 0.7932248412147792,\n",
       " 0.7932248412147792,\n",
       " 0.49613688570362596,\n",
       " -0.9893028918521405,\n",
       " 0.49613688570362596,\n",
       " -0.09803902531868061,\n",
       " 0.49613688570362596,\n",
       " -0.3951269808298339,\n",
       " 1.6844887077482391,\n",
       " -0.3951269808298339,\n",
       " -1.2863908473632937,\n",
       " 0.1990489301924727,\n",
       " 1.0903127967259325,\n",
       " -1.2863908473632937,\n",
       " 0.1990489301924727,\n",
       " 0.1990489301924727,\n",
       " -0.3951269808298339,\n",
       " -0.9893028918521405,\n",
       " -0.6922149363409872,\n",
       " 1.6844887077482391,\n",
       " 0.1990489301924727,\n",
       " -0.6922149363409872,\n",
       " 0.49613688570362596,\n",
       " 0.1990489301924727,\n",
       " 0.1990489301924727,\n",
       " -0.3951269808298339,\n",
       " 1.0903127967259325,\n",
       " -0.6922149363409872,\n",
       " -0.3951269808298339,\n",
       " 0.49613688570362596,\n",
       " 0.49613688570362596,\n",
       " -0.9893028918521405,\n",
       " 0.7932248412147792,\n",
       " -0.9893028918521405,\n",
       " 0.1990489301924727,\n",
       " -0.3951269808298339,\n",
       " 0.1990489301924727,\n",
       " 0.1990489301924727,\n",
       " -2.1776547138967537,\n",
       " 1.387400752237086,\n",
       " 0.7932248412147792,\n",
       " 0.1990489301924727,\n",
       " -0.6922149363409872,\n",
       " 0.49613688570362596,\n",
       " 1.387400752237086,\n",
       " -0.3951269808298339,\n",
       " -0.9893028918521405,\n",
       " -1.583478802874447,\n",
       " 0.1990489301924727,\n",
       " 1.387400752237086,\n",
       " -0.6922149363409872,\n",
       " 0.1990489301924727,\n",
       " 0.49613688570362596,\n",
       " 0.7932248412147792,\n",
       " 0.1990489301924727,\n",
       " -0.9893028918521405,\n",
       " 0.7932248412147792,\n",
       " -0.9893028918521405,\n",
       " 0.1990489301924727,\n",
       " -0.3951269808298339,\n",
       " 0.1990489301924727,\n",
       " 0.1990489301924727,\n",
       " 0.7932248412147792,\n",
       " 0.1990489301924727,\n",
       " -0.9893028918521405,\n",
       " -0.9893028918521405,\n",
       " 0.7932248412147792,\n",
       " 0.1990489301924727,\n",
       " -1.583478802874447,\n",
       " 1.9815766632593923,\n",
       " -0.3951269808298339,\n",
       " 0.49613688570362596,\n",
       " -0.09803902531868061,\n",
       " -0.3951269808298339,\n",
       " 1.0903127967259325,\n",
       " -0.3951269808298339,\n",
       " -0.6922149363409872,\n",
       " 0.1990489301924727,\n",
       " -0.3951269808298339,\n",
       " 0.1990489301924727,\n",
       " -0.3951269808298339,\n",
       " 0.1990489301924727,\n",
       " 0.1990489301924727,\n",
       " -0.9893028918521405,\n",
       " 0.49613688570362596,\n",
       " 0.49613688570362596,\n",
       " 0.7932248412147792,\n",
       " -1.2863908473632937,\n",
       " 0.49613688570362596,\n",
       " -0.3951269808298339,\n",
       " -0.9893028918521405,\n",
       " 1.387400752237086,\n",
       " 0.49613688570362596,\n",
       " 0.1990489301924727,\n",
       " -0.6922149363409872,\n",
       " -0.09803902531868061,\n",
       " 0.1990489301924727,\n",
       " -0.09803902531868061,\n",
       " 0.1990489301924727,\n",
       " -0.09803902531868061,\n",
       " -0.09803902531868061,\n",
       " -1.2863908473632937,\n",
       " 0.1990489301924727,\n",
       " 1.0903127967259325,\n",
       " 1.0903127967259325,\n",
       " 0.49613688570362596,\n",
       " -1.583478802874447,\n",
       " -0.3951269808298339,\n",
       " 0.1990489301924727,\n",
       " 0.1990489301924727,\n",
       " -0.9893028918521405,\n",
       " 1.9815766632593923,\n",
       " -0.9893028918521405,\n",
       " -0.9893028918521405,\n",
       " 1.9815766632593923,\n",
       " -0.9893028918521405,\n",
       " -0.09803902531868061,\n",
       " -1.2863908473632937,\n",
       " 1.387400752237086,\n",
       " 0.1990489301924727,\n",
       " -0.09803902531868061,\n",
       " -0.09803902531868061,\n",
       " 0.49613688570362596,\n",
       " -0.09803902531868061,\n",
       " -0.3951269808298339,\n",
       " -0.6922149363409872,\n",
       " 0.1990489301924727,\n",
       " 0.49613688570362596,\n",
       " -0.6922149363409872,\n",
       " 0.7932248412147792,\n",
       " -0.09803902531868061,\n",
       " -0.09803902531868061,\n",
       " -0.6922149363409872,\n",
       " 0.7932248412147792,\n",
       " 0.1990489301924727,\n",
       " 0.1990489301924727,\n",
       " -0.3951269808298339,\n",
       " 0.49613688570362596,\n",
       " -0.3951269808298339,\n",
       " -0.09803902531868061,\n",
       " -0.9893028918521405,\n",
       " -1.2863908473632937,\n",
       " 2.2786646187705455,\n",
       " -0.09803902531868061,\n",
       " -0.9893028918521405,\n",
       " 1.0903127967259325,\n",
       " -0.6922149363409872,\n",
       " 0.7932248412147792,\n",
       " -0.09803902531868061,\n",
       " 0.49613688570362596,\n",
       " -0.3951269808298339,\n",
       " -0.09803902531868061,\n",
       " 0.49613688570362596,\n",
       " -1.2863908473632937,\n",
       " 0.7932248412147792,\n",
       " 1.0903127967259325,\n",
       " -1.583478802874447,\n",
       " 0.49613688570362596,\n",
       " 0.49613688570362596,\n",
       " -0.09803902531868061,\n",
       " -0.3951269808298339,\n",
       " 0.7932248412147792,\n",
       " 0.1990489301924727,\n",
       " -0.9893028918521405,\n",
       " 0.1990489301924727,\n",
       " -0.09803902531868061,\n",
       " -0.09803902531868061,\n",
       " -0.6922149363409872,\n",
       " -0.3951269808298339,\n",
       " 1.0903127967259325,\n",
       " -0.6922149363409872,\n",
       " -0.09803902531868061,\n",
       " 0.7932248412147792,\n",
       " -0.9893028918521405,\n",
       " 1.0903127967259325,\n",
       " -0.09803902531868061,\n",
       " 0.49613688570362596,\n",
       " 0.1990489301924727,\n",
       " -0.6922149363409872,\n",
       " 0.1990489301924727,\n",
       " -0.09803902531868061,\n",
       " -0.09803902531868061,\n",
       " 0.49613688570362596,\n",
       " 0.49613688570362596,\n",
       " -0.9893028918521405,\n",
       " 1.0903127967259325,\n",
       " -0.9893028918521405,\n",
       " -0.09803902531868061,\n",
       " 0.49613688570362596,\n",
       " 0.49613688570362596,\n",
       " -0.9893028918521405,\n",
       " -0.09803902531868061,\n",
       " -0.09803902531868061,\n",
       " 0.1990489301924727,\n",
       " 0.1990489301924727,\n",
       " -0.09803902531868061,\n",
       " -0.09803902531868061,\n",
       " 0.7932248412147792,\n",
       " -0.09803902531868061,\n",
       " -0.6922149363409872,\n",
       " 0.1990489301924727,\n",
       " -0.09803902531868061,\n",
       " -0.09803902531868061,\n",
       " -0.9893028918521405,\n",
       " 1.0903127967259325,\n",
       " -0.09803902531868061,\n",
       " -0.09803902531868061,\n",
       " 0.1990489301924727,\n",
       " -0.09803902531868061,\n",
       " 1.0903127967259325,\n",
       " -0.3951269808298339,\n",
       " -0.6922149363409872,\n",
       " 0.7932248412147792,\n",
       " -0.6922149363409872,\n",
       " -0.09803902531868061,\n",
       " -0.6922149363409872,\n",
       " 0.7932248412147792,\n",
       " -0.09803902531868061,\n",
       " -0.09803902531868061,\n",
       " 0.49613688570362596,\n",
       " -0.3951269808298339,\n",
       " 1.0903127967259325,\n",
       " -0.09803902531868061,\n",
       " -0.9893028918521405,\n",
       " -0.9893028918521405,\n",
       " -0.9893028918521405,\n",
       " 1.9815766632593923,\n",
       " 1.0903127967259325,\n",
       " -0.6922149363409872,\n",
       " -0.3951269808298339,\n",
       " -0.09803902531868061,\n",
       " -0.09803902531868061,\n",
       " 0.1990489301924727,\n",
       " 0.1990489301924727,\n",
       " -0.6922149363409872,\n",
       " 0.49613688570362596,\n",
       " -1.2863908473632937,\n",
       " 0.1990489301924727,\n",
       " 1.0903127967259325,\n",
       " 0.1990489301924727,\n",
       " -0.9893028918521405,\n",
       " 0.7932248412147792,\n",
       " 0.49613688570362596,\n",
       " -0.3951269808298339,\n",
       " -0.09803902531868061,\n",
       " -1.2863908473632937,\n",
       " 0.1990489301924727,\n",
       " 1.0903127967259325,\n",
       " 0.49613688570362596,\n",
       " -0.09803902531868061,\n",
       " -0.3951269808298339,\n",
       " -0.6922149363409872,\n",
       " 0.1990489301924727,\n",
       " 0.49613688570362596,\n",
       " 0.1990489301924727,\n",
       " -0.09803902531868061,\n",
       " -0.09803902531868061,\n",
       " -0.09803902531868061,\n",
       " 0.1990489301924727,\n",
       " -0.09803902531868061,\n",
       " 0.1990489301924727,\n",
       " -0.09803902531868061,\n",
       " -0.09803902531868061,\n",
       " 0.1990489301924727,\n",
       " -0.6922149363409872,\n",
       " 0.49613688570362596,\n",
       " -0.09803902531868061,\n",
       " -0.9893028918521405,\n",
       " 1.0903127967259325,\n",
       " 0.1990489301924727,\n",
       " 0.1990489301924727,\n",
       " -0.3951269808298339,\n",
       " 0.1990489301924727,\n",
       " -0.09803902531868061,\n",
       " -0.09803902531868061,\n",
       " 1.387400752237086,\n",
       " 0.1990489301924727,\n",
       " -1.583478802874447,\n",
       " -0.09803902531868061,\n",
       " 0.7932248412147792,\n",
       " -0.6922149363409872,\n",
       " 0.7932248412147792,\n",
       " -0.09803902531868061,\n",
       " -0.6922149363409872,\n",
       " 0.1990489301924727,\n",
       " -0.6922149363409872,\n",
       " 0.49613688570362596,\n",
       " 1.387400752237086,\n",
       " -0.9893028918521405,\n",
       " -0.3951269808298339,\n",
       " -1.2863908473632937,\n",
       " -0.09803902531868061,\n",
       " 1.387400752237086,\n",
       " 0.1990489301924727,\n",
       " -0.6922149363409872,\n",
       " 0.49613688570362596,\n",
       " 1.6844887077482391,\n",
       " -0.9893028918521405,\n",
       " -0.6922149363409872,\n",
       " 0.49613688570362596,\n",
       " -0.09803902531868061,\n",
       " -0.3951269808298339,\n",
       " -0.9893028918521405,\n",
       " -0.09803902531868061,\n",
       " 1.0903127967259325,\n",
       " 0.1990489301924727,\n",
       " -0.6922149363409872,\n",
       " 0.49613688570362596,\n",
       " -0.9893028918521405,\n",
       " 0.1990489301924727,\n",
       " 0.7932248412147792,\n",
       " -0.6922149363409872,\n",
       " 0.49613688570362596,\n",
       " 0.1990489301924727,\n",
       " -0.3951269808298339,\n",
       " -0.09803902531868061,\n",
       " 0.49613688570362596,\n",
       " -0.6922149363409872,\n",
       " -0.09803902531868061,\n",
       " 0.7932248412147792,\n",
       " 1.0903127967259325,\n",
       " -0.09803902531868061,\n",
       " -0.9893028918521405,\n",
       " -0.9893028918521405,\n",
       " 0.7932248412147792,\n",
       " 0.1990489301924727,\n",
       " 0.7932248412147792,\n",
       " ...]"
      ]
     },
     "execution_count": 174,
     "metadata": {},
     "output_type": "execute_result"
    }
   ],
   "source": [
    "chi(expected_counts,data)"
   ]
  },
  {
   "cell_type": "code",
   "execution_count": 185,
   "metadata": {},
   "outputs": [],
   "source": [
    "## chi square test\n",
    "from scipy import stats as stats\n",
    "clicks = pd.read_csv('E:\\machine_learning_projects\\Statistics for Data Science\\Stat test and Significance\\click_rates.csv')\n",
    "clicks = clicks.pivot(index = 'Click', columns = 'Headline', values = 'Rate') ## Pivot method to chage the shape of the Dataframe"
   ]
  },
  {
   "cell_type": "code",
   "execution_count": 189,
   "metadata": {},
   "outputs": [
    {
     "data": {
      "text/html": [
       "<div>\n",
       "<style scoped>\n",
       "    .dataframe tbody tr th:only-of-type {\n",
       "        vertical-align: middle;\n",
       "    }\n",
       "\n",
       "    .dataframe tbody tr th {\n",
       "        vertical-align: top;\n",
       "    }\n",
       "\n",
       "    .dataframe thead th {\n",
       "        text-align: right;\n",
       "    }\n",
       "</style>\n",
       "<table border=\"1\" class=\"dataframe\">\n",
       "  <thead>\n",
       "    <tr style=\"text-align: right;\">\n",
       "      <th>Headline</th>\n",
       "      <th>Headline A</th>\n",
       "      <th>Headline B</th>\n",
       "      <th>Headline C</th>\n",
       "    </tr>\n",
       "    <tr>\n",
       "      <th>Click</th>\n",
       "      <th></th>\n",
       "      <th></th>\n",
       "      <th></th>\n",
       "    </tr>\n",
       "  </thead>\n",
       "  <tbody>\n",
       "    <tr>\n",
       "      <th>Click</th>\n",
       "      <td>14</td>\n",
       "      <td>8</td>\n",
       "      <td>12</td>\n",
       "    </tr>\n",
       "    <tr>\n",
       "      <th>No-click</th>\n",
       "      <td>986</td>\n",
       "      <td>992</td>\n",
       "      <td>988</td>\n",
       "    </tr>\n",
       "  </tbody>\n",
       "</table>\n",
       "</div>"
      ],
      "text/plain": [
       "Headline  Headline A  Headline B  Headline C\n",
       "Click                                       \n",
       "Click             14           8          12\n",
       "No-click         986         992         988"
      ]
     },
     "execution_count": 189,
     "metadata": {},
     "output_type": "execute_result"
    }
   ],
   "source": [
    "clicks"
   ]
  },
  {
   "cell_type": "code",
   "execution_count": 195,
   "metadata": {},
   "outputs": [
    {
     "name": "stdout",
     "output_type": "stream",
     "text": [
      "Observed chi2 valu : 1.6659394708658917\n",
      "P value : 0.4347562562343731\n"
     ]
    }
   ],
   "source": [
    "ch2_value, pvalue,df, expected = stats.chi2_contingency(clicks)\n",
    "print(f'Observed chi2 valu : {ch2_value}')\n",
    "print(f\"P value : {pvalue}\")"
   ]
  },
  {
   "cell_type": "code",
   "execution_count": null,
   "metadata": {},
   "outputs": [],
   "source": []
  }
 ],
 "metadata": {
  "interpreter": {
   "hash": "b4e8f4f1c3b8324d6d16cd48f41ad5638240ba994d2f06302ae6e77a116c172c"
  },
  "kernelspec": {
   "display_name": "Python 3.9.7 64-bit ('machine_learning': venv)",
   "name": "python3"
  },
  "language_info": {
   "codemirror_mode": {
    "name": "ipython",
    "version": 3
   },
   "file_extension": ".py",
   "mimetype": "text/x-python",
   "name": "python",
   "nbconvert_exporter": "python",
   "pygments_lexer": "ipython3",
   "version": "3.9.7"
  },
  "orig_nbformat": 4
 },
 "nbformat": 4,
 "nbformat_minor": 2
}
