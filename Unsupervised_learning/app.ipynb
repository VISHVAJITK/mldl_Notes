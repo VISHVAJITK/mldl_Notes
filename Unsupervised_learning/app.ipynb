{
 "cells": [
  {
   "cell_type": "markdown",
   "metadata": {},
   "source": [
    "## Unsupervised learning will be usefull for\n",
    "### Clustering\n",
    "### Dimentinality reduction\n",
    "### Exploratory data Analysis "
   ]
  },
  {
   "cell_type": "markdown",
   "metadata": {},
   "source": [
    "# Principal Components Analysis\n",
    "![purple-divider](https://user-images.githubusercontent.com/7065401/52071927-c1cd7100-2562-11e9-908a-dde91ba14e59.png)"
   ]
  },
  {
   "cell_type": "markdown",
   "metadata": {},
   "source": [
    "# Key Terms for Principal Components Analysis\n",
    "## #Principal component\n",
    "A linear combination of the predictor variables.\n",
    "## #Loadings\n",
    "The weights that transform the predictors into the components.\n",
    "Synonym\n",
    "Weights\n",
    "## #Screeplot\n",
    "A plot of the variances of the components, showing the relative importance of the\n",
    "components, either as explained variance or as proportion of explained variance."
   ]
  },
  {
   "cell_type": "code",
   "execution_count": 26,
   "metadata": {},
   "outputs": [],
   "source": [
    "import pandas as pd\n",
    "import numpy as np\n",
    "import matplotlib.pyplot as plt\n",
    "import seaborn as sns"
   ]
  },
  {
   "cell_type": "code",
   "execution_count": 2,
   "metadata": {},
   "outputs": [
    {
     "data": {
      "text/html": [
       "<div>\n",
       "<style scoped>\n",
       "    .dataframe tbody tr th:only-of-type {\n",
       "        vertical-align: middle;\n",
       "    }\n",
       "\n",
       "    .dataframe tbody tr th {\n",
       "        vertical-align: top;\n",
       "    }\n",
       "\n",
       "    .dataframe thead th {\n",
       "        text-align: right;\n",
       "    }\n",
       "</style>\n",
       "<table border=\"1\" class=\"dataframe\">\n",
       "  <thead>\n",
       "    <tr style=\"text-align: right;\">\n",
       "      <th></th>\n",
       "      <th>ADS</th>\n",
       "      <th>CA</th>\n",
       "      <th>MSFT</th>\n",
       "      <th>RHT</th>\n",
       "      <th>CTSH</th>\n",
       "      <th>CSC</th>\n",
       "      <th>EMC</th>\n",
       "      <th>IBM</th>\n",
       "      <th>XRX</th>\n",
       "      <th>ALTR</th>\n",
       "      <th>...</th>\n",
       "      <th>WAT</th>\n",
       "      <th>ALXN</th>\n",
       "      <th>AMGN</th>\n",
       "      <th>BXLT</th>\n",
       "      <th>BIIB</th>\n",
       "      <th>CELG</th>\n",
       "      <th>GILD</th>\n",
       "      <th>REGN</th>\n",
       "      <th>VRTX</th>\n",
       "      <th>HSIC</th>\n",
       "    </tr>\n",
       "  </thead>\n",
       "  <tbody>\n",
       "    <tr>\n",
       "      <th>1993-01-29</th>\n",
       "      <td>0.0</td>\n",
       "      <td>0.060124</td>\n",
       "      <td>-0.022100</td>\n",
       "      <td>0.0</td>\n",
       "      <td>0.0</td>\n",
       "      <td>0.018897</td>\n",
       "      <td>0.007368</td>\n",
       "      <td>0.092165</td>\n",
       "      <td>0.259140</td>\n",
       "      <td>-0.007105</td>\n",
       "      <td>...</td>\n",
       "      <td>0.0</td>\n",
       "      <td>0.0</td>\n",
       "      <td>0.34716</td>\n",
       "      <td>0.0</td>\n",
       "      <td>0.04167</td>\n",
       "      <td>0.00000</td>\n",
       "      <td>0.015564</td>\n",
       "      <td>1.75</td>\n",
       "      <td>0.1250</td>\n",
       "      <td>0.0</td>\n",
       "    </tr>\n",
       "    <tr>\n",
       "      <th>1993-02-01</th>\n",
       "      <td>0.0</td>\n",
       "      <td>-0.180389</td>\n",
       "      <td>0.027621</td>\n",
       "      <td>0.0</td>\n",
       "      <td>0.0</td>\n",
       "      <td>0.018889</td>\n",
       "      <td>0.018425</td>\n",
       "      <td>0.115207</td>\n",
       "      <td>-0.100775</td>\n",
       "      <td>0.063893</td>\n",
       "      <td>...</td>\n",
       "      <td>0.0</td>\n",
       "      <td>0.0</td>\n",
       "      <td>-0.23144</td>\n",
       "      <td>0.0</td>\n",
       "      <td>0.00000</td>\n",
       "      <td>-0.01041</td>\n",
       "      <td>0.007782</td>\n",
       "      <td>1.25</td>\n",
       "      <td>0.1250</td>\n",
       "      <td>0.0</td>\n",
       "    </tr>\n",
       "    <tr>\n",
       "      <th>1993-02-02</th>\n",
       "      <td>0.0</td>\n",
       "      <td>-0.120257</td>\n",
       "      <td>0.035900</td>\n",
       "      <td>0.0</td>\n",
       "      <td>0.0</td>\n",
       "      <td>-0.075573</td>\n",
       "      <td>0.029482</td>\n",
       "      <td>-0.023041</td>\n",
       "      <td>0.028796</td>\n",
       "      <td>-0.014192</td>\n",
       "      <td>...</td>\n",
       "      <td>0.0</td>\n",
       "      <td>0.0</td>\n",
       "      <td>-0.11572</td>\n",
       "      <td>0.0</td>\n",
       "      <td>0.00000</td>\n",
       "      <td>0.00000</td>\n",
       "      <td>-0.007792</td>\n",
       "      <td>-0.25</td>\n",
       "      <td>0.0000</td>\n",
       "      <td>0.0</td>\n",
       "    </tr>\n",
       "    <tr>\n",
       "      <th>1993-02-03</th>\n",
       "      <td>0.0</td>\n",
       "      <td>0.060124</td>\n",
       "      <td>-0.024857</td>\n",
       "      <td>0.0</td>\n",
       "      <td>0.0</td>\n",
       "      <td>-0.151128</td>\n",
       "      <td>0.003689</td>\n",
       "      <td>-0.253454</td>\n",
       "      <td>-0.043190</td>\n",
       "      <td>-0.007105</td>\n",
       "      <td>...</td>\n",
       "      <td>0.0</td>\n",
       "      <td>0.0</td>\n",
       "      <td>-0.08679</td>\n",
       "      <td>0.0</td>\n",
       "      <td>0.04167</td>\n",
       "      <td>-0.04167</td>\n",
       "      <td>-0.038919</td>\n",
       "      <td>-0.50</td>\n",
       "      <td>0.0625</td>\n",
       "      <td>0.0</td>\n",
       "    </tr>\n",
       "    <tr>\n",
       "      <th>1993-02-04</th>\n",
       "      <td>0.0</td>\n",
       "      <td>-0.360770</td>\n",
       "      <td>-0.060757</td>\n",
       "      <td>0.0</td>\n",
       "      <td>0.0</td>\n",
       "      <td>0.113350</td>\n",
       "      <td>-0.022114</td>\n",
       "      <td>0.069862</td>\n",
       "      <td>0.000000</td>\n",
       "      <td>-0.007096</td>\n",
       "      <td>...</td>\n",
       "      <td>0.0</td>\n",
       "      <td>0.0</td>\n",
       "      <td>0.14465</td>\n",
       "      <td>0.0</td>\n",
       "      <td>-0.04166</td>\n",
       "      <td>-0.03126</td>\n",
       "      <td>-0.046711</td>\n",
       "      <td>0.00</td>\n",
       "      <td>0.0625</td>\n",
       "      <td>0.0</td>\n",
       "    </tr>\n",
       "  </tbody>\n",
       "</table>\n",
       "<p>5 rows × 517 columns</p>\n",
       "</div>"
      ],
      "text/plain": [
       "            ADS        CA      MSFT  RHT  CTSH       CSC       EMC       IBM  \\\n",
       "1993-01-29  0.0  0.060124 -0.022100  0.0   0.0  0.018897  0.007368  0.092165   \n",
       "1993-02-01  0.0 -0.180389  0.027621  0.0   0.0  0.018889  0.018425  0.115207   \n",
       "1993-02-02  0.0 -0.120257  0.035900  0.0   0.0 -0.075573  0.029482 -0.023041   \n",
       "1993-02-03  0.0  0.060124 -0.024857  0.0   0.0 -0.151128  0.003689 -0.253454   \n",
       "1993-02-04  0.0 -0.360770 -0.060757  0.0   0.0  0.113350 -0.022114  0.069862   \n",
       "\n",
       "                 XRX      ALTR  ...  WAT  ALXN     AMGN  BXLT     BIIB  \\\n",
       "1993-01-29  0.259140 -0.007105  ...  0.0   0.0  0.34716   0.0  0.04167   \n",
       "1993-02-01 -0.100775  0.063893  ...  0.0   0.0 -0.23144   0.0  0.00000   \n",
       "1993-02-02  0.028796 -0.014192  ...  0.0   0.0 -0.11572   0.0  0.00000   \n",
       "1993-02-03 -0.043190 -0.007105  ...  0.0   0.0 -0.08679   0.0  0.04167   \n",
       "1993-02-04  0.000000 -0.007096  ...  0.0   0.0  0.14465   0.0 -0.04166   \n",
       "\n",
       "               CELG      GILD  REGN    VRTX  HSIC  \n",
       "1993-01-29  0.00000  0.015564  1.75  0.1250   0.0  \n",
       "1993-02-01 -0.01041  0.007782  1.25  0.1250   0.0  \n",
       "1993-02-02  0.00000 -0.007792 -0.25  0.0000   0.0  \n",
       "1993-02-03 -0.04167 -0.038919 -0.50  0.0625   0.0  \n",
       "1993-02-04 -0.03126 -0.046711  0.00  0.0625   0.0  \n",
       "\n",
       "[5 rows x 517 columns]"
      ]
     },
     "execution_count": 2,
     "metadata": {},
     "output_type": "execute_result"
    }
   ],
   "source": [
    "\n",
    "sp500_px  = pd.read_csv('sp500_data.csv', index_col= 0)\n",
    "sp500_px.head()\n"
   ]
  },
  {
   "cell_type": "code",
   "execution_count": 3,
   "metadata": {},
   "outputs": [
    {
     "data": {
      "text/html": [
       "<div>\n",
       "<style scoped>\n",
       "    .dataframe tbody tr th:only-of-type {\n",
       "        vertical-align: middle;\n",
       "    }\n",
       "\n",
       "    .dataframe tbody tr th {\n",
       "        vertical-align: top;\n",
       "    }\n",
       "\n",
       "    .dataframe thead th {\n",
       "        text-align: right;\n",
       "    }\n",
       "</style>\n",
       "<table border=\"1\" class=\"dataframe\">\n",
       "  <thead>\n",
       "    <tr style=\"text-align: right;\">\n",
       "      <th></th>\n",
       "      <th>XOM</th>\n",
       "      <th>CVX</th>\n",
       "    </tr>\n",
       "  </thead>\n",
       "  <tbody>\n",
       "    <tr>\n",
       "      <th>1993-01-29</th>\n",
       "      <td>-0.016991</td>\n",
       "      <td>0.072921</td>\n",
       "    </tr>\n",
       "    <tr>\n",
       "      <th>1993-02-01</th>\n",
       "      <td>0.016991</td>\n",
       "      <td>0.102089</td>\n",
       "    </tr>\n",
       "    <tr>\n",
       "      <th>1993-02-02</th>\n",
       "      <td>0.084954</td>\n",
       "      <td>0.029168</td>\n",
       "    </tr>\n",
       "    <tr>\n",
       "      <th>1993-02-03</th>\n",
       "      <td>0.067964</td>\n",
       "      <td>0.058337</td>\n",
       "    </tr>\n",
       "    <tr>\n",
       "      <th>1993-02-04</th>\n",
       "      <td>0.034378</td>\n",
       "      <td>0.044272</td>\n",
       "    </tr>\n",
       "  </tbody>\n",
       "</table>\n",
       "</div>"
      ],
      "text/plain": [
       "                 XOM       CVX\n",
       "1993-01-29 -0.016991  0.072921\n",
       "1993-02-01  0.016991  0.102089\n",
       "1993-02-02  0.084954  0.029168\n",
       "1993-02-03  0.067964  0.058337\n",
       "1993-02-04  0.034378  0.044272"
      ]
     },
     "execution_count": 3,
     "metadata": {},
     "output_type": "execute_result"
    }
   ],
   "source": [
    "oil_px = sp500_px.loc[:,['XOM', 'CVX' ]]\n",
    "oil_px.head()"
   ]
  },
  {
   "cell_type": "code",
   "execution_count": 4,
   "metadata": {},
   "outputs": [
    {
     "data": {
      "text/plain": [
       "PCA(n_components=2)"
      ]
     },
     "execution_count": 4,
     "metadata": {},
     "output_type": "execute_result"
    }
   ],
   "source": [
    "from sklearn.decomposition import PCA\n",
    "psc = PCA(n_components= 2)\n",
    "psc.fit(oil_px)"
   ]
  },
  {
   "cell_type": "code",
   "execution_count": 5,
   "metadata": {},
   "outputs": [
    {
     "name": "stdout",
     "output_type": "stream",
     "text": [
      "        XOM       CVX\n",
      "0 -0.664711 -0.747101\n",
      "1  0.747101 -0.664711\n"
     ]
    }
   ],
   "source": [
    "loadings = pd.DataFrame(psc.components_, columns=oil_px.columns)\n",
    "print(loadings)"
   ]
  },
  {
   "cell_type": "markdown",
   "metadata": {},
   "source": [
    "#  Scree Plot"
   ]
  },
  {
   "cell_type": "code",
   "execution_count": 35,
   "metadata": {},
   "outputs": [
    {
     "name": "stdout",
     "output_type": "stream",
     "text": [
      "<class 'pandas.core.frame.DataFrame'>\n",
      "Index: 5647 entries, 1993-01-29 to 2015-07-01\n",
      "Columns: 517 entries, ADS to HSIC\n",
      "dtypes: float64(517)\n",
      "memory usage: 22.3+ MB\n"
     ]
    }
   ],
   "source": [
    "sp500_px.info()"
   ]
  },
  {
   "cell_type": "code",
   "execution_count": 6,
   "metadata": {},
   "outputs": [
    {
     "data": {
      "text/plain": [
       "PCA()"
      ]
     },
     "execution_count": 6,
     "metadata": {},
     "output_type": "execute_result"
    }
   ],
   "source": [
    "syms = sorted(['AAPL', 'MSFT', 'CSCO', 'INTC', 'CVX', 'XOM', 'SLB', 'COP',\n",
    "        'JPM', 'WFC', 'USB', 'AXP', 'WMT', 'TGT', 'HD', 'COST'])\n",
    "top_sp = sp500_px.loc[sp500_px.index >= '2011-01-01', syms]\n",
    "\n",
    "sp_pca = PCA()\n",
    "sp_pca.fit(top_sp)"
   ]
  },
  {
   "cell_type": "code",
   "execution_count": 42,
   "metadata": {},
   "outputs": [
    {
     "data": {
      "text/plain": [
       "<BarContainer object of 16 artists>"
      ]
     },
     "execution_count": 42,
     "metadata": {},
     "output_type": "execute_result"
    },
    {
     "data": {
      "image/png": "[encoded data removed]",
      "text/plain": [
       "<Figure size 432x288 with 1 Axes>"
      ]
     },
     "metadata": {
      "needs_background": "light"
     },
     "output_type": "display_data"
    }
   ],
   "source": [
    "\n",
    "## plotting\n",
    "\n",
    "fig, ax = plt.subplots()\n",
    "\n",
    "ax.bar(range(1,sp_pca.n_components_+1),sp_pca.explained_variance_ )"
   ]
  },
  {
   "cell_type": "code",
   "execution_count": 66,
   "metadata": {},
   "outputs": [
    {
     "data": {
      "image/png": "[encoded data removed]",
      "text/plain": [
       "<Figure size 360x360 with 5 Axes>"
      ]
     },
     "metadata": {
      "needs_background": "light"
     },
     "output_type": "display_data"
    }
   ],
   "source": [
    "loadings = pd.DataFrame(sp_pca.components_[0:5, :], columns=top_sp.columns)\n",
    "maxPC = 1.01 * np.max(np.max(np.abs(loadings.loc[0:5, :])))\n",
    "f, axes = plt.subplots(5, 1, figsize=(5, 5), sharex=True)\n",
    "for i, ax in enumerate(axes):\n",
    " pc_loadings = loadings.loc[i, :]\n",
    " colors = ['C0' if l > 0 else 'C1' for l in pc_loadings]\n",
    " ax.axhline(color='#888888')\n",
    " pc_loadings.plot.bar(ax=ax, color=colors)\n",
    " ax.set_ylabel(f'PC{i+1}')\n",
    " ax.set_ylim(-maxPC, maxPC)\n",
    "\n"
   ]
  },
  {
   "cell_type": "markdown",
   "metadata": {},
   "source": [
    "#  Locally Linear Embedding"
   ]
  },
  {
   "cell_type": "markdown",
   "metadata": {},
   "source": [
    "Locally Linear Embedding (LLE)8\n",
    "is another very powerful nonlinear dimensionality\n",
    "reduction (NLDR) technique. It is a Manifold Learning technique that does not rely\n",
    "on projections like the previous algorithms. In a nutshell, LLE works by first measur‐\n",
    "ing how each training instance linearly relates to its closest neighbors (c.n.), and then\n",
    "looking for a low-dimensional representation of the training set where these local\n",
    "relationships are best preserved (more details shortly). This makes it particularly\n",
    "good at unrolling twisted manifolds, especially when there is not too much noise.\n",
    "For example, the following code uses Scikit-Learn’s LocallyLinearEmbedding class to\n",
    "unroll the Swiss roll. The resulting 2D dataset is shown in Figure 8-12. As you can\n",
    "see, the Swiss roll is completely unrolled and the distances between instances are\n",
    "locally well preserved. However, distances are not preserved on a larger scale: the left\n",
    "part of the unrolled Swiss roll is stretched, while the right part is squeezed. Neverthe‐\n",
    "less, LLE did a pretty good job at modeling the manifold.\n"
   ]
  },
  {
   "cell_type": "markdown",
   "metadata": {},
   "source": [
    "# K Means Clustering\n",
    "![purple-divider](https://user-images.githubusercontent.com/7065401/52071927-c1cd7100-2562-11e9-908a-dde91ba14e59.png)"
   ]
  },
  {
   "cell_type": "markdown",
   "metadata": {},
   "source": [
    "K-means divides the data into K clusters by minimizing the sum of the squared dis‐\n",
    "tances of each record to the mean of its assigned cluster. This is referred to as the\n",
    "within-cluster sum of squares or within-cluster SS. K-means does not ensure the clus‐\n",
    "ters will have the same size but finds the clusters that are the best separated.\n"
   ]
  },
  {
   "cell_type": "markdown",
   "metadata": {},
   "source": [
    "Normalization\n",
    "It is typical to normalize (standardize) continuous variables by sub‐\n",
    "tracting the mean and dividing by the standard deviation. Other‐\n",
    "wise, variables with large scale will dominate the clustering process"
   ]
  },
  {
   "cell_type": "markdown",
   "metadata": {},
   "source": [
    "![image](kmeanclustering.png)"
   ]
  },
  {
   "cell_type": "code",
   "execution_count": 7,
   "metadata": {},
   "outputs": [],
   "source": [
    "df = sp500_px.loc[sp500_px.index >= '2011-01-01', ['XOM', 'CVX']]\n",
    "from sklearn.cluster import KMeans\n",
    "kmeans = KMeans(n_clusters= 4).fit(df)"
   ]
  },
  {
   "cell_type": "code",
   "execution_count": 12,
   "metadata": {},
   "outputs": [
    {
     "data": {
      "text/html": [
       "<div>\n",
       "<style scoped>\n",
       "    .dataframe tbody tr th:only-of-type {\n",
       "        vertical-align: middle;\n",
       "    }\n",
       "\n",
       "    .dataframe tbody tr th {\n",
       "        vertical-align: top;\n",
       "    }\n",
       "\n",
       "    .dataframe thead th {\n",
       "        text-align: right;\n",
       "    }\n",
       "</style>\n",
       "<table border=\"1\" class=\"dataframe\">\n",
       "  <thead>\n",
       "    <tr style=\"text-align: right;\">\n",
       "      <th></th>\n",
       "      <th>XOM</th>\n",
       "      <th>CVX</th>\n",
       "      <th>cluster</th>\n",
       "    </tr>\n",
       "  </thead>\n",
       "  <tbody>\n",
       "    <tr>\n",
       "      <th>2011-01-03</th>\n",
       "      <td>0.736805</td>\n",
       "      <td>0.240681</td>\n",
       "      <td>3</td>\n",
       "    </tr>\n",
       "    <tr>\n",
       "      <th>2011-01-04</th>\n",
       "      <td>0.168668</td>\n",
       "      <td>-0.584516</td>\n",
       "      <td>1</td>\n",
       "    </tr>\n",
       "    <tr>\n",
       "      <th>2011-01-05</th>\n",
       "      <td>0.026631</td>\n",
       "      <td>0.446985</td>\n",
       "      <td>3</td>\n",
       "    </tr>\n",
       "    <tr>\n",
       "      <th>2011-01-06</th>\n",
       "      <td>0.248558</td>\n",
       "      <td>-0.919751</td>\n",
       "      <td>1</td>\n",
       "    </tr>\n",
       "    <tr>\n",
       "      <th>2011-01-07</th>\n",
       "      <td>0.337329</td>\n",
       "      <td>0.180511</td>\n",
       "      <td>3</td>\n",
       "    </tr>\n",
       "  </tbody>\n",
       "</table>\n",
       "</div>"
      ],
      "text/plain": [
       "                 XOM       CVX  cluster\n",
       "2011-01-03  0.736805  0.240681        3\n",
       "2011-01-04  0.168668 -0.584516        1\n",
       "2011-01-05  0.026631  0.446985        3\n",
       "2011-01-06  0.248558 -0.919751        1\n",
       "2011-01-07  0.337329  0.180511        3"
      ]
     },
     "execution_count": 12,
     "metadata": {},
     "output_type": "execute_result"
    }
   ],
   "source": [
    "df['cluster'] = kmeans.labels_\n",
    "df.head()\n",
    "\n"
   ]
  },
  {
   "cell_type": "code",
   "execution_count": 16,
   "metadata": {},
   "outputs": [
    {
     "data": {
      "text/html": [
       "<div>\n",
       "<style scoped>\n",
       "    .dataframe tbody tr th:only-of-type {\n",
       "        vertical-align: middle;\n",
       "    }\n",
       "\n",
       "    .dataframe tbody tr th {\n",
       "        vertical-align: top;\n",
       "    }\n",
       "\n",
       "    .dataframe thead th {\n",
       "        text-align: right;\n",
       "    }\n",
       "</style>\n",
       "<table border=\"1\" class=\"dataframe\">\n",
       "  <thead>\n",
       "    <tr style=\"text-align: right;\">\n",
       "      <th></th>\n",
       "      <th>XOM</th>\n",
       "      <th>CVX</th>\n",
       "    </tr>\n",
       "  </thead>\n",
       "  <tbody>\n",
       "    <tr>\n",
       "      <th>0</th>\n",
       "      <td>0.958269</td>\n",
       "      <td>1.374154</td>\n",
       "    </tr>\n",
       "    <tr>\n",
       "      <th>1</th>\n",
       "      <td>-0.328486</td>\n",
       "      <td>-0.566914</td>\n",
       "    </tr>\n",
       "    <tr>\n",
       "      <th>2</th>\n",
       "      <td>-1.143980</td>\n",
       "      <td>-1.750297</td>\n",
       "    </tr>\n",
       "    <tr>\n",
       "      <th>3</th>\n",
       "      <td>0.242011</td>\n",
       "      <td>0.335179</td>\n",
       "    </tr>\n",
       "  </tbody>\n",
       "</table>\n",
       "</div>"
      ],
      "text/plain": [
       "        XOM       CVX\n",
       "0  0.958269  1.374154\n",
       "1 -0.328486 -0.566914\n",
       "2 -1.143980 -1.750297\n",
       "3  0.242011  0.335179"
      ]
     },
     "execution_count": 16,
     "metadata": {},
     "output_type": "execute_result"
    }
   ],
   "source": [
    "center = pd.DataFrame(kmeans.cluster_centers_, columns= ['XOM',\t'CVX'])\n",
    "center"
   ]
  },
  {
   "cell_type": "code",
   "execution_count": 18,
   "metadata": {},
   "outputs": [
    {
     "name": "stderr",
     "output_type": "stream",
     "text": [
      "e:\\machine_learning_projects\\machine_learning\\lib\\site-packages\\seaborn\\_decorators.py:36: FutureWarning: Pass the following variables as keyword args: x, y. From version 0.12, the only valid positional argument will be `data`, and passing other arguments without an explicit keyword will result in an error or misinterpretation.\n",
      "  warnings.warn(\n"
     ]
    },
    {
     "data": {
      "image/png": "[encoded data removed]",
      "text/plain": [
       "<Figure size 432x288 with 1 Axes>"
      ]
     },
     "metadata": {
      "needs_background": "light"
     },
     "output_type": "display_data"
    }
   ],
   "source": [
    "import seaborn as sns\n",
    "fig, ax = plt.subplots()\n",
    "ax = sns.scatterplot(df.XOM, df.CVX, hue = df.cluster, style= df.cluster, ax = ax)\n",
    "ax.set_xlabel('XOM')\n",
    "ax.set_ylabel('CVX')\n",
    "ax.set_title('Clustering')\n",
    "plt.show()"
   ]
  },
  {
   "cell_type": "markdown",
   "metadata": {},
   "source": [
    "The scikit-learn algorithm is repeated 10 times by default (n_init). The argument\n",
    "max_iter (default 300) can be used to control the number of iterations:\n"
   ]
  },
  {
   "cell_type": "code",
   "execution_count": 8,
   "metadata": {},
   "outputs": [],
   "source": [
    "syms = sorted(['AAPL', 'MSFT', 'CSCO', 'INTC', 'CVX', 'XOM', 'SLB', 'COP',\n",
    " 'JPM', 'WFC', 'USB', 'AXP', 'WMT', 'TGT', 'HD', 'COST'])\n",
    "top_sp = sp500_px.loc[sp500_px.index >= '2011-01-01', syms]\n",
    "kmeans = KMeans(n_clusters=5).fit(top_sp)\n"
   ]
  },
  {
   "cell_type": "code",
   "execution_count": 24,
   "metadata": {},
   "outputs": [],
   "source": [
    "top_sp['cluster'] = kmeans.labels_\n"
   ]
  },
  {
   "cell_type": "code",
   "execution_count": 25,
   "metadata": {},
   "outputs": [
    {
     "data": {
      "text/plain": [
       "0    302\n",
       "3    297\n",
       "1    262\n",
       "4    158\n",
       "2    112\n",
       "Name: cluster, dtype: int64"
      ]
     },
     "execution_count": 25,
     "metadata": {},
     "output_type": "execute_result"
    }
   ],
   "source": [
    "top_sp.cluster.value_counts()"
   ]
  },
  {
   "cell_type": "code",
   "execution_count": 28,
   "metadata": {},
   "outputs": [
    {
     "data": {
      "text/html": [
       "<div>\n",
       "<style scoped>\n",
       "    .dataframe tbody tr th:only-of-type {\n",
       "        vertical-align: middle;\n",
       "    }\n",
       "\n",
       "    .dataframe tbody tr th {\n",
       "        vertical-align: top;\n",
       "    }\n",
       "\n",
       "    .dataframe thead th {\n",
       "        text-align: right;\n",
       "    }\n",
       "</style>\n",
       "<table border=\"1\" class=\"dataframe\">\n",
       "  <thead>\n",
       "    <tr style=\"text-align: right;\">\n",
       "      <th></th>\n",
       "      <th>AAPL</th>\n",
       "      <th>AXP</th>\n",
       "      <th>COP</th>\n",
       "      <th>COST</th>\n",
       "      <th>CSCO</th>\n",
       "      <th>CVX</th>\n",
       "      <th>HD</th>\n",
       "      <th>INTC</th>\n",
       "      <th>JPM</th>\n",
       "      <th>MSFT</th>\n",
       "      <th>SLB</th>\n",
       "      <th>TGT</th>\n",
       "      <th>USB</th>\n",
       "      <th>WFC</th>\n",
       "      <th>WMT</th>\n",
       "      <th>XOM</th>\n",
       "    </tr>\n",
       "  </thead>\n",
       "  <tbody>\n",
       "    <tr>\n",
       "      <th>0</th>\n",
       "      <td>0.707688</td>\n",
       "      <td>0.302702</td>\n",
       "      <td>0.074022</td>\n",
       "      <td>0.414276</td>\n",
       "      <td>0.078080</td>\n",
       "      <td>0.104766</td>\n",
       "      <td>0.374321</td>\n",
       "      <td>0.097858</td>\n",
       "      <td>0.162836</td>\n",
       "      <td>0.122062</td>\n",
       "      <td>0.022651</td>\n",
       "      <td>0.304795</td>\n",
       "      <td>0.112030</td>\n",
       "      <td>0.134640</td>\n",
       "      <td>0.230935</td>\n",
       "      <td>0.138003</td>\n",
       "    </tr>\n",
       "    <tr>\n",
       "      <th>1</th>\n",
       "      <td>-0.329616</td>\n",
       "      <td>-0.203201</td>\n",
       "      <td>-0.409512</td>\n",
       "      <td>-0.037008</td>\n",
       "      <td>-0.054723</td>\n",
       "      <td>-0.666952</td>\n",
       "      <td>-0.057103</td>\n",
       "      <td>-0.052498</td>\n",
       "      <td>-0.122160</td>\n",
       "      <td>-0.053128</td>\n",
       "      <td>-0.875613</td>\n",
       "      <td>-0.059892</td>\n",
       "      <td>-0.059674</td>\n",
       "      <td>-0.108690</td>\n",
       "      <td>-0.007107</td>\n",
       "      <td>-0.390245</td>\n",
       "    </tr>\n",
       "    <tr>\n",
       "      <th>2</th>\n",
       "      <td>-1.222261</td>\n",
       "      <td>-0.976068</td>\n",
       "      <td>-0.867208</td>\n",
       "      <td>-1.077963</td>\n",
       "      <td>-0.221276</td>\n",
       "      <td>-1.396657</td>\n",
       "      <td>-0.744689</td>\n",
       "      <td>-0.295644</td>\n",
       "      <td>-0.783688</td>\n",
       "      <td>-0.392150</td>\n",
       "      <td>-1.432340</td>\n",
       "      <td>-0.596072</td>\n",
       "      <td>-0.428228</td>\n",
       "      <td>-0.539530</td>\n",
       "      <td>-0.395693</td>\n",
       "      <td>-0.995458</td>\n",
       "    </tr>\n",
       "    <tr>\n",
       "      <th>3</th>\n",
       "      <td>-0.412444</td>\n",
       "      <td>0.007650</td>\n",
       "      <td>0.198869</td>\n",
       "      <td>-0.268876</td>\n",
       "      <td>0.008684</td>\n",
       "      <td>0.336791</td>\n",
       "      <td>-0.209150</td>\n",
       "      <td>0.018743</td>\n",
       "      <td>0.028402</td>\n",
       "      <td>-0.016767</td>\n",
       "      <td>0.395418</td>\n",
       "      <td>-0.162661</td>\n",
       "      <td>-0.010351</td>\n",
       "      <td>0.008831</td>\n",
       "      <td>-0.139448</td>\n",
       "      <td>0.204234</td>\n",
       "    </tr>\n",
       "    <tr>\n",
       "      <th>4</th>\n",
       "      <td>0.516247</td>\n",
       "      <td>0.561074</td>\n",
       "      <td>0.672157</td>\n",
       "      <td>0.688480</td>\n",
       "      <td>0.158834</td>\n",
       "      <td>1.231947</td>\n",
       "      <td>0.540877</td>\n",
       "      <td>0.214350</td>\n",
       "      <td>0.477299</td>\n",
       "      <td>0.280358</td>\n",
       "      <td>1.470565</td>\n",
       "      <td>0.303695</td>\n",
       "      <td>0.298622</td>\n",
       "      <td>0.360395</td>\n",
       "      <td>0.357054</td>\n",
       "      <td>0.920538</td>\n",
       "    </tr>\n",
       "  </tbody>\n",
       "</table>\n",
       "</div>"
      ],
      "text/plain": [
       "       AAPL       AXP       COP      COST      CSCO       CVX        HD  \\\n",
       "0  0.707688  0.302702  0.074022  0.414276  0.078080  0.104766  0.374321   \n",
       "1 -0.329616 -0.203201 -0.409512 -0.037008 -0.054723 -0.666952 -0.057103   \n",
       "2 -1.222261 -0.976068 -0.867208 -1.077963 -0.221276 -1.396657 -0.744689   \n",
       "3 -0.412444  0.007650  0.198869 -0.268876  0.008684  0.336791 -0.209150   \n",
       "4  0.516247  0.561074  0.672157  0.688480  0.158834  1.231947  0.540877   \n",
       "\n",
       "       INTC       JPM      MSFT       SLB       TGT       USB       WFC  \\\n",
       "0  0.097858  0.162836  0.122062  0.022651  0.304795  0.112030  0.134640   \n",
       "1 -0.052498 -0.122160 -0.053128 -0.875613 -0.059892 -0.059674 -0.108690   \n",
       "2 -0.295644 -0.783688 -0.392150 -1.432340 -0.596072 -0.428228 -0.539530   \n",
       "3  0.018743  0.028402 -0.016767  0.395418 -0.162661 -0.010351  0.008831   \n",
       "4  0.214350  0.477299  0.280358  1.470565  0.303695  0.298622  0.360395   \n",
       "\n",
       "        WMT       XOM  \n",
       "0  0.230935  0.138003  \n",
       "1 -0.007107 -0.390245  \n",
       "2 -0.395693 -0.995458  \n",
       "3 -0.139448  0.204234  \n",
       "4  0.357054  0.920538  "
      ]
     },
     "execution_count": 28,
     "metadata": {},
     "output_type": "execute_result"
    }
   ],
   "source": [
    "centers = pd.DataFrame(kmeans.cluster_centers_, columns = syms)\n",
    "centers"
   ]
  },
  {
   "cell_type": "code",
   "execution_count": 55,
   "metadata": {},
   "outputs": [
    {
     "data": {
      "image/png": "[encoded data removed]",
      "text/plain": [
       "<Figure size 360x360 with 5 Axes>"
      ]
     },
     "metadata": {
      "needs_background": "light"
     },
     "output_type": "display_data"
    }
   ],
   "source": [
    "fig, axes = plt.subplots(5,1, figsize = (5,5), sharex = True)\n",
    "\n",
    "for i, ax in enumerate(axes):\n",
    "    a = centers.loc[i,:]\n",
    "    color = ['red' if i > 0 else 'blue' for i in a]\n",
    "    a.plot.bar(ax=ax, color=color)\n",
    "    ax.set_ylim(-1,1)\n",
    "    ax.axhline(0, c = 'k')"
   ]
  },
  {
   "cell_type": "markdown",
   "metadata": {},
   "source": [
    "# Selecting the Number of Clusters\n"
   ]
  },
  {
   "cell_type": "markdown",
   "metadata": {},
   "source": [
    "A common approach, called the elbow method, is to identify when the set of clusters\n",
    "explains “most” of the variance in the data. Adding new clusters beyond this set con‐\n",
    "tributes relatively little in the variance explained. The elbow is the point where the\n",
    "cumulative variance explained flattens out after rising steeply, hence the name of the\n",
    "method"
   ]
  },
  {
   "cell_type": "markdown",
   "metadata": {},
   "source": [
    "inertia = Sum of squared distances of samples to their closest cluster center, weighted by the sample weights if provided."
   ]
  },
  {
   "cell_type": "code",
   "execution_count": 59,
   "metadata": {},
   "outputs": [
    {
     "data": {
      "image/png": "[encoded data removed]",
      "text/plain": [
       "<Figure size 432x288 with 1 Axes>"
      ]
     },
     "metadata": {
      "needs_background": "light"
     },
     "output_type": "display_data"
    }
   ],
   "source": [
    "inertia = []\n",
    "for n_clusters in range(2, 15):\n",
    "    kmeans = KMeans(n_clusters=n_clusters, random_state=0).fit(top_sp)\n",
    "    inertia.append(kmeans.inertia_ / n_clusters)\n",
    "inertias = pd.DataFrame({'n_clusters': range(2, 15), 'inertia': inertia})\n",
    "ax = inertias.plot(x='n_clusters', y='inertia')\n",
    "plt.xlabel('Number of clusters(k)')\n",
    "plt.ylabel('Average Within-Cluster Squared Distances')\n",
    "plt.ylim((0, 1.1 * inertias.inertia.max()))\n",
    "ax.legend().set_visible(False)\n",
    "\n",
    "plt.tight_layout()\n",
    "plt.show()"
   ]
  },
  {
   "cell_type": "markdown",
   "metadata": {},
   "source": [
    "# silhouette score\n",
    "see notebook for intitution"
   ]
  },
  {
   "cell_type": "code",
   "execution_count": 10,
   "metadata": {},
   "outputs": [
    {
     "data": {
      "image/png": "[encoded data removed]",
      "text/plain": [
       "<Figure size 432x288 with 1 Axes>"
      ]
     },
     "metadata": {
      "needs_background": "light"
     },
     "output_type": "display_data"
    }
   ],
   "source": [
    "from sklearn.metrics import silhouette_score \n",
    "\n",
    "silhouettescore = []\n",
    "\n",
    "for i in range(2,14):\n",
    "    kmeans = KMeans(n_clusters=i).fit(top_sp)\n",
    "    silhouettescore.append(silhouette_score(top_sp, kmeans.labels_))\n",
    "\n",
    "fig , ax = plt.subplots()\n",
    "ax.plot(range(2,14), silhouettescore)\n",
    "ax.set_xlabel('No of clusters')\n",
    "ax.set_ylabel('Silhouettr_Score')\n",
    "plt.show()\n",
    "    \n"
   ]
  },
  {
   "cell_type": "markdown",
   "metadata": {},
   "source": [
    "# Clustering for preprocessing"
   ]
  },
  {
   "cell_type": "markdown",
   "metadata": {},
   "source": [
    "Clustering can be an efficient approach to dimensionality reduction, in particular as a\n",
    "preprocessing step before a supervised learning algorithm. For example, let’s tackle\n",
    "the digits dataset which is a simple MNIST-like dataset containing 1,797 grayscale 8×8\n",
    "images representing digits 0 to 9. First, let’s load the dataset:\n"
   ]
  },
  {
   "cell_type": "code",
   "execution_count": 11,
   "metadata": {},
   "outputs": [
    {
     "name": "stderr",
     "output_type": "stream",
     "text": [
      "e:\\machine_learning_projects\\machine_learning\\lib\\site-packages\\sklearn\\linear_model\\_logistic.py:814: ConvergenceWarning: lbfgs failed to converge (status=1):\n",
      "STOP: TOTAL NO. of ITERATIONS REACHED LIMIT.\n",
      "\n",
      "Increase the number of iterations (max_iter) or scale the data as shown in:\n",
      "    https://scikit-learn.org/stable/modules/preprocessing.html\n",
      "Please also refer to the documentation for alternative solver options:\n",
      "    https://scikit-learn.org/stable/modules/linear_model.html#logistic-regression\n",
      "  n_iter_i = _check_optimize_result(\n"
     ]
    },
    {
     "data": {
      "text/plain": [
       "0.9644444444444444"
      ]
     },
     "execution_count": 11,
     "metadata": {},
     "output_type": "execute_result"
    }
   ],
   "source": [
    "from sklearn.datasets import load_digits\n",
    "X_digits, y_digits = load_digits(return_X_y=True)\n",
    "# Now, let’s split it into a training set and a test set:\n",
    "from sklearn.model_selection import train_test_split\n",
    "X_train, X_test, y_train, y_test = train_test_split(X_digits, y_digits)\n",
    "# Next, let’s fit a Logistic Regression model:\n",
    "from sklearn.linear_model import LogisticRegression\n",
    "log_reg = LogisticRegression(random_state=42)\n",
    "log_reg.fit(X_train, y_train)\n",
    "# Let’s evaluate its accuracy on the test set:\n",
    "log_reg.score(X_test, y_test)\n"
   ]
  },
  {
   "cell_type": "code",
   "execution_count": 15,
   "metadata": {},
   "outputs": [
    {
     "data": {
      "text/plain": [
       "Pipeline(steps=[('cluster', KMeans(n_clusters=50, random_state=42)),\n",
       "                ('logreg',\n",
       "                 LogisticRegression(max_iter=5000, multi_class='ovr',\n",
       "                                    random_state=42))])"
      ]
     },
     "execution_count": 15,
     "metadata": {},
     "output_type": "execute_result"
    }
   ],
   "source": [
    "## Pipeline\n",
    "\n",
    "from sklearn.pipeline import Pipeline\n",
    "\n",
    "\n",
    "pipeline = Pipeline([\n",
    "    ('cluster',KMeans(n_clusters = 50, random_state = 42)) ,\n",
    "    ('logreg',LogisticRegression(multi_class=\"ovr\", solver=\"lbfgs\", max_iter=5000, random_state=42))\n",
    "]\n",
    ")\n",
    "\n",
    "pipeline.fit(X_train, y_train)"
   ]
  },
  {
   "cell_type": "code",
   "execution_count": 16,
   "metadata": {},
   "outputs": [
    {
     "data": {
      "text/plain": [
       "0.9755555555555555"
      ]
     },
     "execution_count": 16,
     "metadata": {},
     "output_type": "execute_result"
    }
   ],
   "source": [
    "pipeline_score = pipeline.score(X_test, y_test)\n",
    "pipeline_score"
   ]
  },
  {
   "cell_type": "markdown",
   "metadata": {},
   "source": [
    "But we chose the number of clusters k completely arbitrarily, we can surely do better.\n",
    "Since K-Means is just a preprocessing step in a classification pipeline, finding a good\n",
    "value for k is much simpler than earlier: there’s no need to perform silhouette analysis\n",
    "or minimize the inertia, the best value of k is simply the one that results in the best\n",
    "classification performance during cross-validation. Let’s use GridSearchCV to find the\n",
    "optimal number of clusters:\n"
   ]
  },
  {
   "cell_type": "code",
   "execution_count": 19,
   "metadata": {},
   "outputs": [
    {
     "data": {
      "text/plain": [
       "dict_keys(['memory', 'steps', 'verbose', 'cluster', 'logreg', 'cluster__algorithm', 'cluster__copy_x', 'cluster__init', 'cluster__max_iter', 'cluster__n_clusters', 'cluster__n_init', 'cluster__random_state', 'cluster__tol', 'cluster__verbose', 'logreg__C', 'logreg__class_weight', 'logreg__dual', 'logreg__fit_intercept', 'logreg__intercept_scaling', 'logreg__l1_ratio', 'logreg__max_iter', 'logreg__multi_class', 'logreg__n_jobs', 'logreg__penalty', 'logreg__random_state', 'logreg__solver', 'logreg__tol', 'logreg__verbose', 'logreg__warm_start'])"
      ]
     },
     "execution_count": 19,
     "metadata": {},
     "output_type": "execute_result"
    }
   ],
   "source": [
    "pipeline.get_params().keys()"
   ]
  },
  {
   "cell_type": "code",
   "execution_count": 20,
   "metadata": {},
   "outputs": [
    {
     "name": "stdout",
     "output_type": "stream",
     "text": [
      "Fitting 3 folds for each of 98 candidates, totalling 294 fits\n",
      "[CV] END ..............................cluster__n_clusters=2; total time=   0.1s\n",
      "[CV] END ..............................cluster__n_clusters=2; total time=   0.1s\n",
      "[CV] END ..............................cluster__n_clusters=2; total time=   0.0s\n",
      "[CV] END ..............................cluster__n_clusters=3; total time=   0.1s\n",
      "[CV] END ..............................cluster__n_clusters=3; total time=   0.1s\n",
      "[CV] END ..............................cluster__n_clusters=3; total time=   0.1s\n",
      "[CV] END ..............................cluster__n_clusters=4; total time=   0.1s\n",
      "[CV] END ..............................cluster__n_clusters=4; total time=   0.1s\n",
      "[CV] END ..............................cluster__n_clusters=4; total time=   0.1s\n",
      "[CV] END ..............................cluster__n_clusters=5; total time=   0.1s\n",
      "[CV] END ..............................cluster__n_clusters=5; total time=   0.1s\n",
      "[CV] END ..............................cluster__n_clusters=5; total time=   0.1s\n",
      "[CV] END ..............................cluster__n_clusters=6; total time=   0.2s\n",
      "[CV] END ..............................cluster__n_clusters=6; total time=   0.2s\n",
      "[CV] END ..............................cluster__n_clusters=6; total time=   0.2s\n",
      "[CV] END ..............................cluster__n_clusters=7; total time=   0.2s\n",
      "[CV] END ..............................cluster__n_clusters=7; total time=   0.3s\n",
      "[CV] END ..............................cluster__n_clusters=7; total time=   0.2s\n",
      "[CV] END ..............................cluster__n_clusters=8; total time=   0.3s\n",
      "[CV] END ..............................cluster__n_clusters=8; total time=   0.3s\n",
      "[CV] END ..............................cluster__n_clusters=8; total time=   0.3s\n",
      "[CV] END ..............................cluster__n_clusters=9; total time=   0.4s\n",
      "[CV] END ..............................cluster__n_clusters=9; total time=   0.5s\n",
      "[CV] END ..............................cluster__n_clusters=9; total time=   0.4s\n",
      "[CV] END .............................cluster__n_clusters=10; total time=   0.6s\n",
      "[CV] END .............................cluster__n_clusters=10; total time=   0.6s\n",
      "[CV] END .............................cluster__n_clusters=10; total time=   0.5s\n",
      "[CV] END .............................cluster__n_clusters=11; total time=   1.6s\n",
      "[CV] END .............................cluster__n_clusters=11; total time=   1.0s\n",
      "[CV] END .............................cluster__n_clusters=11; total time=   0.9s\n",
      "[CV] END .............................cluster__n_clusters=12; total time=   1.1s\n",
      "[CV] END .............................cluster__n_clusters=12; total time=   1.1s\n",
      "[CV] END .............................cluster__n_clusters=12; total time=   1.1s\n",
      "[CV] END .............................cluster__n_clusters=13; total time=   1.2s\n",
      "[CV] END .............................cluster__n_clusters=13; total time=   1.1s\n",
      "[CV] END .............................cluster__n_clusters=13; total time=   1.4s\n",
      "[CV] END .............................cluster__n_clusters=14; total time=   1.6s\n",
      "[CV] END .............................cluster__n_clusters=14; total time=   1.4s\n",
      "[CV] END .............................cluster__n_clusters=14; total time=   1.7s\n",
      "[CV] END .............................cluster__n_clusters=15; total time=   2.0s\n",
      "[CV] END .............................cluster__n_clusters=15; total time=   2.9s\n",
      "[CV] END .............................cluster__n_clusters=15; total time=   5.4s\n",
      "[CV] END .............................cluster__n_clusters=16; total time=   6.4s\n",
      "[CV] END .............................cluster__n_clusters=16; total time=   6.4s\n",
      "[CV] END .............................cluster__n_clusters=16; total time=   6.9s\n",
      "[CV] END .............................cluster__n_clusters=17; total time=   6.2s\n",
      "[CV] END .............................cluster__n_clusters=17; total time=   5.9s\n",
      "[CV] END .............................cluster__n_clusters=17; total time=   6.5s\n",
      "[CV] END .............................cluster__n_clusters=18; total time=   7.6s\n",
      "[CV] END .............................cluster__n_clusters=18; total time=   8.1s\n",
      "[CV] END .............................cluster__n_clusters=18; total time=   7.1s\n",
      "[CV] END .............................cluster__n_clusters=19; total time=   7.0s\n",
      "[CV] END .............................cluster__n_clusters=19; total time=   6.5s\n",
      "[CV] END .............................cluster__n_clusters=19; total time=   7.8s\n",
      "[CV] END .............................cluster__n_clusters=20; total time=   8.5s\n",
      "[CV] END .............................cluster__n_clusters=20; total time=   6.1s\n",
      "[CV] END .............................cluster__n_clusters=20; total time=   8.4s\n",
      "[CV] END .............................cluster__n_clusters=21; total time=   9.7s\n",
      "[CV] END .............................cluster__n_clusters=21; total time=   8.3s\n",
      "[CV] END .............................cluster__n_clusters=21; total time=   7.6s\n",
      "[CV] END .............................cluster__n_clusters=22; total time=   9.5s\n",
      "[CV] END .............................cluster__n_clusters=22; total time=   8.8s\n",
      "[CV] END .............................cluster__n_clusters=22; total time=   8.1s\n",
      "[CV] END .............................cluster__n_clusters=23; total time=   9.9s\n",
      "[CV] END .............................cluster__n_clusters=23; total time=   9.6s\n",
      "[CV] END .............................cluster__n_clusters=23; total time=   9.0s\n",
      "[CV] END .............................cluster__n_clusters=24; total time=   9.5s\n",
      "[CV] END .............................cluster__n_clusters=24; total time=   9.8s\n",
      "[CV] END .............................cluster__n_clusters=24; total time=   9.2s\n",
      "[CV] END .............................cluster__n_clusters=25; total time=   9.7s\n",
      "[CV] END .............................cluster__n_clusters=25; total time=   9.4s\n",
      "[CV] END .............................cluster__n_clusters=25; total time=  11.3s\n",
      "[CV] END .............................cluster__n_clusters=26; total time=  11.3s\n",
      "[CV] END .............................cluster__n_clusters=26; total time=  10.5s\n",
      "[CV] END .............................cluster__n_clusters=26; total time=   9.5s\n",
      "[CV] END .............................cluster__n_clusters=27; total time=  11.1s\n",
      "[CV] END .............................cluster__n_clusters=27; total time=  11.9s\n",
      "[CV] END .............................cluster__n_clusters=27; total time=  10.7s\n",
      "[CV] END .............................cluster__n_clusters=28; total time=  10.5s\n",
      "[CV] END .............................cluster__n_clusters=28; total time=  11.6s\n",
      "[CV] END .............................cluster__n_clusters=28; total time=  10.9s\n",
      "[CV] END .............................cluster__n_clusters=29; total time=  11.5s\n",
      "[CV] END .............................cluster__n_clusters=29; total time=  10.7s\n",
      "[CV] END .............................cluster__n_clusters=29; total time=  11.4s\n",
      "[CV] END .............................cluster__n_clusters=30; total time=  10.9s\n",
      "[CV] END .............................cluster__n_clusters=30; total time=  12.9s\n",
      "[CV] END .............................cluster__n_clusters=30; total time=  12.2s\n",
      "[CV] END .............................cluster__n_clusters=31; total time=  13.4s\n",
      "[CV] END .............................cluster__n_clusters=31; total time=  10.9s\n",
      "[CV] END .............................cluster__n_clusters=31; total time=  14.7s\n",
      "[CV] END .............................cluster__n_clusters=32; total time=  12.2s\n",
      "[CV] END .............................cluster__n_clusters=32; total time=  12.5s\n",
      "[CV] END .............................cluster__n_clusters=32; total time=  12.6s\n",
      "[CV] END .............................cluster__n_clusters=33; total time=  13.3s\n",
      "[CV] END .............................cluster__n_clusters=33; total time=  11.9s\n",
      "[CV] END .............................cluster__n_clusters=33; total time=  14.4s\n",
      "[CV] END .............................cluster__n_clusters=34; total time=  13.9s\n",
      "[CV] END .............................cluster__n_clusters=34; total time=  13.6s\n",
      "[CV] END .............................cluster__n_clusters=34; total time=  13.1s\n",
      "[CV] END .............................cluster__n_clusters=35; total time=  15.1s\n",
      "[CV] END .............................cluster__n_clusters=35; total time=  13.8s\n",
      "[CV] END .............................cluster__n_clusters=35; total time=  13.4s\n",
      "[CV] END .............................cluster__n_clusters=36; total time=  13.2s\n",
      "[CV] END .............................cluster__n_clusters=36; total time=  13.2s\n",
      "[CV] END .............................cluster__n_clusters=36; total time=  13.8s\n",
      "[CV] END .............................cluster__n_clusters=37; total time=  14.4s\n",
      "[CV] END .............................cluster__n_clusters=37; total time=  11.7s\n",
      "[CV] END .............................cluster__n_clusters=37; total time=  14.0s\n",
      "[CV] END .............................cluster__n_clusters=38; total time=  13.2s\n",
      "[CV] END .............................cluster__n_clusters=38; total time=  13.2s\n",
      "[CV] END .............................cluster__n_clusters=38; total time=  13.5s\n",
      "[CV] END .............................cluster__n_clusters=39; total time=  12.9s\n",
      "[CV] END .............................cluster__n_clusters=39; total time=  13.1s\n",
      "[CV] END .............................cluster__n_clusters=39; total time=  12.5s\n",
      "[CV] END .............................cluster__n_clusters=40; total time=  12.7s\n",
      "[CV] END .............................cluster__n_clusters=40; total time=  12.3s\n",
      "[CV] END .............................cluster__n_clusters=40; total time=  12.2s\n",
      "[CV] END .............................cluster__n_clusters=41; total time=  13.0s\n",
      "[CV] END .............................cluster__n_clusters=41; total time=  14.1s\n",
      "[CV] END .............................cluster__n_clusters=41; total time=  12.9s\n",
      "[CV] END .............................cluster__n_clusters=42; total time=  14.0s\n",
      "[CV] END .............................cluster__n_clusters=42; total time=  13.3s\n",
      "[CV] END .............................cluster__n_clusters=42; total time=  14.2s\n",
      "[CV] END .............................cluster__n_clusters=43; total time=  13.5s\n",
      "[CV] END .............................cluster__n_clusters=43; total time=  13.4s\n",
      "[CV] END .............................cluster__n_clusters=43; total time=  14.6s\n",
      "[CV] END .............................cluster__n_clusters=44; total time=  11.7s\n",
      "[CV] END .............................cluster__n_clusters=44; total time=  13.3s\n",
      "[CV] END .............................cluster__n_clusters=44; total time=  13.2s\n",
      "[CV] END .............................cluster__n_clusters=45; total time=  14.1s\n",
      "[CV] END .............................cluster__n_clusters=45; total time=  13.6s\n",
      "[CV] END .............................cluster__n_clusters=45; total time=  14.2s\n",
      "[CV] END .............................cluster__n_clusters=46; total time=  11.9s\n",
      "[CV] END .............................cluster__n_clusters=46; total time=  14.6s\n",
      "[CV] END .............................cluster__n_clusters=46; total time=  13.4s\n",
      "[CV] END .............................cluster__n_clusters=47; total time=  15.3s\n",
      "[CV] END .............................cluster__n_clusters=47; total time=  12.3s\n",
      "[CV] END .............................cluster__n_clusters=47; total time=  14.3s\n",
      "[CV] END .............................cluster__n_clusters=48; total time=   8.3s\n",
      "[CV] END .............................cluster__n_clusters=48; total time=   8.5s\n",
      "[CV] END .............................cluster__n_clusters=48; total time=   7.9s\n",
      "[CV] END .............................cluster__n_clusters=49; total time=   5.2s\n",
      "[CV] END .............................cluster__n_clusters=49; total time=   4.0s\n",
      "[CV] END .............................cluster__n_clusters=49; total time=   4.4s\n",
      "[CV] END .............................cluster__n_clusters=50; total time=   4.4s\n",
      "[CV] END .............................cluster__n_clusters=50; total time=   5.1s\n",
      "[CV] END .............................cluster__n_clusters=50; total time=   5.2s\n",
      "[CV] END .............................cluster__n_clusters=51; total time=   6.9s\n",
      "[CV] END .............................cluster__n_clusters=51; total time=   6.9s\n",
      "[CV] END .............................cluster__n_clusters=51; total time=   5.4s\n",
      "[CV] END .............................cluster__n_clusters=52; total time=   4.6s\n",
      "[CV] END .............................cluster__n_clusters=52; total time=   5.2s\n",
      "[CV] END .............................cluster__n_clusters=52; total time=   5.8s\n",
      "[CV] END .............................cluster__n_clusters=53; total time=   4.8s\n",
      "[CV] END .............................cluster__n_clusters=53; total time=   5.5s\n",
      "[CV] END .............................cluster__n_clusters=53; total time=   5.7s\n",
      "[CV] END .............................cluster__n_clusters=54; total time=   5.8s\n",
      "[CV] END .............................cluster__n_clusters=54; total time=   4.7s\n",
      "[CV] END .............................cluster__n_clusters=54; total time=   5.3s\n",
      "[CV] END .............................cluster__n_clusters=55; total time=   4.8s\n",
      "[CV] END .............................cluster__n_clusters=55; total time=   4.5s\n",
      "[CV] END .............................cluster__n_clusters=55; total time=   5.1s\n",
      "[CV] END .............................cluster__n_clusters=56; total time=   5.1s\n",
      "[CV] END .............................cluster__n_clusters=56; total time=   4.9s\n",
      "[CV] END .............................cluster__n_clusters=56; total time=   5.0s\n",
      "[CV] END .............................cluster__n_clusters=57; total time=   5.9s\n",
      "[CV] END .............................cluster__n_clusters=57; total time=   5.9s\n",
      "[CV] END .............................cluster__n_clusters=57; total time=   5.9s\n",
      "[CV] END .............................cluster__n_clusters=58; total time=   5.7s\n",
      "[CV] END .............................cluster__n_clusters=58; total time=   7.4s\n",
      "[CV] END .............................cluster__n_clusters=58; total time=   6.3s\n",
      "[CV] END .............................cluster__n_clusters=59; total time=   6.4s\n",
      "[CV] END .............................cluster__n_clusters=59; total time=   6.0s\n",
      "[CV] END .............................cluster__n_clusters=59; total time=   5.8s\n",
      "[CV] END .............................cluster__n_clusters=60; total time=   5.4s\n",
      "[CV] END .............................cluster__n_clusters=60; total time=   6.2s\n",
      "[CV] END .............................cluster__n_clusters=60; total time=   5.6s\n",
      "[CV] END .............................cluster__n_clusters=61; total time=   6.8s\n",
      "[CV] END .............................cluster__n_clusters=61; total time=   5.4s\n",
      "[CV] END .............................cluster__n_clusters=61; total time=   5.4s\n",
      "[CV] END .............................cluster__n_clusters=62; total time=   5.3s\n",
      "[CV] END .............................cluster__n_clusters=62; total time=   8.9s\n",
      "[CV] END .............................cluster__n_clusters=62; total time=  12.1s\n",
      "[CV] END .............................cluster__n_clusters=63; total time=  11.7s\n",
      "[CV] END .............................cluster__n_clusters=63; total time=  13.9s\n",
      "[CV] END .............................cluster__n_clusters=63; total time=  11.6s\n",
      "[CV] END .............................cluster__n_clusters=64; total time=   4.9s\n",
      "[CV] END .............................cluster__n_clusters=64; total time=   4.6s\n",
      "[CV] END .............................cluster__n_clusters=64; total time=   5.0s\n",
      "[CV] END .............................cluster__n_clusters=65; total time=   4.9s\n",
      "[CV] END .............................cluster__n_clusters=65; total time=   6.3s\n",
      "[CV] END .............................cluster__n_clusters=65; total time=   6.3s\n",
      "[CV] END .............................cluster__n_clusters=66; total time=   7.1s\n",
      "[CV] END .............................cluster__n_clusters=66; total time=   6.1s\n",
      "[CV] END .............................cluster__n_clusters=66; total time=   5.5s\n",
      "[CV] END .............................cluster__n_clusters=67; total time=   4.7s\n",
      "[CV] END .............................cluster__n_clusters=67; total time=   6.1s\n",
      "[CV] END .............................cluster__n_clusters=67; total time=   6.4s\n",
      "[CV] END .............................cluster__n_clusters=68; total time=   7.3s\n",
      "[CV] END .............................cluster__n_clusters=68; total time=   6.2s\n",
      "[CV] END .............................cluster__n_clusters=68; total time=   5.6s\n",
      "[CV] END .............................cluster__n_clusters=69; total time=   5.0s\n",
      "[CV] END .............................cluster__n_clusters=69; total time=   6.4s\n",
      "[CV] END .............................cluster__n_clusters=69; total time=   9.1s\n",
      "[CV] END .............................cluster__n_clusters=70; total time=   5.5s\n",
      "[CV] END .............................cluster__n_clusters=70; total time=   5.8s\n",
      "[CV] END .............................cluster__n_clusters=70; total time=   6.0s\n",
      "[CV] END .............................cluster__n_clusters=71; total time=   6.3s\n",
      "[CV] END .............................cluster__n_clusters=71; total time=   6.4s\n",
      "[CV] END .............................cluster__n_clusters=71; total time=   5.9s\n",
      "[CV] END .............................cluster__n_clusters=72; total time=   5.8s\n",
      "[CV] END .............................cluster__n_clusters=72; total time=   5.4s\n",
      "[CV] END .............................cluster__n_clusters=72; total time=   4.9s\n",
      "[CV] END .............................cluster__n_clusters=73; total time=   5.6s\n",
      "[CV] END .............................cluster__n_clusters=73; total time=   5.1s\n",
      "[CV] END .............................cluster__n_clusters=73; total time=   5.5s\n",
      "[CV] END .............................cluster__n_clusters=74; total time=   5.4s\n",
      "[CV] END .............................cluster__n_clusters=74; total time=   4.8s\n",
      "[CV] END .............................cluster__n_clusters=74; total time=   6.3s\n",
      "[CV] END .............................cluster__n_clusters=75; total time=   6.2s\n",
      "[CV] END .............................cluster__n_clusters=75; total time=   6.2s\n",
      "[CV] END .............................cluster__n_clusters=75; total time=   6.6s\n",
      "[CV] END .............................cluster__n_clusters=76; total time=   5.9s\n",
      "[CV] END .............................cluster__n_clusters=76; total time=   5.0s\n",
      "[CV] END .............................cluster__n_clusters=76; total time=   6.6s\n",
      "[CV] END .............................cluster__n_clusters=77; total time=   6.8s\n",
      "[CV] END .............................cluster__n_clusters=77; total time=   5.3s\n",
      "[CV] END .............................cluster__n_clusters=77; total time=   5.4s\n",
      "[CV] END .............................cluster__n_clusters=78; total time=   5.2s\n",
      "[CV] END .............................cluster__n_clusters=78; total time=   6.0s\n",
      "[CV] END .............................cluster__n_clusters=78; total time=   5.6s\n",
      "[CV] END .............................cluster__n_clusters=79; total time=   5.6s\n",
      "[CV] END .............................cluster__n_clusters=79; total time=   6.2s\n",
      "[CV] END .............................cluster__n_clusters=79; total time=   6.8s\n",
      "[CV] END .............................cluster__n_clusters=80; total time=   6.5s\n",
      "[CV] END .............................cluster__n_clusters=80; total time=   5.6s\n",
      "[CV] END .............................cluster__n_clusters=80; total time=   5.4s\n",
      "[CV] END .............................cluster__n_clusters=81; total time=   6.0s\n",
      "[CV] END .............................cluster__n_clusters=81; total time=   4.6s\n",
      "[CV] END .............................cluster__n_clusters=81; total time=   5.4s\n"
     ]
    },
    {
     "name": "stderr",
     "output_type": "stream",
     "text": [
      "e:\\machine_learning_projects\\machine_learning\\lib\\site-packages\\sklearn\\linear_model\\_logistic.py:814: ConvergenceWarning: lbfgs failed to converge (status=1):\n",
      "STOP: TOTAL NO. of ITERATIONS REACHED LIMIT.\n",
      "\n",
      "Increase the number of iterations (max_iter) or scale the data as shown in:\n",
      "    https://scikit-learn.org/stable/modules/preprocessing.html\n",
      "Please also refer to the documentation for alternative solver options:\n",
      "    https://scikit-learn.org/stable/modules/linear_model.html#logistic-regression\n",
      "  n_iter_i = _check_optimize_result(\n"
     ]
    },
    {
     "name": "stdout",
     "output_type": "stream",
     "text": [
      "[CV] END .............................cluster__n_clusters=82; total time=   6.1s\n",
      "[CV] END .............................cluster__n_clusters=82; total time=   5.9s\n",
      "[CV] END .............................cluster__n_clusters=82; total time=   5.0s\n",
      "[CV] END .............................cluster__n_clusters=83; total time=   5.3s\n",
      "[CV] END .............................cluster__n_clusters=83; total time=   5.8s\n",
      "[CV] END .............................cluster__n_clusters=83; total time=   6.5s\n",
      "[CV] END .............................cluster__n_clusters=84; total time=   6.1s\n",
      "[CV] END .............................cluster__n_clusters=84; total time=   5.1s\n",
      "[CV] END .............................cluster__n_clusters=84; total time=   6.6s\n",
      "[CV] END .............................cluster__n_clusters=85; total time=   5.6s\n",
      "[CV] END .............................cluster__n_clusters=85; total time=   5.7s\n",
      "[CV] END .............................cluster__n_clusters=85; total time=   4.8s\n",
      "[CV] END .............................cluster__n_clusters=86; total time=   5.3s\n",
      "[CV] END .............................cluster__n_clusters=86; total time=   5.2s\n",
      "[CV] END .............................cluster__n_clusters=86; total time=   5.2s\n",
      "[CV] END .............................cluster__n_clusters=87; total time=   5.2s\n",
      "[CV] END .............................cluster__n_clusters=87; total time=   5.8s\n",
      "[CV] END .............................cluster__n_clusters=87; total time=   5.6s\n",
      "[CV] END .............................cluster__n_clusters=88; total time=   5.0s\n",
      "[CV] END .............................cluster__n_clusters=88; total time=   5.1s\n",
      "[CV] END .............................cluster__n_clusters=88; total time=   6.7s\n",
      "[CV] END .............................cluster__n_clusters=89; total time=   5.5s\n",
      "[CV] END .............................cluster__n_clusters=89; total time=  10.6s\n",
      "[CV] END ............................cluster__n_clusters=89; total time=133.3min\n",
      "[CV] END .............................cluster__n_clusters=90; total time=  11.3s\n",
      "[CV] END .............................cluster__n_clusters=90; total time=   8.4s\n",
      "[CV] END .............................cluster__n_clusters=90; total time=   9.5s\n",
      "[CV] END .............................cluster__n_clusters=91; total time=   9.9s\n",
      "[CV] END .............................cluster__n_clusters=91; total time=  10.5s\n",
      "[CV] END .............................cluster__n_clusters=91; total time=  10.3s\n"
     ]
    },
    {
     "ename": "KeyboardInterrupt",
     "evalue": "",
     "output_type": "error",
     "traceback": [
      "\u001b[1;31m---------------------------------------------------------------------------\u001b[0m",
      "\u001b[1;31mKeyboardInterrupt\u001b[0m                         Traceback (most recent call last)",
      "\u001b[1;32m~\\AppData\\Local\\Temp/ipykernel_13724/777345041.py\u001b[0m in \u001b[0;36m<module>\u001b[1;34m\u001b[0m\n\u001b[0;32m      2\u001b[0m \u001b[0mparam_grid\u001b[0m \u001b[1;33m=\u001b[0m \u001b[1;33m{\u001b[0m\u001b[1;34m'cluster__n_clusters'\u001b[0m\u001b[1;33m:\u001b[0m \u001b[1;33m[\u001b[0m\u001b[0mx\u001b[0m \u001b[1;32mfor\u001b[0m \u001b[0mx\u001b[0m \u001b[1;32min\u001b[0m \u001b[0mrange\u001b[0m\u001b[1;33m(\u001b[0m\u001b[1;36m2\u001b[0m\u001b[1;33m,\u001b[0m\u001b[1;36m100\u001b[0m\u001b[1;33m)\u001b[0m\u001b[1;33m]\u001b[0m\u001b[1;33m}\u001b[0m\u001b[1;33m\u001b[0m\u001b[1;33m\u001b[0m\u001b[0m\n\u001b[0;32m      3\u001b[0m \u001b[0mgrid_clf\u001b[0m \u001b[1;33m=\u001b[0m \u001b[0mGridSearchCV\u001b[0m\u001b[1;33m(\u001b[0m\u001b[0mpipeline\u001b[0m\u001b[1;33m,\u001b[0m \u001b[0mparam_grid\u001b[0m\u001b[1;33m,\u001b[0m \u001b[0mcv\u001b[0m\u001b[1;33m=\u001b[0m\u001b[1;36m3\u001b[0m\u001b[1;33m,\u001b[0m \u001b[0mverbose\u001b[0m\u001b[1;33m=\u001b[0m\u001b[1;36m2\u001b[0m\u001b[1;33m)\u001b[0m\u001b[1;33m\u001b[0m\u001b[1;33m\u001b[0m\u001b[0m\n\u001b[1;32m----> 4\u001b[1;33m \u001b[0mgrid_clf\u001b[0m\u001b[1;33m.\u001b[0m\u001b[0mfit\u001b[0m\u001b[1;33m(\u001b[0m\u001b[0mX_train\u001b[0m\u001b[1;33m,\u001b[0m \u001b[0my_train\u001b[0m\u001b[1;33m)\u001b[0m\u001b[1;33m\u001b[0m\u001b[1;33m\u001b[0m\u001b[0m\n\u001b[0m\u001b[0;32m      5\u001b[0m \u001b[1;31m#Let’s look at best value for k, and the performance of the resulting pipeline:\u001b[0m\u001b[1;33m\u001b[0m\u001b[1;33m\u001b[0m\u001b[0m\n\u001b[0;32m      6\u001b[0m \u001b[0mprint\u001b[0m\u001b[1;33m(\u001b[0m\u001b[0mgrid_clf\u001b[0m\u001b[1;33m.\u001b[0m\u001b[0mbest_params_\u001b[0m\u001b[1;33m)\u001b[0m\u001b[1;33m\u001b[0m\u001b[1;33m\u001b[0m\u001b[0m\n",
      "\u001b[1;32me:\\machine_learning_projects\\machine_learning\\lib\\site-packages\\sklearn\\model_selection\\_search.py\u001b[0m in \u001b[0;36mfit\u001b[1;34m(self, X, y, groups, **fit_params)\u001b[0m\n\u001b[0;32m    889\u001b[0m                 \u001b[1;32mreturn\u001b[0m \u001b[0mresults\u001b[0m\u001b[1;33m\u001b[0m\u001b[1;33m\u001b[0m\u001b[0m\n\u001b[0;32m    890\u001b[0m \u001b[1;33m\u001b[0m\u001b[0m\n\u001b[1;32m--> 891\u001b[1;33m             \u001b[0mself\u001b[0m\u001b[1;33m.\u001b[0m\u001b[0m_run_search\u001b[0m\u001b[1;33m(\u001b[0m\u001b[0mevaluate_candidates\u001b[0m\u001b[1;33m)\u001b[0m\u001b[1;33m\u001b[0m\u001b[1;33m\u001b[0m\u001b[0m\n\u001b[0m\u001b[0;32m    892\u001b[0m \u001b[1;33m\u001b[0m\u001b[0m\n\u001b[0;32m    893\u001b[0m             \u001b[1;31m# multimetric is determined here because in the case of a callable\u001b[0m\u001b[1;33m\u001b[0m\u001b[1;33m\u001b[0m\u001b[0m\n",
      "\u001b[1;32me:\\machine_learning_projects\\machine_learning\\lib\\site-packages\\sklearn\\model_selection\\_search.py\u001b[0m in \u001b[0;36m_run_search\u001b[1;34m(self, evaluate_candidates)\u001b[0m\n\u001b[0;32m   1390\u001b[0m     \u001b[1;32mdef\u001b[0m \u001b[0m_run_search\u001b[0m\u001b[1;33m(\u001b[0m\u001b[0mself\u001b[0m\u001b[1;33m,\u001b[0m \u001b[0mevaluate_candidates\u001b[0m\u001b[1;33m)\u001b[0m\u001b[1;33m:\u001b[0m\u001b[1;33m\u001b[0m\u001b[1;33m\u001b[0m\u001b[0m\n\u001b[0;32m   1391\u001b[0m         \u001b[1;34m\"\"\"Search all candidates in param_grid\"\"\"\u001b[0m\u001b[1;33m\u001b[0m\u001b[1;33m\u001b[0m\u001b[0m\n\u001b[1;32m-> 1392\u001b[1;33m         \u001b[0mevaluate_candidates\u001b[0m\u001b[1;33m(\u001b[0m\u001b[0mParameterGrid\u001b[0m\u001b[1;33m(\u001b[0m\u001b[0mself\u001b[0m\u001b[1;33m.\u001b[0m\u001b[0mparam_grid\u001b[0m\u001b[1;33m)\u001b[0m\u001b[1;33m)\u001b[0m\u001b[1;33m\u001b[0m\u001b[1;33m\u001b[0m\u001b[0m\n\u001b[0m\u001b[0;32m   1393\u001b[0m \u001b[1;33m\u001b[0m\u001b[0m\n\u001b[0;32m   1394\u001b[0m \u001b[1;33m\u001b[0m\u001b[0m\n",
      "\u001b[1;32me:\\machine_learning_projects\\machine_learning\\lib\\site-packages\\sklearn\\model_selection\\_search.py\u001b[0m in \u001b[0;36mevaluate_candidates\u001b[1;34m(candidate_params, cv, more_results)\u001b[0m\n\u001b[0;32m    836\u001b[0m                     )\n\u001b[0;32m    837\u001b[0m \u001b[1;33m\u001b[0m\u001b[0m\n\u001b[1;32m--> 838\u001b[1;33m                 out = parallel(\n\u001b[0m\u001b[0;32m    839\u001b[0m                     delayed(_fit_and_score)(\n\u001b[0;32m    840\u001b[0m                         \u001b[0mclone\u001b[0m\u001b[1;33m(\u001b[0m\u001b[0mbase_estimator\u001b[0m\u001b[1;33m)\u001b[0m\u001b[1;33m,\u001b[0m\u001b[1;33m\u001b[0m\u001b[1;33m\u001b[0m\u001b[0m\n",
      "\u001b[1;32me:\\machine_learning_projects\\machine_learning\\lib\\site-packages\\joblib\\parallel.py\u001b[0m in \u001b[0;36m__call__\u001b[1;34m(self, iterable)\u001b[0m\n\u001b[0;32m   1044\u001b[0m                 \u001b[0mself\u001b[0m\u001b[1;33m.\u001b[0m\u001b[0m_iterating\u001b[0m \u001b[1;33m=\u001b[0m \u001b[0mself\u001b[0m\u001b[1;33m.\u001b[0m\u001b[0m_original_iterator\u001b[0m \u001b[1;32mis\u001b[0m \u001b[1;32mnot\u001b[0m \u001b[1;32mNone\u001b[0m\u001b[1;33m\u001b[0m\u001b[1;33m\u001b[0m\u001b[0m\n\u001b[0;32m   1045\u001b[0m \u001b[1;33m\u001b[0m\u001b[0m\n\u001b[1;32m-> 1046\u001b[1;33m             \u001b[1;32mwhile\u001b[0m \u001b[0mself\u001b[0m\u001b[1;33m.\u001b[0m\u001b[0mdispatch_one_batch\u001b[0m\u001b[1;33m(\u001b[0m\u001b[0miterator\u001b[0m\u001b[1;33m)\u001b[0m\u001b[1;33m:\u001b[0m\u001b[1;33m\u001b[0m\u001b[1;33m\u001b[0m\u001b[0m\n\u001b[0m\u001b[0;32m   1047\u001b[0m                 \u001b[1;32mpass\u001b[0m\u001b[1;33m\u001b[0m\u001b[1;33m\u001b[0m\u001b[0m\n\u001b[0;32m   1048\u001b[0m \u001b[1;33m\u001b[0m\u001b[0m\n",
      "\u001b[1;32me:\\machine_learning_projects\\machine_learning\\lib\\site-packages\\joblib\\parallel.py\u001b[0m in \u001b[0;36mdispatch_one_batch\u001b[1;34m(self, iterator)\u001b[0m\n\u001b[0;32m    859\u001b[0m                 \u001b[1;32mreturn\u001b[0m \u001b[1;32mFalse\u001b[0m\u001b[1;33m\u001b[0m\u001b[1;33m\u001b[0m\u001b[0m\n\u001b[0;32m    860\u001b[0m             \u001b[1;32melse\u001b[0m\u001b[1;33m:\u001b[0m\u001b[1;33m\u001b[0m\u001b[1;33m\u001b[0m\u001b[0m\n\u001b[1;32m--> 861\u001b[1;33m                 \u001b[0mself\u001b[0m\u001b[1;33m.\u001b[0m\u001b[0m_dispatch\u001b[0m\u001b[1;33m(\u001b[0m\u001b[0mtasks\u001b[0m\u001b[1;33m)\u001b[0m\u001b[1;33m\u001b[0m\u001b[1;33m\u001b[0m\u001b[0m\n\u001b[0m\u001b[0;32m    862\u001b[0m                 \u001b[1;32mreturn\u001b[0m \u001b[1;32mTrue\u001b[0m\u001b[1;33m\u001b[0m\u001b[1;33m\u001b[0m\u001b[0m\n\u001b[0;32m    863\u001b[0m \u001b[1;33m\u001b[0m\u001b[0m\n",
      "\u001b[1;32me:\\machine_learning_projects\\machine_learning\\lib\\site-packages\\joblib\\parallel.py\u001b[0m in \u001b[0;36m_dispatch\u001b[1;34m(self, batch)\u001b[0m\n\u001b[0;32m    777\u001b[0m         \u001b[1;32mwith\u001b[0m \u001b[0mself\u001b[0m\u001b[1;33m.\u001b[0m\u001b[0m_lock\u001b[0m\u001b[1;33m:\u001b[0m\u001b[1;33m\u001b[0m\u001b[1;33m\u001b[0m\u001b[0m\n\u001b[0;32m    778\u001b[0m             \u001b[0mjob_idx\u001b[0m \u001b[1;33m=\u001b[0m \u001b[0mlen\u001b[0m\u001b[1;33m(\u001b[0m\u001b[0mself\u001b[0m\u001b[1;33m.\u001b[0m\u001b[0m_jobs\u001b[0m\u001b[1;33m)\u001b[0m\u001b[1;33m\u001b[0m\u001b[1;33m\u001b[0m\u001b[0m\n\u001b[1;32m--> 779\u001b[1;33m             \u001b[0mjob\u001b[0m \u001b[1;33m=\u001b[0m \u001b[0mself\u001b[0m\u001b[1;33m.\u001b[0m\u001b[0m_backend\u001b[0m\u001b[1;33m.\u001b[0m\u001b[0mapply_async\u001b[0m\u001b[1;33m(\u001b[0m\u001b[0mbatch\u001b[0m\u001b[1;33m,\u001b[0m \u001b[0mcallback\u001b[0m\u001b[1;33m=\u001b[0m\u001b[0mcb\u001b[0m\u001b[1;33m)\u001b[0m\u001b[1;33m\u001b[0m\u001b[1;33m\u001b[0m\u001b[0m\n\u001b[0m\u001b[0;32m    780\u001b[0m             \u001b[1;31m# A job can complete so quickly than its callback is\u001b[0m\u001b[1;33m\u001b[0m\u001b[1;33m\u001b[0m\u001b[0m\n\u001b[0;32m    781\u001b[0m             \u001b[1;31m# called before we get here, causing self._jobs to\u001b[0m\u001b[1;33m\u001b[0m\u001b[1;33m\u001b[0m\u001b[0m\n",
      "\u001b[1;32me:\\machine_learning_projects\\machine_learning\\lib\\site-packages\\joblib\\_parallel_backends.py\u001b[0m in \u001b[0;36mapply_async\u001b[1;34m(self, func, callback)\u001b[0m\n\u001b[0;32m    206\u001b[0m     \u001b[1;32mdef\u001b[0m \u001b[0mapply_async\u001b[0m\u001b[1;33m(\u001b[0m\u001b[0mself\u001b[0m\u001b[1;33m,\u001b[0m \u001b[0mfunc\u001b[0m\u001b[1;33m,\u001b[0m \u001b[0mcallback\u001b[0m\u001b[1;33m=\u001b[0m\u001b[1;32mNone\u001b[0m\u001b[1;33m)\u001b[0m\u001b[1;33m:\u001b[0m\u001b[1;33m\u001b[0m\u001b[1;33m\u001b[0m\u001b[0m\n\u001b[0;32m    207\u001b[0m         \u001b[1;34m\"\"\"Schedule a func to be run\"\"\"\u001b[0m\u001b[1;33m\u001b[0m\u001b[1;33m\u001b[0m\u001b[0m\n\u001b[1;32m--> 208\u001b[1;33m         \u001b[0mresult\u001b[0m \u001b[1;33m=\u001b[0m \u001b[0mImmediateResult\u001b[0m\u001b[1;33m(\u001b[0m\u001b[0mfunc\u001b[0m\u001b[1;33m)\u001b[0m\u001b[1;33m\u001b[0m\u001b[1;33m\u001b[0m\u001b[0m\n\u001b[0m\u001b[0;32m    209\u001b[0m         \u001b[1;32mif\u001b[0m \u001b[0mcallback\u001b[0m\u001b[1;33m:\u001b[0m\u001b[1;33m\u001b[0m\u001b[1;33m\u001b[0m\u001b[0m\n\u001b[0;32m    210\u001b[0m             \u001b[0mcallback\u001b[0m\u001b[1;33m(\u001b[0m\u001b[0mresult\u001b[0m\u001b[1;33m)\u001b[0m\u001b[1;33m\u001b[0m\u001b[1;33m\u001b[0m\u001b[0m\n",
      "\u001b[1;32me:\\machine_learning_projects\\machine_learning\\lib\\site-packages\\joblib\\_parallel_backends.py\u001b[0m in \u001b[0;36m__init__\u001b[1;34m(self, batch)\u001b[0m\n\u001b[0;32m    570\u001b[0m         \u001b[1;31m# Don't delay the application, to avoid keeping the input\u001b[0m\u001b[1;33m\u001b[0m\u001b[1;33m\u001b[0m\u001b[0m\n\u001b[0;32m    571\u001b[0m         \u001b[1;31m# arguments in memory\u001b[0m\u001b[1;33m\u001b[0m\u001b[1;33m\u001b[0m\u001b[0m\n\u001b[1;32m--> 572\u001b[1;33m         \u001b[0mself\u001b[0m\u001b[1;33m.\u001b[0m\u001b[0mresults\u001b[0m \u001b[1;33m=\u001b[0m \u001b[0mbatch\u001b[0m\u001b[1;33m(\u001b[0m\u001b[1;33m)\u001b[0m\u001b[1;33m\u001b[0m\u001b[1;33m\u001b[0m\u001b[0m\n\u001b[0m\u001b[0;32m    573\u001b[0m \u001b[1;33m\u001b[0m\u001b[0m\n\u001b[0;32m    574\u001b[0m     \u001b[1;32mdef\u001b[0m \u001b[0mget\u001b[0m\u001b[1;33m(\u001b[0m\u001b[0mself\u001b[0m\u001b[1;33m)\u001b[0m\u001b[1;33m:\u001b[0m\u001b[1;33m\u001b[0m\u001b[1;33m\u001b[0m\u001b[0m\n",
      "\u001b[1;32me:\\machine_learning_projects\\machine_learning\\lib\\site-packages\\joblib\\parallel.py\u001b[0m in \u001b[0;36m__call__\u001b[1;34m(self)\u001b[0m\n\u001b[0;32m    260\u001b[0m         \u001b[1;31m# change the default number of processes to -1\u001b[0m\u001b[1;33m\u001b[0m\u001b[1;33m\u001b[0m\u001b[0m\n\u001b[0;32m    261\u001b[0m         \u001b[1;32mwith\u001b[0m \u001b[0mparallel_backend\u001b[0m\u001b[1;33m(\u001b[0m\u001b[0mself\u001b[0m\u001b[1;33m.\u001b[0m\u001b[0m_backend\u001b[0m\u001b[1;33m,\u001b[0m \u001b[0mn_jobs\u001b[0m\u001b[1;33m=\u001b[0m\u001b[0mself\u001b[0m\u001b[1;33m.\u001b[0m\u001b[0m_n_jobs\u001b[0m\u001b[1;33m)\u001b[0m\u001b[1;33m:\u001b[0m\u001b[1;33m\u001b[0m\u001b[1;33m\u001b[0m\u001b[0m\n\u001b[1;32m--> 262\u001b[1;33m             return [func(*args, **kwargs)\n\u001b[0m\u001b[0;32m    263\u001b[0m                     for func, args, kwargs in self.items]\n\u001b[0;32m    264\u001b[0m \u001b[1;33m\u001b[0m\u001b[0m\n",
      "\u001b[1;32me:\\machine_learning_projects\\machine_learning\\lib\\site-packages\\joblib\\parallel.py\u001b[0m in \u001b[0;36m<listcomp>\u001b[1;34m(.0)\u001b[0m\n\u001b[0;32m    260\u001b[0m         \u001b[1;31m# change the default number of processes to -1\u001b[0m\u001b[1;33m\u001b[0m\u001b[1;33m\u001b[0m\u001b[0m\n\u001b[0;32m    261\u001b[0m         \u001b[1;32mwith\u001b[0m \u001b[0mparallel_backend\u001b[0m\u001b[1;33m(\u001b[0m\u001b[0mself\u001b[0m\u001b[1;33m.\u001b[0m\u001b[0m_backend\u001b[0m\u001b[1;33m,\u001b[0m \u001b[0mn_jobs\u001b[0m\u001b[1;33m=\u001b[0m\u001b[0mself\u001b[0m\u001b[1;33m.\u001b[0m\u001b[0m_n_jobs\u001b[0m\u001b[1;33m)\u001b[0m\u001b[1;33m:\u001b[0m\u001b[1;33m\u001b[0m\u001b[1;33m\u001b[0m\u001b[0m\n\u001b[1;32m--> 262\u001b[1;33m             return [func(*args, **kwargs)\n\u001b[0m\u001b[0;32m    263\u001b[0m                     for func, args, kwargs in self.items]\n\u001b[0;32m    264\u001b[0m \u001b[1;33m\u001b[0m\u001b[0m\n",
      "\u001b[1;32me:\\machine_learning_projects\\machine_learning\\lib\\site-packages\\sklearn\\utils\\fixes.py\u001b[0m in \u001b[0;36m__call__\u001b[1;34m(self, *args, **kwargs)\u001b[0m\n\u001b[0;32m    207\u001b[0m     \u001b[1;32mdef\u001b[0m \u001b[0m__call__\u001b[0m\u001b[1;33m(\u001b[0m\u001b[0mself\u001b[0m\u001b[1;33m,\u001b[0m \u001b[1;33m*\u001b[0m\u001b[0margs\u001b[0m\u001b[1;33m,\u001b[0m \u001b[1;33m**\u001b[0m\u001b[0mkwargs\u001b[0m\u001b[1;33m)\u001b[0m\u001b[1;33m:\u001b[0m\u001b[1;33m\u001b[0m\u001b[1;33m\u001b[0m\u001b[0m\n\u001b[0;32m    208\u001b[0m         \u001b[1;32mwith\u001b[0m \u001b[0mconfig_context\u001b[0m\u001b[1;33m(\u001b[0m\u001b[1;33m**\u001b[0m\u001b[0mself\u001b[0m\u001b[1;33m.\u001b[0m\u001b[0mconfig\u001b[0m\u001b[1;33m)\u001b[0m\u001b[1;33m:\u001b[0m\u001b[1;33m\u001b[0m\u001b[1;33m\u001b[0m\u001b[0m\n\u001b[1;32m--> 209\u001b[1;33m             \u001b[1;32mreturn\u001b[0m \u001b[0mself\u001b[0m\u001b[1;33m.\u001b[0m\u001b[0mfunction\u001b[0m\u001b[1;33m(\u001b[0m\u001b[1;33m*\u001b[0m\u001b[0margs\u001b[0m\u001b[1;33m,\u001b[0m \u001b[1;33m**\u001b[0m\u001b[0mkwargs\u001b[0m\u001b[1;33m)\u001b[0m\u001b[1;33m\u001b[0m\u001b[1;33m\u001b[0m\u001b[0m\n\u001b[0m\u001b[0;32m    210\u001b[0m \u001b[1;33m\u001b[0m\u001b[0m\n\u001b[0;32m    211\u001b[0m \u001b[1;33m\u001b[0m\u001b[0m\n",
      "\u001b[1;32me:\\machine_learning_projects\\machine_learning\\lib\\site-packages\\sklearn\\model_selection\\_validation.py\u001b[0m in \u001b[0;36m_fit_and_score\u001b[1;34m(estimator, X, y, scorer, train, test, verbose, parameters, fit_params, return_train_score, return_parameters, return_n_test_samples, return_times, return_estimator, split_progress, candidate_progress, error_score)\u001b[0m\n\u001b[0;32m    679\u001b[0m             \u001b[0mestimator\u001b[0m\u001b[1;33m.\u001b[0m\u001b[0mfit\u001b[0m\u001b[1;33m(\u001b[0m\u001b[0mX_train\u001b[0m\u001b[1;33m,\u001b[0m \u001b[1;33m**\u001b[0m\u001b[0mfit_params\u001b[0m\u001b[1;33m)\u001b[0m\u001b[1;33m\u001b[0m\u001b[1;33m\u001b[0m\u001b[0m\n\u001b[0;32m    680\u001b[0m         \u001b[1;32melse\u001b[0m\u001b[1;33m:\u001b[0m\u001b[1;33m\u001b[0m\u001b[1;33m\u001b[0m\u001b[0m\n\u001b[1;32m--> 681\u001b[1;33m             \u001b[0mestimator\u001b[0m\u001b[1;33m.\u001b[0m\u001b[0mfit\u001b[0m\u001b[1;33m(\u001b[0m\u001b[0mX_train\u001b[0m\u001b[1;33m,\u001b[0m \u001b[0my_train\u001b[0m\u001b[1;33m,\u001b[0m \u001b[1;33m**\u001b[0m\u001b[0mfit_params\u001b[0m\u001b[1;33m)\u001b[0m\u001b[1;33m\u001b[0m\u001b[1;33m\u001b[0m\u001b[0m\n\u001b[0m\u001b[0;32m    682\u001b[0m \u001b[1;33m\u001b[0m\u001b[0m\n\u001b[0;32m    683\u001b[0m     \u001b[1;32mexcept\u001b[0m \u001b[0mException\u001b[0m\u001b[1;33m:\u001b[0m\u001b[1;33m\u001b[0m\u001b[1;33m\u001b[0m\u001b[0m\n",
      "\u001b[1;32me:\\machine_learning_projects\\machine_learning\\lib\\site-packages\\sklearn\\pipeline.py\u001b[0m in \u001b[0;36mfit\u001b[1;34m(self, X, y, **fit_params)\u001b[0m\n\u001b[0;32m    392\u001b[0m             \u001b[1;32mif\u001b[0m \u001b[0mself\u001b[0m\u001b[1;33m.\u001b[0m\u001b[0m_final_estimator\u001b[0m \u001b[1;33m!=\u001b[0m \u001b[1;34m\"passthrough\"\u001b[0m\u001b[1;33m:\u001b[0m\u001b[1;33m\u001b[0m\u001b[1;33m\u001b[0m\u001b[0m\n\u001b[0;32m    393\u001b[0m                 \u001b[0mfit_params_last_step\u001b[0m \u001b[1;33m=\u001b[0m \u001b[0mfit_params_steps\u001b[0m\u001b[1;33m[\u001b[0m\u001b[0mself\u001b[0m\u001b[1;33m.\u001b[0m\u001b[0msteps\u001b[0m\u001b[1;33m[\u001b[0m\u001b[1;33m-\u001b[0m\u001b[1;36m1\u001b[0m\u001b[1;33m]\u001b[0m\u001b[1;33m[\u001b[0m\u001b[1;36m0\u001b[0m\u001b[1;33m]\u001b[0m\u001b[1;33m]\u001b[0m\u001b[1;33m\u001b[0m\u001b[1;33m\u001b[0m\u001b[0m\n\u001b[1;32m--> 394\u001b[1;33m                 \u001b[0mself\u001b[0m\u001b[1;33m.\u001b[0m\u001b[0m_final_estimator\u001b[0m\u001b[1;33m.\u001b[0m\u001b[0mfit\u001b[0m\u001b[1;33m(\u001b[0m\u001b[0mXt\u001b[0m\u001b[1;33m,\u001b[0m \u001b[0my\u001b[0m\u001b[1;33m,\u001b[0m \u001b[1;33m**\u001b[0m\u001b[0mfit_params_last_step\u001b[0m\u001b[1;33m)\u001b[0m\u001b[1;33m\u001b[0m\u001b[1;33m\u001b[0m\u001b[0m\n\u001b[0m\u001b[0;32m    395\u001b[0m \u001b[1;33m\u001b[0m\u001b[0m\n\u001b[0;32m    396\u001b[0m         \u001b[1;32mreturn\u001b[0m \u001b[0mself\u001b[0m\u001b[1;33m\u001b[0m\u001b[1;33m\u001b[0m\u001b[0m\n",
      "\u001b[1;32me:\\machine_learning_projects\\machine_learning\\lib\\site-packages\\sklearn\\linear_model\\_logistic.py\u001b[0m in \u001b[0;36mfit\u001b[1;34m(self, X, y, sample_weight)\u001b[0m\n\u001b[0;32m   1587\u001b[0m         \u001b[1;32melse\u001b[0m\u001b[1;33m:\u001b[0m\u001b[1;33m\u001b[0m\u001b[1;33m\u001b[0m\u001b[0m\n\u001b[0;32m   1588\u001b[0m             \u001b[0mprefer\u001b[0m \u001b[1;33m=\u001b[0m \u001b[1;34m\"processes\"\u001b[0m\u001b[1;33m\u001b[0m\u001b[1;33m\u001b[0m\u001b[0m\n\u001b[1;32m-> 1589\u001b[1;33m         fold_coefs_ = Parallel(\n\u001b[0m\u001b[0;32m   1590\u001b[0m             \u001b[0mn_jobs\u001b[0m\u001b[1;33m=\u001b[0m\u001b[0mself\u001b[0m\u001b[1;33m.\u001b[0m\u001b[0mn_jobs\u001b[0m\u001b[1;33m,\u001b[0m\u001b[1;33m\u001b[0m\u001b[1;33m\u001b[0m\u001b[0m\n\u001b[0;32m   1591\u001b[0m             \u001b[0mverbose\u001b[0m\u001b[1;33m=\u001b[0m\u001b[0mself\u001b[0m\u001b[1;33m.\u001b[0m\u001b[0mverbose\u001b[0m\u001b[1;33m,\u001b[0m\u001b[1;33m\u001b[0m\u001b[1;33m\u001b[0m\u001b[0m\n",
      "\u001b[1;32me:\\machine_learning_projects\\machine_learning\\lib\\site-packages\\joblib\\parallel.py\u001b[0m in \u001b[0;36m__call__\u001b[1;34m(self, iterable)\u001b[0m\n\u001b[0;32m   1044\u001b[0m                 \u001b[0mself\u001b[0m\u001b[1;33m.\u001b[0m\u001b[0m_iterating\u001b[0m \u001b[1;33m=\u001b[0m \u001b[0mself\u001b[0m\u001b[1;33m.\u001b[0m\u001b[0m_original_iterator\u001b[0m \u001b[1;32mis\u001b[0m \u001b[1;32mnot\u001b[0m \u001b[1;32mNone\u001b[0m\u001b[1;33m\u001b[0m\u001b[1;33m\u001b[0m\u001b[0m\n\u001b[0;32m   1045\u001b[0m \u001b[1;33m\u001b[0m\u001b[0m\n\u001b[1;32m-> 1046\u001b[1;33m             \u001b[1;32mwhile\u001b[0m \u001b[0mself\u001b[0m\u001b[1;33m.\u001b[0m\u001b[0mdispatch_one_batch\u001b[0m\u001b[1;33m(\u001b[0m\u001b[0miterator\u001b[0m\u001b[1;33m)\u001b[0m\u001b[1;33m:\u001b[0m\u001b[1;33m\u001b[0m\u001b[1;33m\u001b[0m\u001b[0m\n\u001b[0m\u001b[0;32m   1047\u001b[0m                 \u001b[1;32mpass\u001b[0m\u001b[1;33m\u001b[0m\u001b[1;33m\u001b[0m\u001b[0m\n\u001b[0;32m   1048\u001b[0m \u001b[1;33m\u001b[0m\u001b[0m\n",
      "\u001b[1;32me:\\machine_learning_projects\\machine_learning\\lib\\site-packages\\joblib\\parallel.py\u001b[0m in \u001b[0;36mdispatch_one_batch\u001b[1;34m(self, iterator)\u001b[0m\n\u001b[0;32m    859\u001b[0m                 \u001b[1;32mreturn\u001b[0m \u001b[1;32mFalse\u001b[0m\u001b[1;33m\u001b[0m\u001b[1;33m\u001b[0m\u001b[0m\n\u001b[0;32m    860\u001b[0m             \u001b[1;32melse\u001b[0m\u001b[1;33m:\u001b[0m\u001b[1;33m\u001b[0m\u001b[1;33m\u001b[0m\u001b[0m\n\u001b[1;32m--> 861\u001b[1;33m                 \u001b[0mself\u001b[0m\u001b[1;33m.\u001b[0m\u001b[0m_dispatch\u001b[0m\u001b[1;33m(\u001b[0m\u001b[0mtasks\u001b[0m\u001b[1;33m)\u001b[0m\u001b[1;33m\u001b[0m\u001b[1;33m\u001b[0m\u001b[0m\n\u001b[0m\u001b[0;32m    862\u001b[0m                 \u001b[1;32mreturn\u001b[0m \u001b[1;32mTrue\u001b[0m\u001b[1;33m\u001b[0m\u001b[1;33m\u001b[0m\u001b[0m\n\u001b[0;32m    863\u001b[0m \u001b[1;33m\u001b[0m\u001b[0m\n",
      "\u001b[1;32me:\\machine_learning_projects\\machine_learning\\lib\\site-packages\\joblib\\parallel.py\u001b[0m in \u001b[0;36m_dispatch\u001b[1;34m(self, batch)\u001b[0m\n\u001b[0;32m    777\u001b[0m         \u001b[1;32mwith\u001b[0m \u001b[0mself\u001b[0m\u001b[1;33m.\u001b[0m\u001b[0m_lock\u001b[0m\u001b[1;33m:\u001b[0m\u001b[1;33m\u001b[0m\u001b[1;33m\u001b[0m\u001b[0m\n\u001b[0;32m    778\u001b[0m             \u001b[0mjob_idx\u001b[0m \u001b[1;33m=\u001b[0m \u001b[0mlen\u001b[0m\u001b[1;33m(\u001b[0m\u001b[0mself\u001b[0m\u001b[1;33m.\u001b[0m\u001b[0m_jobs\u001b[0m\u001b[1;33m)\u001b[0m\u001b[1;33m\u001b[0m\u001b[1;33m\u001b[0m\u001b[0m\n\u001b[1;32m--> 779\u001b[1;33m             \u001b[0mjob\u001b[0m \u001b[1;33m=\u001b[0m \u001b[0mself\u001b[0m\u001b[1;33m.\u001b[0m\u001b[0m_backend\u001b[0m\u001b[1;33m.\u001b[0m\u001b[0mapply_async\u001b[0m\u001b[1;33m(\u001b[0m\u001b[0mbatch\u001b[0m\u001b[1;33m,\u001b[0m \u001b[0mcallback\u001b[0m\u001b[1;33m=\u001b[0m\u001b[0mcb\u001b[0m\u001b[1;33m)\u001b[0m\u001b[1;33m\u001b[0m\u001b[1;33m\u001b[0m\u001b[0m\n\u001b[0m\u001b[0;32m    780\u001b[0m             \u001b[1;31m# A job can complete so quickly than its callback is\u001b[0m\u001b[1;33m\u001b[0m\u001b[1;33m\u001b[0m\u001b[0m\n\u001b[0;32m    781\u001b[0m             \u001b[1;31m# called before we get here, causing self._jobs to\u001b[0m\u001b[1;33m\u001b[0m\u001b[1;33m\u001b[0m\u001b[0m\n",
      "\u001b[1;32me:\\machine_learning_projects\\machine_learning\\lib\\site-packages\\joblib\\_parallel_backends.py\u001b[0m in \u001b[0;36mapply_async\u001b[1;34m(self, func, callback)\u001b[0m\n\u001b[0;32m    206\u001b[0m     \u001b[1;32mdef\u001b[0m \u001b[0mapply_async\u001b[0m\u001b[1;33m(\u001b[0m\u001b[0mself\u001b[0m\u001b[1;33m,\u001b[0m \u001b[0mfunc\u001b[0m\u001b[1;33m,\u001b[0m \u001b[0mcallback\u001b[0m\u001b[1;33m=\u001b[0m\u001b[1;32mNone\u001b[0m\u001b[1;33m)\u001b[0m\u001b[1;33m:\u001b[0m\u001b[1;33m\u001b[0m\u001b[1;33m\u001b[0m\u001b[0m\n\u001b[0;32m    207\u001b[0m         \u001b[1;34m\"\"\"Schedule a func to be run\"\"\"\u001b[0m\u001b[1;33m\u001b[0m\u001b[1;33m\u001b[0m\u001b[0m\n\u001b[1;32m--> 208\u001b[1;33m         \u001b[0mresult\u001b[0m \u001b[1;33m=\u001b[0m \u001b[0mImmediateResult\u001b[0m\u001b[1;33m(\u001b[0m\u001b[0mfunc\u001b[0m\u001b[1;33m)\u001b[0m\u001b[1;33m\u001b[0m\u001b[1;33m\u001b[0m\u001b[0m\n\u001b[0m\u001b[0;32m    209\u001b[0m         \u001b[1;32mif\u001b[0m \u001b[0mcallback\u001b[0m\u001b[1;33m:\u001b[0m\u001b[1;33m\u001b[0m\u001b[1;33m\u001b[0m\u001b[0m\n\u001b[0;32m    210\u001b[0m             \u001b[0mcallback\u001b[0m\u001b[1;33m(\u001b[0m\u001b[0mresult\u001b[0m\u001b[1;33m)\u001b[0m\u001b[1;33m\u001b[0m\u001b[1;33m\u001b[0m\u001b[0m\n",
      "\u001b[1;32me:\\machine_learning_projects\\machine_learning\\lib\\site-packages\\joblib\\_parallel_backends.py\u001b[0m in \u001b[0;36m__init__\u001b[1;34m(self, batch)\u001b[0m\n\u001b[0;32m    570\u001b[0m         \u001b[1;31m# Don't delay the application, to avoid keeping the input\u001b[0m\u001b[1;33m\u001b[0m\u001b[1;33m\u001b[0m\u001b[0m\n\u001b[0;32m    571\u001b[0m         \u001b[1;31m# arguments in memory\u001b[0m\u001b[1;33m\u001b[0m\u001b[1;33m\u001b[0m\u001b[0m\n\u001b[1;32m--> 572\u001b[1;33m         \u001b[0mself\u001b[0m\u001b[1;33m.\u001b[0m\u001b[0mresults\u001b[0m \u001b[1;33m=\u001b[0m \u001b[0mbatch\u001b[0m\u001b[1;33m(\u001b[0m\u001b[1;33m)\u001b[0m\u001b[1;33m\u001b[0m\u001b[1;33m\u001b[0m\u001b[0m\n\u001b[0m\u001b[0;32m    573\u001b[0m \u001b[1;33m\u001b[0m\u001b[0m\n\u001b[0;32m    574\u001b[0m     \u001b[1;32mdef\u001b[0m \u001b[0mget\u001b[0m\u001b[1;33m(\u001b[0m\u001b[0mself\u001b[0m\u001b[1;33m)\u001b[0m\u001b[1;33m:\u001b[0m\u001b[1;33m\u001b[0m\u001b[1;33m\u001b[0m\u001b[0m\n",
      "\u001b[1;32me:\\machine_learning_projects\\machine_learning\\lib\\site-packages\\joblib\\parallel.py\u001b[0m in \u001b[0;36m__call__\u001b[1;34m(self)\u001b[0m\n\u001b[0;32m    260\u001b[0m         \u001b[1;31m# change the default number of processes to -1\u001b[0m\u001b[1;33m\u001b[0m\u001b[1;33m\u001b[0m\u001b[0m\n\u001b[0;32m    261\u001b[0m         \u001b[1;32mwith\u001b[0m \u001b[0mparallel_backend\u001b[0m\u001b[1;33m(\u001b[0m\u001b[0mself\u001b[0m\u001b[1;33m.\u001b[0m\u001b[0m_backend\u001b[0m\u001b[1;33m,\u001b[0m \u001b[0mn_jobs\u001b[0m\u001b[1;33m=\u001b[0m\u001b[0mself\u001b[0m\u001b[1;33m.\u001b[0m\u001b[0m_n_jobs\u001b[0m\u001b[1;33m)\u001b[0m\u001b[1;33m:\u001b[0m\u001b[1;33m\u001b[0m\u001b[1;33m\u001b[0m\u001b[0m\n\u001b[1;32m--> 262\u001b[1;33m             return [func(*args, **kwargs)\n\u001b[0m\u001b[0;32m    263\u001b[0m                     for func, args, kwargs in self.items]\n\u001b[0;32m    264\u001b[0m \u001b[1;33m\u001b[0m\u001b[0m\n",
      "\u001b[1;32me:\\machine_learning_projects\\machine_learning\\lib\\site-packages\\joblib\\parallel.py\u001b[0m in \u001b[0;36m<listcomp>\u001b[1;34m(.0)\u001b[0m\n\u001b[0;32m    260\u001b[0m         \u001b[1;31m# change the default number of processes to -1\u001b[0m\u001b[1;33m\u001b[0m\u001b[1;33m\u001b[0m\u001b[0m\n\u001b[0;32m    261\u001b[0m         \u001b[1;32mwith\u001b[0m \u001b[0mparallel_backend\u001b[0m\u001b[1;33m(\u001b[0m\u001b[0mself\u001b[0m\u001b[1;33m.\u001b[0m\u001b[0m_backend\u001b[0m\u001b[1;33m,\u001b[0m \u001b[0mn_jobs\u001b[0m\u001b[1;33m=\u001b[0m\u001b[0mself\u001b[0m\u001b[1;33m.\u001b[0m\u001b[0m_n_jobs\u001b[0m\u001b[1;33m)\u001b[0m\u001b[1;33m:\u001b[0m\u001b[1;33m\u001b[0m\u001b[1;33m\u001b[0m\u001b[0m\n\u001b[1;32m--> 262\u001b[1;33m             return [func(*args, **kwargs)\n\u001b[0m\u001b[0;32m    263\u001b[0m                     for func, args, kwargs in self.items]\n\u001b[0;32m    264\u001b[0m \u001b[1;33m\u001b[0m\u001b[0m\n",
      "\u001b[1;32me:\\machine_learning_projects\\machine_learning\\lib\\site-packages\\sklearn\\utils\\fixes.py\u001b[0m in \u001b[0;36m__call__\u001b[1;34m(self, *args, **kwargs)\u001b[0m\n\u001b[0;32m    207\u001b[0m     \u001b[1;32mdef\u001b[0m \u001b[0m__call__\u001b[0m\u001b[1;33m(\u001b[0m\u001b[0mself\u001b[0m\u001b[1;33m,\u001b[0m \u001b[1;33m*\u001b[0m\u001b[0margs\u001b[0m\u001b[1;33m,\u001b[0m \u001b[1;33m**\u001b[0m\u001b[0mkwargs\u001b[0m\u001b[1;33m)\u001b[0m\u001b[1;33m:\u001b[0m\u001b[1;33m\u001b[0m\u001b[1;33m\u001b[0m\u001b[0m\n\u001b[0;32m    208\u001b[0m         \u001b[1;32mwith\u001b[0m \u001b[0mconfig_context\u001b[0m\u001b[1;33m(\u001b[0m\u001b[1;33m**\u001b[0m\u001b[0mself\u001b[0m\u001b[1;33m.\u001b[0m\u001b[0mconfig\u001b[0m\u001b[1;33m)\u001b[0m\u001b[1;33m:\u001b[0m\u001b[1;33m\u001b[0m\u001b[1;33m\u001b[0m\u001b[0m\n\u001b[1;32m--> 209\u001b[1;33m             \u001b[1;32mreturn\u001b[0m \u001b[0mself\u001b[0m\u001b[1;33m.\u001b[0m\u001b[0mfunction\u001b[0m\u001b[1;33m(\u001b[0m\u001b[1;33m*\u001b[0m\u001b[0margs\u001b[0m\u001b[1;33m,\u001b[0m \u001b[1;33m**\u001b[0m\u001b[0mkwargs\u001b[0m\u001b[1;33m)\u001b[0m\u001b[1;33m\u001b[0m\u001b[1;33m\u001b[0m\u001b[0m\n\u001b[0m\u001b[0;32m    210\u001b[0m \u001b[1;33m\u001b[0m\u001b[0m\n\u001b[0;32m    211\u001b[0m \u001b[1;33m\u001b[0m\u001b[0m\n",
      "\u001b[1;32me:\\machine_learning_projects\\machine_learning\\lib\\site-packages\\sklearn\\linear_model\\_logistic.py\u001b[0m in \u001b[0;36m_logistic_regression_path\u001b[1;34m(X, y, pos_class, Cs, fit_intercept, max_iter, tol, verbose, solver, coef, class_weight, dual, penalty, intercept_scaling, multi_class, random_state, check_input, max_squared_sum, sample_weight, l1_ratio)\u001b[0m\n\u001b[0;32m    804\u001b[0m                 \u001b[0mnp\u001b[0m\u001b[1;33m.\u001b[0m\u001b[0msearchsorted\u001b[0m\u001b[1;33m(\u001b[0m\u001b[0mnp\u001b[0m\u001b[1;33m.\u001b[0m\u001b[0marray\u001b[0m\u001b[1;33m(\u001b[0m\u001b[1;33m[\u001b[0m\u001b[1;36m0\u001b[0m\u001b[1;33m,\u001b[0m \u001b[1;36m1\u001b[0m\u001b[1;33m,\u001b[0m \u001b[1;36m2\u001b[0m\u001b[1;33m,\u001b[0m \u001b[1;36m3\u001b[0m\u001b[1;33m]\u001b[0m\u001b[1;33m)\u001b[0m\u001b[1;33m,\u001b[0m \u001b[0mverbose\u001b[0m\u001b[1;33m)\u001b[0m\u001b[1;33m\u001b[0m\u001b[1;33m\u001b[0m\u001b[0m\n\u001b[0;32m    805\u001b[0m             ]\n\u001b[1;32m--> 806\u001b[1;33m             opt_res = optimize.minimize(\n\u001b[0m\u001b[0;32m    807\u001b[0m                 \u001b[0mfunc\u001b[0m\u001b[1;33m,\u001b[0m\u001b[1;33m\u001b[0m\u001b[1;33m\u001b[0m\u001b[0m\n\u001b[0;32m    808\u001b[0m                 \u001b[0mw0\u001b[0m\u001b[1;33m,\u001b[0m\u001b[1;33m\u001b[0m\u001b[1;33m\u001b[0m\u001b[0m\n",
      "\u001b[1;32me:\\machine_learning_projects\\machine_learning\\lib\\site-packages\\scipy\\optimize\\_minimize.py\u001b[0m in \u001b[0;36mminimize\u001b[1;34m(fun, x0, args, method, jac, hess, hessp, bounds, constraints, tol, callback, options)\u001b[0m\n\u001b[0;32m    621\u001b[0m                                   **options)\n\u001b[0;32m    622\u001b[0m     \u001b[1;32melif\u001b[0m \u001b[0mmeth\u001b[0m \u001b[1;33m==\u001b[0m \u001b[1;34m'l-bfgs-b'\u001b[0m\u001b[1;33m:\u001b[0m\u001b[1;33m\u001b[0m\u001b[1;33m\u001b[0m\u001b[0m\n\u001b[1;32m--> 623\u001b[1;33m         return _minimize_lbfgsb(fun, x0, args, jac, bounds,\n\u001b[0m\u001b[0;32m    624\u001b[0m                                 callback=callback, **options)\n\u001b[0;32m    625\u001b[0m     \u001b[1;32melif\u001b[0m \u001b[0mmeth\u001b[0m \u001b[1;33m==\u001b[0m \u001b[1;34m'tnc'\u001b[0m\u001b[1;33m:\u001b[0m\u001b[1;33m\u001b[0m\u001b[1;33m\u001b[0m\u001b[0m\n",
      "\u001b[1;32me:\\machine_learning_projects\\machine_learning\\lib\\site-packages\\scipy\\optimize\\lbfgsb.py\u001b[0m in \u001b[0;36m_minimize_lbfgsb\u001b[1;34m(fun, x0, args, jac, bounds, disp, maxcor, ftol, gtol, eps, maxfun, maxiter, iprint, callback, maxls, finite_diff_rel_step, **unknown_options)\u001b[0m\n\u001b[0;32m    358\u001b[0m             \u001b[1;31m# until the completion of the current minimization iteration.\u001b[0m\u001b[1;33m\u001b[0m\u001b[1;33m\u001b[0m\u001b[0m\n\u001b[0;32m    359\u001b[0m             \u001b[1;31m# Overwrite f and g:\u001b[0m\u001b[1;33m\u001b[0m\u001b[1;33m\u001b[0m\u001b[0m\n\u001b[1;32m--> 360\u001b[1;33m             \u001b[0mf\u001b[0m\u001b[1;33m,\u001b[0m \u001b[0mg\u001b[0m \u001b[1;33m=\u001b[0m \u001b[0mfunc_and_grad\u001b[0m\u001b[1;33m(\u001b[0m\u001b[0mx\u001b[0m\u001b[1;33m)\u001b[0m\u001b[1;33m\u001b[0m\u001b[1;33m\u001b[0m\u001b[0m\n\u001b[0m\u001b[0;32m    361\u001b[0m         \u001b[1;32melif\u001b[0m \u001b[0mtask_str\u001b[0m\u001b[1;33m.\u001b[0m\u001b[0mstartswith\u001b[0m\u001b[1;33m(\u001b[0m\u001b[1;34mb'NEW_X'\u001b[0m\u001b[1;33m)\u001b[0m\u001b[1;33m:\u001b[0m\u001b[1;33m\u001b[0m\u001b[1;33m\u001b[0m\u001b[0m\n\u001b[0;32m    362\u001b[0m             \u001b[1;31m# new iteration\u001b[0m\u001b[1;33m\u001b[0m\u001b[1;33m\u001b[0m\u001b[0m\n",
      "\u001b[1;32me:\\machine_learning_projects\\machine_learning\\lib\\site-packages\\scipy\\optimize\\_differentiable_functions.py\u001b[0m in \u001b[0;36mfun_and_grad\u001b[1;34m(self, x)\u001b[0m\n\u001b[0;32m    265\u001b[0m         \u001b[1;32mif\u001b[0m \u001b[1;32mnot\u001b[0m \u001b[0mnp\u001b[0m\u001b[1;33m.\u001b[0m\u001b[0marray_equal\u001b[0m\u001b[1;33m(\u001b[0m\u001b[0mx\u001b[0m\u001b[1;33m,\u001b[0m \u001b[0mself\u001b[0m\u001b[1;33m.\u001b[0m\u001b[0mx\u001b[0m\u001b[1;33m)\u001b[0m\u001b[1;33m:\u001b[0m\u001b[1;33m\u001b[0m\u001b[1;33m\u001b[0m\u001b[0m\n\u001b[0;32m    266\u001b[0m             \u001b[0mself\u001b[0m\u001b[1;33m.\u001b[0m\u001b[0m_update_x_impl\u001b[0m\u001b[1;33m(\u001b[0m\u001b[0mx\u001b[0m\u001b[1;33m)\u001b[0m\u001b[1;33m\u001b[0m\u001b[1;33m\u001b[0m\u001b[0m\n\u001b[1;32m--> 267\u001b[1;33m         \u001b[0mself\u001b[0m\u001b[1;33m.\u001b[0m\u001b[0m_update_fun\u001b[0m\u001b[1;33m(\u001b[0m\u001b[1;33m)\u001b[0m\u001b[1;33m\u001b[0m\u001b[1;33m\u001b[0m\u001b[0m\n\u001b[0m\u001b[0;32m    268\u001b[0m         \u001b[0mself\u001b[0m\u001b[1;33m.\u001b[0m\u001b[0m_update_grad\u001b[0m\u001b[1;33m(\u001b[0m\u001b[1;33m)\u001b[0m\u001b[1;33m\u001b[0m\u001b[1;33m\u001b[0m\u001b[0m\n\u001b[0;32m    269\u001b[0m         \u001b[1;32mreturn\u001b[0m \u001b[0mself\u001b[0m\u001b[1;33m.\u001b[0m\u001b[0mf\u001b[0m\u001b[1;33m,\u001b[0m \u001b[0mself\u001b[0m\u001b[1;33m.\u001b[0m\u001b[0mg\u001b[0m\u001b[1;33m\u001b[0m\u001b[1;33m\u001b[0m\u001b[0m\n",
      "\u001b[1;32me:\\machine_learning_projects\\machine_learning\\lib\\site-packages\\scipy\\optimize\\_differentiable_functions.py\u001b[0m in \u001b[0;36m_update_fun\u001b[1;34m(self)\u001b[0m\n\u001b[0;32m    231\u001b[0m     \u001b[1;32mdef\u001b[0m \u001b[0m_update_fun\u001b[0m\u001b[1;33m(\u001b[0m\u001b[0mself\u001b[0m\u001b[1;33m)\u001b[0m\u001b[1;33m:\u001b[0m\u001b[1;33m\u001b[0m\u001b[1;33m\u001b[0m\u001b[0m\n\u001b[0;32m    232\u001b[0m         \u001b[1;32mif\u001b[0m \u001b[1;32mnot\u001b[0m \u001b[0mself\u001b[0m\u001b[1;33m.\u001b[0m\u001b[0mf_updated\u001b[0m\u001b[1;33m:\u001b[0m\u001b[1;33m\u001b[0m\u001b[1;33m\u001b[0m\u001b[0m\n\u001b[1;32m--> 233\u001b[1;33m             \u001b[0mself\u001b[0m\u001b[1;33m.\u001b[0m\u001b[0m_update_fun_impl\u001b[0m\u001b[1;33m(\u001b[0m\u001b[1;33m)\u001b[0m\u001b[1;33m\u001b[0m\u001b[1;33m\u001b[0m\u001b[0m\n\u001b[0m\u001b[0;32m    234\u001b[0m             \u001b[0mself\u001b[0m\u001b[1;33m.\u001b[0m\u001b[0mf_updated\u001b[0m \u001b[1;33m=\u001b[0m \u001b[1;32mTrue\u001b[0m\u001b[1;33m\u001b[0m\u001b[1;33m\u001b[0m\u001b[0m\n\u001b[0;32m    235\u001b[0m \u001b[1;33m\u001b[0m\u001b[0m\n",
      "\u001b[1;32me:\\machine_learning_projects\\machine_learning\\lib\\site-packages\\scipy\\optimize\\_differentiable_functions.py\u001b[0m in \u001b[0;36mupdate_fun\u001b[1;34m()\u001b[0m\n\u001b[0;32m    135\u001b[0m \u001b[1;33m\u001b[0m\u001b[0m\n\u001b[0;32m    136\u001b[0m         \u001b[1;32mdef\u001b[0m \u001b[0mupdate_fun\u001b[0m\u001b[1;33m(\u001b[0m\u001b[1;33m)\u001b[0m\u001b[1;33m:\u001b[0m\u001b[1;33m\u001b[0m\u001b[1;33m\u001b[0m\u001b[0m\n\u001b[1;32m--> 137\u001b[1;33m             \u001b[0mself\u001b[0m\u001b[1;33m.\u001b[0m\u001b[0mf\u001b[0m \u001b[1;33m=\u001b[0m \u001b[0mfun_wrapped\u001b[0m\u001b[1;33m(\u001b[0m\u001b[0mself\u001b[0m\u001b[1;33m.\u001b[0m\u001b[0mx\u001b[0m\u001b[1;33m)\u001b[0m\u001b[1;33m\u001b[0m\u001b[1;33m\u001b[0m\u001b[0m\n\u001b[0m\u001b[0;32m    138\u001b[0m \u001b[1;33m\u001b[0m\u001b[0m\n\u001b[0;32m    139\u001b[0m         \u001b[0mself\u001b[0m\u001b[1;33m.\u001b[0m\u001b[0m_update_fun_impl\u001b[0m \u001b[1;33m=\u001b[0m \u001b[0mupdate_fun\u001b[0m\u001b[1;33m\u001b[0m\u001b[1;33m\u001b[0m\u001b[0m\n",
      "\u001b[1;32me:\\machine_learning_projects\\machine_learning\\lib\\site-packages\\scipy\\optimize\\_differentiable_functions.py\u001b[0m in \u001b[0;36mfun_wrapped\u001b[1;34m(x)\u001b[0m\n\u001b[0;32m    132\u001b[0m             \u001b[1;31m# Overwriting results in undefined behaviour because\u001b[0m\u001b[1;33m\u001b[0m\u001b[1;33m\u001b[0m\u001b[0m\n\u001b[0;32m    133\u001b[0m             \u001b[1;31m# fun(self.x) will change self.x, with the two no longer linked.\u001b[0m\u001b[1;33m\u001b[0m\u001b[1;33m\u001b[0m\u001b[0m\n\u001b[1;32m--> 134\u001b[1;33m             \u001b[1;32mreturn\u001b[0m \u001b[0mfun\u001b[0m\u001b[1;33m(\u001b[0m\u001b[0mnp\u001b[0m\u001b[1;33m.\u001b[0m\u001b[0mcopy\u001b[0m\u001b[1;33m(\u001b[0m\u001b[0mx\u001b[0m\u001b[1;33m)\u001b[0m\u001b[1;33m,\u001b[0m \u001b[1;33m*\u001b[0m\u001b[0margs\u001b[0m\u001b[1;33m)\u001b[0m\u001b[1;33m\u001b[0m\u001b[1;33m\u001b[0m\u001b[0m\n\u001b[0m\u001b[0;32m    135\u001b[0m \u001b[1;33m\u001b[0m\u001b[0m\n\u001b[0;32m    136\u001b[0m         \u001b[1;32mdef\u001b[0m \u001b[0mupdate_fun\u001b[0m\u001b[1;33m(\u001b[0m\u001b[1;33m)\u001b[0m\u001b[1;33m:\u001b[0m\u001b[1;33m\u001b[0m\u001b[1;33m\u001b[0m\u001b[0m\n",
      "\u001b[1;32me:\\machine_learning_projects\\machine_learning\\lib\\site-packages\\scipy\\optimize\\optimize.py\u001b[0m in \u001b[0;36m__call__\u001b[1;34m(self, x, *args)\u001b[0m\n\u001b[0;32m     72\u001b[0m     \u001b[1;32mdef\u001b[0m \u001b[0m__call__\u001b[0m\u001b[1;33m(\u001b[0m\u001b[0mself\u001b[0m\u001b[1;33m,\u001b[0m \u001b[0mx\u001b[0m\u001b[1;33m,\u001b[0m \u001b[1;33m*\u001b[0m\u001b[0margs\u001b[0m\u001b[1;33m)\u001b[0m\u001b[1;33m:\u001b[0m\u001b[1;33m\u001b[0m\u001b[1;33m\u001b[0m\u001b[0m\n\u001b[0;32m     73\u001b[0m         \u001b[1;34m\"\"\" returns the the function value \"\"\"\u001b[0m\u001b[1;33m\u001b[0m\u001b[1;33m\u001b[0m\u001b[0m\n\u001b[1;32m---> 74\u001b[1;33m         \u001b[0mself\u001b[0m\u001b[1;33m.\u001b[0m\u001b[0m_compute_if_needed\u001b[0m\u001b[1;33m(\u001b[0m\u001b[0mx\u001b[0m\u001b[1;33m,\u001b[0m \u001b[1;33m*\u001b[0m\u001b[0margs\u001b[0m\u001b[1;33m)\u001b[0m\u001b[1;33m\u001b[0m\u001b[1;33m\u001b[0m\u001b[0m\n\u001b[0m\u001b[0;32m     75\u001b[0m         \u001b[1;32mreturn\u001b[0m \u001b[0mself\u001b[0m\u001b[1;33m.\u001b[0m\u001b[0m_value\u001b[0m\u001b[1;33m\u001b[0m\u001b[1;33m\u001b[0m\u001b[0m\n\u001b[0;32m     76\u001b[0m \u001b[1;33m\u001b[0m\u001b[0m\n",
      "\u001b[1;32me:\\machine_learning_projects\\machine_learning\\lib\\site-packages\\scipy\\optimize\\optimize.py\u001b[0m in \u001b[0;36m_compute_if_needed\u001b[1;34m(self, x, *args)\u001b[0m\n\u001b[0;32m     66\u001b[0m         \u001b[1;32mif\u001b[0m \u001b[1;32mnot\u001b[0m \u001b[0mnp\u001b[0m\u001b[1;33m.\u001b[0m\u001b[0mall\u001b[0m\u001b[1;33m(\u001b[0m\u001b[0mx\u001b[0m \u001b[1;33m==\u001b[0m \u001b[0mself\u001b[0m\u001b[1;33m.\u001b[0m\u001b[0mx\u001b[0m\u001b[1;33m)\u001b[0m \u001b[1;32mor\u001b[0m \u001b[0mself\u001b[0m\u001b[1;33m.\u001b[0m\u001b[0m_value\u001b[0m \u001b[1;32mis\u001b[0m \u001b[1;32mNone\u001b[0m \u001b[1;32mor\u001b[0m \u001b[0mself\u001b[0m\u001b[1;33m.\u001b[0m\u001b[0mjac\u001b[0m \u001b[1;32mis\u001b[0m \u001b[1;32mNone\u001b[0m\u001b[1;33m:\u001b[0m\u001b[1;33m\u001b[0m\u001b[1;33m\u001b[0m\u001b[0m\n\u001b[0;32m     67\u001b[0m             \u001b[0mself\u001b[0m\u001b[1;33m.\u001b[0m\u001b[0mx\u001b[0m \u001b[1;33m=\u001b[0m \u001b[0mnp\u001b[0m\u001b[1;33m.\u001b[0m\u001b[0masarray\u001b[0m\u001b[1;33m(\u001b[0m\u001b[0mx\u001b[0m\u001b[1;33m)\u001b[0m\u001b[1;33m.\u001b[0m\u001b[0mcopy\u001b[0m\u001b[1;33m(\u001b[0m\u001b[1;33m)\u001b[0m\u001b[1;33m\u001b[0m\u001b[1;33m\u001b[0m\u001b[0m\n\u001b[1;32m---> 68\u001b[1;33m             \u001b[0mfg\u001b[0m \u001b[1;33m=\u001b[0m \u001b[0mself\u001b[0m\u001b[1;33m.\u001b[0m\u001b[0mfun\u001b[0m\u001b[1;33m(\u001b[0m\u001b[0mx\u001b[0m\u001b[1;33m,\u001b[0m \u001b[1;33m*\u001b[0m\u001b[0margs\u001b[0m\u001b[1;33m)\u001b[0m\u001b[1;33m\u001b[0m\u001b[1;33m\u001b[0m\u001b[0m\n\u001b[0m\u001b[0;32m     69\u001b[0m             \u001b[0mself\u001b[0m\u001b[1;33m.\u001b[0m\u001b[0mjac\u001b[0m \u001b[1;33m=\u001b[0m \u001b[0mfg\u001b[0m\u001b[1;33m[\u001b[0m\u001b[1;36m1\u001b[0m\u001b[1;33m]\u001b[0m\u001b[1;33m\u001b[0m\u001b[1;33m\u001b[0m\u001b[0m\n\u001b[0;32m     70\u001b[0m             \u001b[0mself\u001b[0m\u001b[1;33m.\u001b[0m\u001b[0m_value\u001b[0m \u001b[1;33m=\u001b[0m \u001b[0mfg\u001b[0m\u001b[1;33m[\u001b[0m\u001b[1;36m0\u001b[0m\u001b[1;33m]\u001b[0m\u001b[1;33m\u001b[0m\u001b[1;33m\u001b[0m\u001b[0m\n",
      "\u001b[1;32me:\\machine_learning_projects\\machine_learning\\lib\\site-packages\\sklearn\\linear_model\\_logistic.py\u001b[0m in \u001b[0;36m_logistic_loss_and_grad\u001b[1;34m(w, X, y, alpha, sample_weight)\u001b[0m\n\u001b[0;32m    122\u001b[0m     \u001b[0mout\u001b[0m \u001b[1;33m=\u001b[0m \u001b[1;33m-\u001b[0m\u001b[0mnp\u001b[0m\u001b[1;33m.\u001b[0m\u001b[0msum\u001b[0m\u001b[1;33m(\u001b[0m\u001b[0msample_weight\u001b[0m \u001b[1;33m*\u001b[0m \u001b[0mlog_logistic\u001b[0m\u001b[1;33m(\u001b[0m\u001b[0myz\u001b[0m\u001b[1;33m)\u001b[0m\u001b[1;33m)\u001b[0m \u001b[1;33m+\u001b[0m \u001b[1;36m0.5\u001b[0m \u001b[1;33m*\u001b[0m \u001b[0malpha\u001b[0m \u001b[1;33m*\u001b[0m \u001b[0mnp\u001b[0m\u001b[1;33m.\u001b[0m\u001b[0mdot\u001b[0m\u001b[1;33m(\u001b[0m\u001b[0mw\u001b[0m\u001b[1;33m,\u001b[0m \u001b[0mw\u001b[0m\u001b[1;33m)\u001b[0m\u001b[1;33m\u001b[0m\u001b[1;33m\u001b[0m\u001b[0m\n\u001b[0;32m    123\u001b[0m \u001b[1;33m\u001b[0m\u001b[0m\n\u001b[1;32m--> 124\u001b[1;33m     \u001b[0mz\u001b[0m \u001b[1;33m=\u001b[0m \u001b[0mexpit\u001b[0m\u001b[1;33m(\u001b[0m\u001b[0myz\u001b[0m\u001b[1;33m)\u001b[0m\u001b[1;33m\u001b[0m\u001b[1;33m\u001b[0m\u001b[0m\n\u001b[0m\u001b[0;32m    125\u001b[0m     \u001b[0mz0\u001b[0m \u001b[1;33m=\u001b[0m \u001b[0msample_weight\u001b[0m \u001b[1;33m*\u001b[0m \u001b[1;33m(\u001b[0m\u001b[0mz\u001b[0m \u001b[1;33m-\u001b[0m \u001b[1;36m1\u001b[0m\u001b[1;33m)\u001b[0m \u001b[1;33m*\u001b[0m \u001b[0my\u001b[0m\u001b[1;33m\u001b[0m\u001b[1;33m\u001b[0m\u001b[0m\n\u001b[0;32m    126\u001b[0m \u001b[1;33m\u001b[0m\u001b[0m\n",
      "\u001b[1;31mKeyboardInterrupt\u001b[0m: "
     ]
    }
   ],
   "source": [
    "from sklearn.model_selection import GridSearchCV\n",
    "param_grid = {'cluster__n_clusters': [x for x in range(2,100)]}\n",
    "grid_clf = GridSearchCV(pipeline, param_grid, cv=3, verbose=2)\n",
    "grid_clf.fit(X_train, y_train)\n",
    "#Let’s look at best value for k, and the performance of the resulting pipeline:\n",
    "print(grid_clf.best_params_)\n",
    "grid_clf.score(X_test, y_test)\n",
    "\n"
   ]
  },
  {
   "cell_type": "markdown",
   "metadata": {},
   "source": [
    "# Hierarchical Clustering\n",
    "![purple-divider](https://user-images.githubusercontent.com/7065401/52071927-c1cd7100-2562-11e9-908a-dde91ba14e59.png)"
   ]
  },
  {
   "cell_type": "markdown",
   "metadata": {},
   "source": [
    "Hierarchical clustering is an alternative to K-means that can yield very different clus‐\n",
    "ters. Hierarchical clustering allows the user to visualize the effect of specifying differ‐\n",
    "ent numbers of clusters. It is more sensitive in discovering outlying or aberrant\n",
    "groups or records. Hierarchical clustering also lends itself to an intuitive graphical\n",
    "display, leading to easier interpretation of the clusters."
   ]
  },
  {
   "cell_type": "markdown",
   "metadata": {},
   "source": [
    "# Key Terms for Hierarchical Clustering\n",
    "## Dendrogram\n",
    "A visual representation of the records and the hierarchy of clusters to which they\n",
    "belong.\n",
    "## Distance\n",
    "A measure of how close one record is to another.\n",
    "## Dissimilarity\n",
    "A measure of how close one cluster is to another.\n",
    "Hierarchical clustering’s flexibility comes with a cost, and"
   ]
  },
  {
   "cell_type": "markdown",
   "metadata": {},
   "source": [
    "##  Fitting the highrarchical model"
   ]
  },
  {
   "cell_type": "code",
   "execution_count": 60,
   "metadata": {},
   "outputs": [],
   "source": [
    "import scipy\n",
    "from scipy.cluster.hierarchy import dendrogram, linkage, fcluster\n",
    "\n",
    "syms1 = ['AAPL', 'AMZN', 'AXP', 'COP', 'COST', 'CSCO', 'CVX', 'GOOGL', 'HD', \n",
    "         'INTC', 'JPM', 'MSFT', 'SLB', 'TGT', 'USB', 'WFC', 'WMT', 'XOM']\n",
    "df = sp500_px.loc[sp500_px.index >= '2011-01-01', syms1]"
   ]
  },
  {
   "cell_type": "code",
   "execution_count": 64,
   "metadata": {},
   "outputs": [],
   "source": [
    "df = df.transpose()"
   ]
  },
  {
   "cell_type": "code",
   "execution_count": 65,
   "metadata": {},
   "outputs": [],
   "source": [
    "z = linkage(df, method= 'complete', metric= 'euclidean')"
   ]
  },
  {
   "cell_type": "markdown",
   "metadata": {},
   "source": [
    "# Drawing the dendrogram"
   ]
  },
  {
   "cell_type": "code",
   "execution_count": 69,
   "metadata": {},
   "outputs": [
    {
     "data": {
      "image/png": "[encoded data removed]",
      "text/plain": [
       "<Figure size 432x288 with 1 Axes>"
      ]
     },
     "metadata": {
      "needs_background": "light"
     },
     "output_type": "display_data"
    }
   ],
   "source": [
    "fig, ax = plt.subplots()\n",
    "dendrogram(z, labels = df.index, ax = ax)\n",
    "ax.set_title(\"dedrogram\")\n",
    "ax.set_ylabel('Eucledean Distance')\n",
    "plt.xticks(rotation = 90)\n",
    "plt.show()"
   ]
  },
  {
   "cell_type": "markdown",
   "metadata": {},
   "source": [
    "# Visualising the clusters"
   ]
  },
  {
   "cell_type": "code",
   "execution_count": 78,
   "metadata": {},
   "outputs": [],
   "source": [
    "memb = fcluster(z, 4, criterion='maxclust')\n"
   ]
  },
  {
   "cell_type": "code",
   "execution_count": 83,
   "metadata": {},
   "outputs": [
    {
     "name": "stdout",
     "output_type": "stream",
     "text": [
      "1 : COP, CVX, SLB, XOM\n",
      "2 : AAPL, AXP, COST, CSCO, HD, INTC, JPM, MSFT, TGT, USB, WFC, WMT\n",
      "3 : AMZN\n",
      "4 : GOOGL\n"
     ]
    }
   ],
   "source": [
    "memb = pd.Series(memb, index=df.index)\n",
    "for key, item in memb.groupby(memb):\n",
    " print(f\"{key} : {', '.join(item.index)}\")\n"
   ]
  },
  {
   "cell_type": "markdown",
   "metadata": {},
   "source": [
    "# Model Based Clustering\n",
    "![purple-divider](https://user-images.githubusercontent.com/7065401/52071927-c1cd7100-2562-11e9-908a-dde91ba14e59.png)"
   ]
  },
  {
   "cell_type": "markdown",
   "metadata": {},
   "source": [
    "Clustering methods such as hierarchical clustering and K-means are based on heuris‐\n",
    "tics and rely primarily on finding clusters whose members are close to one another, as\n",
    "measured directly with the data (no probability model involved)."
   ]
  },
  {
   "cell_type": "markdown",
   "metadata": {},
   "source": [
    "They could be used, for example, in cases where there might be one group of records that are similar to one another but not necessarily close to one another (e.g., tech stocks with high variance of returns), and another group of records that are similar and also close (e.g., utility stocks with low variance).\n"
   ]
  },
  {
   "cell_type": "markdown",
   "metadata": {},
   "source": [
    "# Multivariate Normal Distribution"
   ]
  },
  {
   "cell_type": "markdown",
   "metadata": {},
   "source": [
    "![image](MND.png)"
   ]
  },
  {
   "cell_type": "markdown",
   "metadata": {},
   "source": [
    "# DB Scan"
   ]
  },
  {
   "cell_type": "markdown",
   "metadata": {},
   "source": [
    "This algorithm defines clusters as continuous regions of high density. It is actually\n",
    "quite simple:\n",
    "\n",
    "• For each instance, the algorithm counts how many instances are located within a\n",
    "small distance ε (epsilon) from it. This region is called the instance’s ε-neighborhood.\n",
    "\n",
    "• If an instance has at least min_samples instances in its ε-neighborhood (includ‐\n",
    "ing itself), then it is considered a core instance. In other words, core instances are\n",
    "those that are located in dense regions.\n",
    "\n",
    "• All instances in the neighborhood of a core instance belong to the same cluster.\n",
    "This may include other core instances, therefore a long sequence of neighboring\n",
    "core instances forms a single cluster.\n",
    "\n",
    "• Any instance that is not a core instance and does not have one in its neighbor\n",
    "hood is considered an anomaly."
   ]
  },
  {
   "cell_type": "code",
   "execution_count": 21,
   "metadata": {},
   "outputs": [
    {
     "data": {
      "text/plain": [
       "DBSCAN(eps=0.05)"
      ]
     },
     "execution_count": 21,
     "metadata": {},
     "output_type": "execute_result"
    }
   ],
   "source": [
    "from sklearn.cluster import DBSCAN\n",
    "from sklearn.datasets import make_moons\n",
    "X, y = make_moons(n_samples=1000, noise=0.05)\n",
    "dbscan = DBSCAN(eps=0.05, min_samples=5)\n",
    "dbscan.fit(X)"
   ]
  },
  {
   "cell_type": "code",
   "execution_count": 22,
   "metadata": {},
   "outputs": [
    {
     "data": {
      "text/plain": [
       "array([ 0,  1,  0, -1,  0,  2,  0,  2,  3,  0,  4,  6,  5,  0,  0,  1,  5,\n",
       "        2,  5, -1,  0,  5,  3,  2,  4,  2, -1,  1,  3,  2,  1,  2,  1,  3,\n",
       "        0,  3,  6,  1,  0,  5,  2,  2,  3,  2,  1,  4,  0,  3,  5,  2,  2,\n",
       "        2,  2,  1,  4,  6,  0, -1,  4,  5,  2,  3,  0,  3,  2,  0,  5,  0,\n",
       "        6,  2,  2,  0,  2,  1,  3,  1, -1,  0,  2,  5,  5,  2,  6,  2,  5,\n",
       "        4,  2,  1,  1, -1,  5,  1,  5,  2,  0,  3,  0,  2,  2,  1,  1,  7,\n",
       "       -1, -1,  2,  3,  0,  0,  4,  2,  1,  3,  5,  2, -1, -1,  0,  2,  2,\n",
       "        0,  5,  2,  3,  2,  0,  5,  3,  0,  0,  1,  5,  5,  0,  3,  3,  2,\n",
       "        1,  2,  2,  5,  6,  6,  5,  2,  5,  4,  0,  5,  0,  2,  0,  0,  2,\n",
       "        2,  5,  5,  2, -1,  2,  2,  2,  2, -1,  0,  0,  6,  5,  2,  2, -1,\n",
       "        5,  3,  2,  2,  2,  2,  2, -1,  2,  5,  5,  1,  0,  2, -1,  6,  2,\n",
       "       -1,  1,  1,  6,  5,  2,  5,  5,  5,  0,  5,  2,  2,  4,  6,  0,  1,\n",
       "        4,  0,  5,  5,  1,  6,  0,  2,  5,  5,  0,  4,  1,  2,  0,  3,  4,\n",
       "        5,  5,  5,  1,  1,  1,  0,  0,  2, -1,  6,  2,  5, -1,  5,  4, -1,\n",
       "        2,  4,  2,  0,  3,  2,  7,  0,  5,  0,  5,  2,  2,  0,  1,  0,  2,\n",
       "        5, -1,  3,  5,  4,  3,  4,  4,  1,  2,  1,  5, -1,  5,  6,  4, -1,\n",
       "        7,  1,  2,  2,  0,  0,  2,  5,  5,  5,  5,  3, -1,  2,  2,  1,  0,\n",
       "        5, -1,  2,  2, -1,  1,  2,  2,  5,  5,  5,  2,  2,  3,  0,  3,  0,\n",
       "        6,  1,  2,  0,  3, -1,  4,  1,  5,  6,  5, -1,  1,  0,  0,  5, -1,\n",
       "        0,  2,  3,  6,  2,  1,  0,  0,  1,  6,  5,  2,  0,  4,  2,  4,  5,\n",
       "        1,  5,  2,  2,  5,  6,  0,  1,  2,  2,  4, -1,  5,  0, -1,  2,  0,\n",
       "        3,  2,  2, -1,  6, -1, -1,  6,  4,  2,  1,  4,  5,  5, -1, -1,  2,\n",
       "        5,  5,  1,  0,  2,  1,  1,  5,  3,  3, -1,  1,  0,  2,  5,  1,  0,\n",
       "        4,  2,  3,  2,  1,  2,  3,  4,  3,  0,  6,  2,  5,  5, -1,  2,  2,\n",
       "        2,  1,  2,  6,  2,  1, -1,  0, -1,  4,  7,  1,  1,  6,  0,  5, -1,\n",
       "        1,  6,  0,  0,  0,  1,  1,  2,  2,  5,  0,  5,  2,  3,  2, -1, -1,\n",
       "        3,  1,  2,  4, -1,  4,  1,  0,  2,  1, -1,  4,  2,  5,  2,  2,  5,\n",
       "        3,  1,  2,  3,  4, -1,  2,  2,  6,  1,  1,  2, -1,  4,  5,  2,  0,\n",
       "        5,  4,  2,  8, -1,  0,  2,  2,  8,  1,  5,  2,  2, -1,  2,  0,  1,\n",
       "        5, -1,  3,  8,  1,  0,  5, -1,  2,  0,  4,  1,  5,  2, -1, -1,  2,\n",
       "        5,  3,  2,  0,  5,  0,  5,  5,  0,  0,  5,  4,  3,  2,  2,  2,  1,\n",
       "        2,  2, -1,  1,  5,  8, -1,  6,  1,  2,  4,  2,  0,  5,  0,  5,  1,\n",
       "        2,  5,  4,  0, -1,  5,  1,  2,  2, -1,  0,  3,  2,  1,  2,  5,  5,\n",
       "        0,  1,  2,  0,  5,  3,  5,  1,  2,  4,  1,  5,  6, -1,  6,  2,  1,\n",
       "        5,  2,  1,  2,  1,  5,  5, -1,  2,  2,  0, -1,  5, -1,  2,  1,  1,\n",
       "        2, -1,  3,  1,  2,  3,  0,  2,  2,  2,  2,  0,  1,  1,  1,  3,  5,\n",
       "        3, -1,  5,  3,  2,  2,  2,  3,  0,  2, -1,  2,  5,  2,  0,  5,  2,\n",
       "        6,  2,  6,  6,  0,  3,  2, -1,  2,  3,  3,  1, -1,  5,  2,  2,  5,\n",
       "        2,  5,  5,  3,  5, -1,  3,  2,  2,  1,  5,  3,  3,  5,  2,  1,  0,\n",
       "        5, -1,  4,  3,  5,  6,  1,  2,  5,  5,  1,  1,  3,  0,  1,  6,  0,\n",
       "        5,  3, -1,  2, -1,  3,  1,  6,  4,  2,  5,  0,  1,  6,  0,  3,  0,\n",
       "        1,  2,  2,  2,  2,  2,  2,  3, -1,  2,  4,  1,  4, -1,  5,  0,  5,\n",
       "        6,  1,  2,  5,  2,  0,  5,  5,  2,  2,  2,  1,  2, -1,  3,  2,  6,\n",
       "        6,  6,  3, -1,  2,  4,  6,  5,  2,  5,  5,  1,  0,  0,  2,  4,  2,\n",
       "        3,  1,  5, -1,  5,  3,  4,  3,  0,  2,  2,  1,  2,  2,  5,  2, -1,\n",
       "        2,  3,  2,  0,  2,  2,  2,  3,  2,  8,  3,  2,  5,  2, -1,  2,  2,\n",
       "        1,  4, -1,  5,  0, -1,  7,  3,  2,  2, -1, -1,  3,  4,  2,  2,  3,\n",
       "        1,  6,  0,  3,  5,  5,  6, -1, -1,  1, -1,  4,  3,  1,  1,  5,  2,\n",
       "        1,  3,  3,  0,  2,  2,  2,  2, -1,  5,  6,  1,  4,  1,  2,  4,  4,\n",
       "        3,  3,  2, -1,  3,  5,  5,  0,  2,  3,  2,  0,  5,  0,  4, -1,  5,\n",
       "        0,  3,  6,  5,  5,  2,  0,  6,  2,  2,  2,  3,  4,  1,  2,  2,  3,\n",
       "        1,  2,  2,  4,  6, -1,  2,  4,  4,  2,  1,  1,  0,  2,  4,  5,  5,\n",
       "        5,  0,  4,  2,  4,  2, -1, -1, -1,  0,  5,  0,  3,  2,  5,  3,  2,\n",
       "        1,  0,  4,  1,  3,  6,  0, -1,  0,  2,  2,  5,  1,  3,  1,  6,  2,\n",
       "       -1,  1, -1,  1,  2,  2,  2,  2,  5,  5,  2,  5,  2,  2,  2,  5,  2,\n",
       "        2,  2,  4, -1,  0,  5,  5,  6,  1,  1,  2, -1,  2,  0,  2,  4,  2,\n",
       "        5,  5,  5,  1,  3,  5,  2,  2,  1, -1,  4,  3,  1,  2,  2,  2,  5,\n",
       "        2,  2,  6,  3,  1,  5,  4, -1,  4,  0,  3,  0,  6,  5,  2,  2,  5,\n",
       "        2,  2,  2,  3,  5,  2,  2,  2,  2,  5,  3,  0,  5, -1],\n",
       "      dtype=int64)"
      ]
     },
     "execution_count": 22,
     "metadata": {},
     "output_type": "execute_result"
    }
   ],
   "source": [
    "dbscan.labels_\n"
   ]
  },
  {
   "cell_type": "code",
   "execution_count": 24,
   "metadata": {},
   "outputs": [],
   "source": [
    "dbdata = pd.DataFrame(X)\n",
    "dbdata['cluster'] = dbscan.labels_"
   ]
  },
  {
   "cell_type": "code",
   "execution_count": 27,
   "metadata": {},
   "outputs": [
    {
     "data": {
      "image/png": "[encoded data removed]",
      "text/plain": [
       "<Figure size 720x432 with 1 Axes>"
      ]
     },
     "metadata": {
      "needs_background": "light"
     },
     "output_type": "display_data"
    }
   ],
   "source": [
    "fig, ax  = plt.subplots(figsize = (10,6))\n",
    "sns.scatterplot(data = dbdata, x = dbdata.iloc[:,0], y = dbdata.iloc[:,1], hue = dbdata.cluster, ax = ax )\n",
    "plt.show()"
   ]
  },
  {
   "cell_type": "code",
   "execution_count": 84,
   "metadata": {},
   "outputs": [],
   "source": [
    "from sklearn.mixture import GaussianMixture\n",
    "df = sp500_px.loc[sp500_px.index >= '2011-01-01', ['XOM', 'CVX']]\n",
    "mclust = GaussianMixture(n_components=2).fit(df)\n",
    "\n"
   ]
  },
  {
   "cell_type": "code",
   "execution_count": 86,
   "metadata": {},
   "outputs": [
    {
     "data": {
      "text/plain": [
       "4589.3203170532615"
      ]
     },
     "execution_count": 86,
     "metadata": {},
     "output_type": "execute_result"
    }
   ],
   "source": [
    "## bic - Bayesian information criterion for the current model on the input X.\n",
    "\n",
    "mclust.bic(df)"
   ]
  },
  {
   "cell_type": "code",
   "execution_count": 88,
   "metadata": {},
   "outputs": [],
   "source": [
    "a = df.copy()\n",
    "a['cluster'] = mclust.predict(df)"
   ]
  },
  {
   "cell_type": "code",
   "execution_count": 90,
   "metadata": {},
   "outputs": [
    {
     "data": {
      "image/png": "[encoded data removed]",
      "text/plain": [
       "<Figure size 432x288 with 1 Axes>"
      ]
     },
     "metadata": {
      "needs_background": "light"
     },
     "output_type": "display_data"
    }
   ],
   "source": [
    "fig, ax = plt.subplots()\n",
    "sns.scatterplot(data = a, x = a.XOM, y = a.CVX, hue = a.cluster, ax = ax)\n",
    "ax.set_ylabel('CVX')\n",
    "ax.set_xlabel('XOM')\n",
    "plt.show()"
   ]
  },
  {
   "cell_type": "code",
   "execution_count": 91,
   "metadata": {},
   "outputs": [
    {
     "name": "stdout",
     "output_type": "stream",
     "text": [
      "Mean\n",
      "[[ 0.0709161   0.10228006]\n",
      " [-0.05074943 -0.21539465]]\n",
      "Covariances\n",
      "[[[0.27074158 0.27800893]\n",
      "  [0.27800893 0.5212865 ]]\n",
      "\n",
      " [[0.98668327 0.99350046]\n",
      "  [0.99350046 1.69695919]]]\n"
     ]
    }
   ],
   "source": [
    "print('Mean')\n",
    "print(mclust.means_)\n",
    "print('Covariances')\n",
    "print(mclust.covariances_)\n"
   ]
  },
  {
   "cell_type": "code",
   "execution_count": 92,
   "metadata": {},
   "outputs": [
    {
     "data": {
      "image/png": "[encoded data removed]",
      "text/plain": [
       "<Figure size 288x288 with 1 Axes>"
      ]
     },
     "metadata": {
      "needs_background": "light"
     },
     "output_type": "display_data"
    }
   ],
   "source": [
    "results = []\n",
    "covariance_types = ['full', 'tied', 'diag', 'spherical']\n",
    "for n_components in range(1, 9):\n",
    "    for covariance_type in covariance_types:\n",
    "        mclust = GaussianMixture(n_components = n_components, warm_start=True,\n",
    "                                 covariance_type = covariance_type)\n",
    "        mclust.fit(df)\n",
    "        results.append({\n",
    "            'bic': mclust.bic(df),\n",
    "            'n_components': n_components,\n",
    "            'covariance_type': covariance_type,\n",
    "        })\n",
    "        \n",
    "results = pd.DataFrame(results)\n",
    "\n",
    "colors = ['C0', 'C1', 'C2', 'C3']\n",
    "styles = ['C0-','C1:','C0-.', 'C1--']\n",
    "\n",
    "fig, ax = plt.subplots(figsize=(4, 4))\n",
    "for i, covariance_type in enumerate(covariance_types):\n",
    "    subset = results.loc[results.covariance_type == covariance_type, :]\n",
    "    subset.plot(x='n_components', y='bic', ax=ax, label=covariance_type, \n",
    "                kind='line', style=styles[i]) # , color=colors[i])\n",
    "\n",
    "plt.tight_layout()\n",
    "plt.show()"
   ]
  },
  {
   "cell_type": "markdown",
   "metadata": {},
   "source": [
    "# Scaling and Categorical Variables\n",
    "![purple-divider](https://user-images.githubusercontent.com/7065401/52071927-c1cd7100-2562-11e9-908a-dde91ba14e59.png)\n"
   ]
  },
  {
   "cell_type": "markdown",
   "metadata": {},
   "source": [
    "## Gower’s distance\n",
    "A scaling algorithm applied to mixed numeric and categorical data to bring all\n",
    "variables to a 0–1 range."
   ]
  },
  {
   "cell_type": "code",
   "execution_count": 2,
   "metadata": {},
   "outputs": [
    {
     "data": {
      "text/html": [
       "<div>\n",
       "<style scoped>\n",
       "    .dataframe tbody tr th:only-of-type {\n",
       "        vertical-align: middle;\n",
       "    }\n",
       "\n",
       "    .dataframe tbody tr th {\n",
       "        vertical-align: top;\n",
       "    }\n",
       "\n",
       "    .dataframe thead th {\n",
       "        text-align: right;\n",
       "    }\n",
       "</style>\n",
       "<table border=\"1\" class=\"dataframe\">\n",
       "  <thead>\n",
       "    <tr style=\"text-align: right;\">\n",
       "      <th></th>\n",
       "      <th>Unnamed: 0</th>\n",
       "      <th>status</th>\n",
       "      <th>loan_amnt</th>\n",
       "      <th>term</th>\n",
       "      <th>annual_inc</th>\n",
       "      <th>dti</th>\n",
       "      <th>payment_inc_ratio</th>\n",
       "      <th>revol_bal</th>\n",
       "      <th>revol_util</th>\n",
       "      <th>purpose</th>\n",
       "      <th>...</th>\n",
       "      <th>delinq_2yrs_zero</th>\n",
       "      <th>pub_rec_zero</th>\n",
       "      <th>open_acc</th>\n",
       "      <th>grade</th>\n",
       "      <th>outcome</th>\n",
       "      <th>emp_length</th>\n",
       "      <th>purpose_</th>\n",
       "      <th>home_</th>\n",
       "      <th>emp_len_</th>\n",
       "      <th>borrower_score</th>\n",
       "    </tr>\n",
       "  </thead>\n",
       "  <tbody>\n",
       "    <tr>\n",
       "      <th>0</th>\n",
       "      <td>1</td>\n",
       "      <td>Charged Off</td>\n",
       "      <td>2500</td>\n",
       "      <td>60 months</td>\n",
       "      <td>30000</td>\n",
       "      <td>1.00</td>\n",
       "      <td>2.39320</td>\n",
       "      <td>1687</td>\n",
       "      <td>9.4</td>\n",
       "      <td>car</td>\n",
       "      <td>...</td>\n",
       "      <td>1</td>\n",
       "      <td>1</td>\n",
       "      <td>3</td>\n",
       "      <td>4.8</td>\n",
       "      <td>default</td>\n",
       "      <td>1</td>\n",
       "      <td>major_purchase</td>\n",
       "      <td>RENT</td>\n",
       "      <td>&gt; 1 Year</td>\n",
       "      <td>0.65</td>\n",
       "    </tr>\n",
       "    <tr>\n",
       "      <th>1</th>\n",
       "      <td>2</td>\n",
       "      <td>Charged Off</td>\n",
       "      <td>5600</td>\n",
       "      <td>60 months</td>\n",
       "      <td>40000</td>\n",
       "      <td>5.55</td>\n",
       "      <td>4.57170</td>\n",
       "      <td>5210</td>\n",
       "      <td>32.6</td>\n",
       "      <td>small_business</td>\n",
       "      <td>...</td>\n",
       "      <td>1</td>\n",
       "      <td>1</td>\n",
       "      <td>11</td>\n",
       "      <td>1.4</td>\n",
       "      <td>default</td>\n",
       "      <td>5</td>\n",
       "      <td>small_business</td>\n",
       "      <td>OWN</td>\n",
       "      <td>&gt; 1 Year</td>\n",
       "      <td>0.80</td>\n",
       "    </tr>\n",
       "    <tr>\n",
       "      <th>2</th>\n",
       "      <td>3</td>\n",
       "      <td>Charged Off</td>\n",
       "      <td>5375</td>\n",
       "      <td>60 months</td>\n",
       "      <td>15000</td>\n",
       "      <td>18.08</td>\n",
       "      <td>9.71600</td>\n",
       "      <td>9279</td>\n",
       "      <td>36.5</td>\n",
       "      <td>other</td>\n",
       "      <td>...</td>\n",
       "      <td>1</td>\n",
       "      <td>1</td>\n",
       "      <td>2</td>\n",
       "      <td>6.0</td>\n",
       "      <td>default</td>\n",
       "      <td>1</td>\n",
       "      <td>other</td>\n",
       "      <td>RENT</td>\n",
       "      <td>&gt; 1 Year</td>\n",
       "      <td>0.60</td>\n",
       "    </tr>\n",
       "    <tr>\n",
       "      <th>3</th>\n",
       "      <td>4</td>\n",
       "      <td>Charged Off</td>\n",
       "      <td>9000</td>\n",
       "      <td>36 months</td>\n",
       "      <td>30000</td>\n",
       "      <td>10.08</td>\n",
       "      <td>12.21520</td>\n",
       "      <td>10452</td>\n",
       "      <td>91.7</td>\n",
       "      <td>debt_consolidation</td>\n",
       "      <td>...</td>\n",
       "      <td>1</td>\n",
       "      <td>1</td>\n",
       "      <td>4</td>\n",
       "      <td>4.2</td>\n",
       "      <td>default</td>\n",
       "      <td>1</td>\n",
       "      <td>debt_consolidation</td>\n",
       "      <td>RENT</td>\n",
       "      <td>&gt; 1 Year</td>\n",
       "      <td>0.50</td>\n",
       "    </tr>\n",
       "    <tr>\n",
       "      <th>4</th>\n",
       "      <td>5</td>\n",
       "      <td>Charged Off</td>\n",
       "      <td>10000</td>\n",
       "      <td>36 months</td>\n",
       "      <td>100000</td>\n",
       "      <td>7.06</td>\n",
       "      <td>3.90888</td>\n",
       "      <td>11997</td>\n",
       "      <td>55.5</td>\n",
       "      <td>other</td>\n",
       "      <td>...</td>\n",
       "      <td>1</td>\n",
       "      <td>1</td>\n",
       "      <td>14</td>\n",
       "      <td>5.4</td>\n",
       "      <td>default</td>\n",
       "      <td>4</td>\n",
       "      <td>other</td>\n",
       "      <td>RENT</td>\n",
       "      <td>&gt; 1 Year</td>\n",
       "      <td>0.55</td>\n",
       "    </tr>\n",
       "  </tbody>\n",
       "</table>\n",
       "<p>5 rows × 21 columns</p>\n",
       "</div>"
      ],
      "text/plain": [
       "   Unnamed: 0       status  loan_amnt       term  annual_inc    dti  \\\n",
       "0           1  Charged Off       2500  60 months       30000   1.00   \n",
       "1           2  Charged Off       5600  60 months       40000   5.55   \n",
       "2           3  Charged Off       5375  60 months       15000  18.08   \n",
       "3           4  Charged Off       9000  36 months       30000  10.08   \n",
       "4           5  Charged Off      10000  36 months      100000   7.06   \n",
       "\n",
       "   payment_inc_ratio  revol_bal  revol_util             purpose  ...  \\\n",
       "0            2.39320       1687         9.4                 car  ...   \n",
       "1            4.57170       5210        32.6      small_business  ...   \n",
       "2            9.71600       9279        36.5               other  ...   \n",
       "3           12.21520      10452        91.7  debt_consolidation  ...   \n",
       "4            3.90888      11997        55.5               other  ...   \n",
       "\n",
       "  delinq_2yrs_zero  pub_rec_zero  open_acc  grade  outcome emp_length  \\\n",
       "0                1             1         3    4.8  default          1   \n",
       "1                1             1        11    1.4  default          5   \n",
       "2                1             1         2    6.0  default          1   \n",
       "3                1             1         4    4.2  default          1   \n",
       "4                1             1        14    5.4  default          4   \n",
       "\n",
       "             purpose_ home_   emp_len_ borrower_score  \n",
       "0      major_purchase  RENT   > 1 Year           0.65  \n",
       "1      small_business   OWN   > 1 Year           0.80  \n",
       "2               other  RENT   > 1 Year           0.60  \n",
       "3  debt_consolidation  RENT   > 1 Year           0.50  \n",
       "4               other  RENT   > 1 Year           0.55  \n",
       "\n",
       "[5 rows x 21 columns]"
      ]
     },
     "execution_count": 2,
     "metadata": {},
     "output_type": "execute_result"
    }
   ],
   "source": [
    "loan_data = pd.read_csv('E:\\machine_learning_projects\\Statistics for Data Science\\Classification\\loan_data.csv')\n",
    "loan_data.head()"
   ]
  },
  {
   "cell_type": "code",
   "execution_count": 7,
   "metadata": {},
   "outputs": [],
   "source": [
    "defaults = loan_data.loc[loan_data['outcome'] == 'default',]\n",
    "columns = ['loan_amnt', 'annual_inc', 'revol_bal', 'open_acc',\n",
    " 'dti', 'revol_util']\n",
    "df = defaults.loc[:,columns]"
   ]
  },
  {
   "cell_type": "code",
   "execution_count": 10,
   "metadata": {},
   "outputs": [
    {
     "name": "stdout",
     "output_type": "stream",
     "text": [
      "<class 'pandas.core.frame.DataFrame'>\n",
      "Int64Index: 22671 entries, 0 to 22670\n",
      "Data columns (total 6 columns):\n",
      " #   Column      Non-Null Count  Dtype  \n",
      "---  ------      --------------  -----  \n",
      " 0   loan_amnt   22671 non-null  int64  \n",
      " 1   annual_inc  22671 non-null  int64  \n",
      " 2   revol_bal   22671 non-null  int64  \n",
      " 3   open_acc    22671 non-null  int64  \n",
      " 4   dti         22671 non-null  float64\n",
      " 5   revol_util  22671 non-null  float64\n",
      "dtypes: float64(2), int64(4)\n",
      "memory usage: 1.2 MB\n"
     ]
    }
   ],
   "source": [
    "df.info()"
   ]
  },
  {
   "cell_type": "code",
   "execution_count": 8,
   "metadata": {},
   "outputs": [],
   "source": [
    "from sklearn.cluster import KMeans\n",
    "kmeans = KMeans(n_clusters=4, random_state=1).fit(df)"
   ]
  },
  {
   "cell_type": "code",
   "execution_count": 21,
   "metadata": {},
   "outputs": [],
   "source": [
    "df['cluster'] = kmeans.labels_"
   ]
  },
  {
   "cell_type": "code",
   "execution_count": 23,
   "metadata": {},
   "outputs": [
    {
     "data": {
      "text/plain": [
       "2    13882\n",
       "0     7543\n",
       "1     1194\n",
       "3       52\n",
       "Name: cluster, dtype: int64"
      ]
     },
     "execution_count": 23,
     "metadata": {},
     "output_type": "execute_result"
    }
   ],
   "source": [
    "df.cluster.value_counts()"
   ]
  },
  {
   "cell_type": "code",
   "execution_count": 15,
   "metadata": {},
   "outputs": [],
   "source": [
    "centers = pd.DataFrame( kmeans.cluster_centers_, columns = columns)\n",
    "centers['Cluster'] = ['cluster_'+str(i) for i in range(1,5)]"
   ]
  },
  {
   "cell_type": "code",
   "execution_count": 16,
   "metadata": {},
   "outputs": [
    {
     "data": {
      "text/html": [
       "<div>\n",
       "<style scoped>\n",
       "    .dataframe tbody tr th:only-of-type {\n",
       "        vertical-align: middle;\n",
       "    }\n",
       "\n",
       "    .dataframe tbody tr th {\n",
       "        vertical-align: top;\n",
       "    }\n",
       "\n",
       "    .dataframe thead th {\n",
       "        text-align: right;\n",
       "    }\n",
       "</style>\n",
       "<table border=\"1\" class=\"dataframe\">\n",
       "  <thead>\n",
       "    <tr style=\"text-align: right;\">\n",
       "      <th></th>\n",
       "      <th>loan_amnt</th>\n",
       "      <th>annual_inc</th>\n",
       "      <th>revol_bal</th>\n",
       "      <th>open_acc</th>\n",
       "      <th>dti</th>\n",
       "      <th>revol_util</th>\n",
       "      <th>Cluster</th>\n",
       "    </tr>\n",
       "  </thead>\n",
       "  <tbody>\n",
       "    <tr>\n",
       "      <th>0</th>\n",
       "      <td>18275.132345</td>\n",
       "      <td>83354.634595</td>\n",
       "      <td>19635.189254</td>\n",
       "      <td>11.664373</td>\n",
       "      <td>16.774586</td>\n",
       "      <td>62.258588</td>\n",
       "      <td>cluster_1</td>\n",
       "    </tr>\n",
       "    <tr>\n",
       "      <th>1</th>\n",
       "      <td>21852.701005</td>\n",
       "      <td>165407.730318</td>\n",
       "      <td>38907.295645</td>\n",
       "      <td>12.597152</td>\n",
       "      <td>13.466876</td>\n",
       "      <td>63.634900</td>\n",
       "      <td>cluster_2</td>\n",
       "    </tr>\n",
       "    <tr>\n",
       "      <th>2</th>\n",
       "      <td>10591.893792</td>\n",
       "      <td>42453.058692</td>\n",
       "      <td>10268.048598</td>\n",
       "      <td>9.583820</td>\n",
       "      <td>17.713563</td>\n",
       "      <td>58.111226</td>\n",
       "      <td>cluster_3</td>\n",
       "    </tr>\n",
       "    <tr>\n",
       "      <th>3</th>\n",
       "      <td>22570.192308</td>\n",
       "      <td>489783.403846</td>\n",
       "      <td>85161.346154</td>\n",
       "      <td>13.326923</td>\n",
       "      <td>6.907500</td>\n",
       "      <td>59.651923</td>\n",
       "      <td>cluster_4</td>\n",
       "    </tr>\n",
       "  </tbody>\n",
       "</table>\n",
       "</div>"
      ],
      "text/plain": [
       "      loan_amnt     annual_inc     revol_bal   open_acc        dti  \\\n",
       "0  18275.132345   83354.634595  19635.189254  11.664373  16.774586   \n",
       "1  21852.701005  165407.730318  38907.295645  12.597152  13.466876   \n",
       "2  10591.893792   42453.058692  10268.048598   9.583820  17.713563   \n",
       "3  22570.192308  489783.403846  85161.346154  13.326923   6.907500   \n",
       "\n",
       "   revol_util    Cluster  \n",
       "0   62.258588  cluster_1  \n",
       "1   63.634900  cluster_2  \n",
       "2   58.111226  cluster_3  \n",
       "3   59.651923  cluster_4  "
      ]
     },
     "execution_count": 16,
     "metadata": {},
     "output_type": "execute_result"
    }
   ],
   "source": [
    "centers"
   ]
  },
  {
   "cell_type": "markdown",
   "metadata": {},
   "source": [
    "##  Standerdising the data"
   ]
  },
  {
   "cell_type": "code",
   "execution_count": 27,
   "metadata": {},
   "outputs": [],
   "source": [
    "df = df.drop(columns = ['cluster'])"
   ]
  },
  {
   "cell_type": "code",
   "execution_count": 37,
   "metadata": {},
   "outputs": [],
   "source": [
    "from sklearn.preprocessing import StandardScaler\n",
    "scaler = StandardScaler().fit(df)\n",
    "scaled_df = scaler.transform(df)\n",
    "kmeans = KMeans(n_clusters=4, random_state=1).fit(scaled_df)\n"
   ]
  },
  {
   "cell_type": "code",
   "execution_count": 48,
   "metadata": {},
   "outputs": [
    {
     "name": "stdout",
     "output_type": "stream",
     "text": [
      "1    5357\n",
      "0    7399\n",
      "2    3671\n",
      "3    6244\n",
      "Name: cluster, dtype: int64\n"
     ]
    },
    {
     "data": {
      "text/html": [
       "<div>\n",
       "<style scoped>\n",
       "    .dataframe tbody tr th:only-of-type {\n",
       "        vertical-align: middle;\n",
       "    }\n",
       "\n",
       "    .dataframe tbody tr th {\n",
       "        vertical-align: top;\n",
       "    }\n",
       "\n",
       "    .dataframe thead th {\n",
       "        text-align: right;\n",
       "    }\n",
       "</style>\n",
       "<table border=\"1\" class=\"dataframe\">\n",
       "  <thead>\n",
       "    <tr style=\"text-align: right;\">\n",
       "      <th></th>\n",
       "      <th>loan_amnt</th>\n",
       "      <th>annual_inc</th>\n",
       "      <th>revol_bal</th>\n",
       "      <th>open_acc</th>\n",
       "      <th>dti</th>\n",
       "      <th>revol_util</th>\n",
       "      <th>Cluster</th>\n",
       "      <th>cluster_size</th>\n",
       "    </tr>\n",
       "  </thead>\n",
       "  <tbody>\n",
       "    <tr>\n",
       "      <th>0</th>\n",
       "      <td>10506.814810</td>\n",
       "      <td>51114.024278</td>\n",
       "      <td>11634.707310</td>\n",
       "      <td>7.509576</td>\n",
       "      <td>15.933778</td>\n",
       "      <td>77.784329</td>\n",
       "      <td>cluster_1</td>\n",
       "      <td>7399</td>\n",
       "    </tr>\n",
       "    <tr>\n",
       "      <th>1</th>\n",
       "      <td>10323.453512</td>\n",
       "      <td>53466.038196</td>\n",
       "      <td>6052.642631</td>\n",
       "      <td>8.664617</td>\n",
       "      <td>11.309106</td>\n",
       "      <td>30.990055</td>\n",
       "      <td>cluster_2</td>\n",
       "      <td>5357</td>\n",
       "    </tr>\n",
       "    <tr>\n",
       "      <th>2</th>\n",
       "      <td>25950.205142</td>\n",
       "      <td>116834.142232</td>\n",
       "      <td>32945.972921</td>\n",
       "      <td>12.396335</td>\n",
       "      <td>16.165914</td>\n",
       "      <td>66.123542</td>\n",
       "      <td>cluster_3</td>\n",
       "      <td>3671</td>\n",
       "    </tr>\n",
       "    <tr>\n",
       "      <th>3</th>\n",
       "      <td>13486.397177</td>\n",
       "      <td>55905.907924</td>\n",
       "      <td>16435.679660</td>\n",
       "      <td>14.322746</td>\n",
       "      <td>24.210014</td>\n",
       "      <td>59.462324</td>\n",
       "      <td>cluster_4</td>\n",
       "      <td>6244</td>\n",
       "    </tr>\n",
       "  </tbody>\n",
       "</table>\n",
       "</div>"
      ],
      "text/plain": [
       "      loan_amnt     annual_inc     revol_bal   open_acc        dti  \\\n",
       "0  10506.814810   51114.024278  11634.707310   7.509576  15.933778   \n",
       "1  10323.453512   53466.038196   6052.642631   8.664617  11.309106   \n",
       "2  25950.205142  116834.142232  32945.972921  12.396335  16.165914   \n",
       "3  13486.397177   55905.907924  16435.679660  14.322746  24.210014   \n",
       "\n",
       "   revol_util    Cluster  cluster_size  \n",
       "0   77.784329  cluster_1          7399  \n",
       "1   30.990055  cluster_2          5357  \n",
       "2   66.123542  cluster_3          3671  \n",
       "3   59.462324  cluster_4          6244  "
      ]
     },
     "execution_count": 48,
     "metadata": {},
     "output_type": "execute_result"
    }
   ],
   "source": [
    "a = df.copy()\n",
    "a['cluster'] = kmeans.labels_\n",
    "print(a.cluster.value_counts(sort = False))\n",
    "centers = pd.DataFrame( scaler.inverse_transform(kmeans.cluster_centers_), columns = columns)\n",
    "centers['Cluster'] = ['cluster_'+str(i) for i in range(1,5)]\n",
    "centers['cluster_size'] = a.cluster.value_counts()\n",
    "centers\n"
   ]
  },
  {
   "cell_type": "markdown",
   "metadata": {},
   "source": [
    "# Dominating Variable"
   ]
  },
  {
   "cell_type": "code",
   "execution_count": null,
   "metadata": {},
   "outputs": [],
   "source": [
    "syms = ['GOOGL', 'AMZN', 'AAPL', 'MSFT', 'CSCO', 'INTC', 'CVX', 'XOM',\n",
    " 'SLB', 'COP', 'JPM', 'WFC', 'USB', 'AXP', 'WMT', 'TGT', 'HD', 'COST']\n",
    "top_sp1 = sp500_px.loc[sp500_px.index >= '2005-01-01', syms]\n",
    "sp_pca1 = PCA()\n",
    "sp_pca1.fit(top_sp1)\n",
    "explained_variance = pd.DataFrame(sp_pca1.explained_variance_)\n",
    "ax = explained_variance.head(10).plot.bar(legend=False, figsize=(4, 4))\n",
    "ax.set_xlabel('Component')\n"
   ]
  },
  {
   "cell_type": "code",
   "execution_count": 52,
   "metadata": {},
   "outputs": [
    {
     "data": {
      "text/plain": [
       "Text(0.5, 0, 'Component')"
      ]
     },
     "execution_count": 52,
     "metadata": {},
     "output_type": "execute_result"
    },
    {
     "data": {
      "image/png": "[encoded data removed]",
      "text/plain": [
       "<Figure size 288x288 with 1 Axes>"
      ]
     },
     "metadata": {
      "needs_background": "light"
     },
     "output_type": "display_data"
    }
   ],
   "source": [
    "from sklearn.decomposition import  PCA\n",
    "syms = ['GOOGL', 'AMZN', 'AAPL', 'MSFT', 'CSCO', 'INTC', 'CVX', 'XOM',\n",
    " 'SLB', 'COP', 'JPM', 'WFC', 'USB', 'AXP', 'WMT', 'TGT', 'HD', 'COST']\n",
    "top_sp1 = sp500_px.loc[sp500_px.index >= '2005-01-01', syms]\n",
    "sp_pca1 = PCA()\n",
    "sp_pca1.fit(top_sp1)\n",
    "explained_variance = pd.DataFrame(sp_pca1.explained_variance_)\n",
    "ax = explained_variance.head(10).plot.bar(legend=False, figsize=(4, 4))\n",
    "ax.set_xlabel('Component')\n"
   ]
  },
  {
   "cell_type": "code",
   "execution_count": 53,
   "metadata": {},
   "outputs": [
    {
     "data": {
      "text/html": [
       "<div>\n",
       "<style scoped>\n",
       "    .dataframe tbody tr th:only-of-type {\n",
       "        vertical-align: middle;\n",
       "    }\n",
       "\n",
       "    .dataframe tbody tr th {\n",
       "        vertical-align: top;\n",
       "    }\n",
       "\n",
       "    .dataframe thead th {\n",
       "        text-align: right;\n",
       "    }\n",
       "</style>\n",
       "<table border=\"1\" class=\"dataframe\">\n",
       "  <thead>\n",
       "    <tr style=\"text-align: right;\">\n",
       "      <th></th>\n",
       "      <th>0</th>\n",
       "      <th>1</th>\n",
       "    </tr>\n",
       "  </thead>\n",
       "  <tbody>\n",
       "    <tr>\n",
       "      <th>GOOGL</th>\n",
       "      <td>-0.857310</td>\n",
       "      <td>0.477873</td>\n",
       "    </tr>\n",
       "    <tr>\n",
       "      <th>AMZN</th>\n",
       "      <td>-0.444728</td>\n",
       "      <td>-0.874149</td>\n",
       "    </tr>\n",
       "    <tr>\n",
       "      <th>AAPL</th>\n",
       "      <td>-0.071627</td>\n",
       "      <td>-0.020802</td>\n",
       "    </tr>\n",
       "    <tr>\n",
       "      <th>MSFT</th>\n",
       "      <td>-0.036002</td>\n",
       "      <td>-0.006204</td>\n",
       "    </tr>\n",
       "    <tr>\n",
       "      <th>CSCO</th>\n",
       "      <td>-0.029205</td>\n",
       "      <td>-0.003045</td>\n",
       "    </tr>\n",
       "    <tr>\n",
       "      <th>INTC</th>\n",
       "      <td>-0.026666</td>\n",
       "      <td>-0.006069</td>\n",
       "    </tr>\n",
       "    <tr>\n",
       "      <th>CVX</th>\n",
       "      <td>-0.089548</td>\n",
       "      <td>-0.037420</td>\n",
       "    </tr>\n",
       "    <tr>\n",
       "      <th>XOM</th>\n",
       "      <td>-0.080336</td>\n",
       "      <td>-0.020511</td>\n",
       "    </tr>\n",
       "    <tr>\n",
       "      <th>SLB</th>\n",
       "      <td>-0.110218</td>\n",
       "      <td>-0.030356</td>\n",
       "    </tr>\n",
       "    <tr>\n",
       "      <th>COP</th>\n",
       "      <td>-0.057739</td>\n",
       "      <td>-0.024117</td>\n",
       "    </tr>\n",
       "    <tr>\n",
       "      <th>JPM</th>\n",
       "      <td>-0.071228</td>\n",
       "      <td>-0.009244</td>\n",
       "    </tr>\n",
       "    <tr>\n",
       "      <th>WFC</th>\n",
       "      <td>-0.053228</td>\n",
       "      <td>-0.008597</td>\n",
       "    </tr>\n",
       "    <tr>\n",
       "      <th>USB</th>\n",
       "      <td>-0.041670</td>\n",
       "      <td>-0.005952</td>\n",
       "    </tr>\n",
       "    <tr>\n",
       "      <th>AXP</th>\n",
       "      <td>-0.078907</td>\n",
       "      <td>-0.024027</td>\n",
       "    </tr>\n",
       "    <tr>\n",
       "      <th>WMT</th>\n",
       "      <td>-0.040346</td>\n",
       "      <td>-0.007141</td>\n",
       "    </tr>\n",
       "    <tr>\n",
       "      <th>TGT</th>\n",
       "      <td>-0.063659</td>\n",
       "      <td>-0.024662</td>\n",
       "    </tr>\n",
       "    <tr>\n",
       "      <th>HD</th>\n",
       "      <td>-0.051412</td>\n",
       "      <td>-0.032922</td>\n",
       "    </tr>\n",
       "    <tr>\n",
       "      <th>COST</th>\n",
       "      <td>-0.071403</td>\n",
       "      <td>-0.033826</td>\n",
       "    </tr>\n",
       "  </tbody>\n",
       "</table>\n",
       "</div>"
      ],
      "text/plain": [
       "              0         1\n",
       "GOOGL -0.857310  0.477873\n",
       "AMZN  -0.444728 -0.874149\n",
       "AAPL  -0.071627 -0.020802\n",
       "MSFT  -0.036002 -0.006204\n",
       "CSCO  -0.029205 -0.003045\n",
       "INTC  -0.026666 -0.006069\n",
       "CVX   -0.089548 -0.037420\n",
       "XOM   -0.080336 -0.020511\n",
       "SLB   -0.110218 -0.030356\n",
       "COP   -0.057739 -0.024117\n",
       "JPM   -0.071228 -0.009244\n",
       "WFC   -0.053228 -0.008597\n",
       "USB   -0.041670 -0.005952\n",
       "AXP   -0.078907 -0.024027\n",
       "WMT   -0.040346 -0.007141\n",
       "TGT   -0.063659 -0.024662\n",
       "HD    -0.051412 -0.032922\n",
       "COST  -0.071403 -0.033826"
      ]
     },
     "execution_count": 53,
     "metadata": {},
     "output_type": "execute_result"
    }
   ],
   "source": [
    "loadings = pd.DataFrame(sp_pca1.components_[0:2, :], columns=top_sp1.columns)\n",
    "loadings.transpose()\n"
   ]
  },
  {
   "cell_type": "markdown",
   "metadata": {},
   "source": [
    "The first two principal components are almost completely dominated by GOOGL\n",
    "and AMZN. This is because the stock price movements of GOOGL and AMZN dom‐\n",
    "inate the variability To handle this situation, you can either include them as is, rescale the variables (see\n",
    "“Scaling the Variables” on page 319), or exclude the dominant variables from the\n",
    "analysis and handle them separately. There is no “correct” approach, and the treat‐\n",
    "ment depends on the application."
   ]
  },
  {
   "cell_type": "markdown",
   "metadata": {},
   "source": [
    "# Categorical Data and Gower’s Distance"
   ]
  },
  {
   "cell_type": "markdown",
   "metadata": {},
   "source": [
    "# Grover Distance\n",
    "## The basic idea behind Gower’s distance is to apply a different distance metric to each variable depending on the type of data:\n",
    "## For numeric variables and ordered factors, distance is calculated as the absolute value of the difference between two records (Manhattan distance).\n",
    "## For categorical variables, the distance is 1 if the categories between two records are different, and the distance is 0 if the categories are the same.\n",
    "# Gower’s distance is computed as follows:\n",
    "## 1. Compute the distance di, j for all pairs of variables i and j for each record.\n",
    "## 2. Scale each pair di, j so the minimum is 0 and the maximum is 1.\n",
    "## 3. Add the pairwise scaled distances between variables together, using either a simple or a weighted mean, to create the distance matrix."
   ]
  },
  {
   "cell_type": "markdown",
   "metadata": {},
   "source": [
    "#  Problems with Clustering Mixed Data"
   ]
  },
  {
   "cell_type": "markdown",
   "metadata": {},
   "source": [
    "K-means and PCA are most appropriate for continuous variables. For smaller data\n",
    "sets, it is better to use hierarchical clustering with Gower’s distance. In principle,\n",
    "there is no reason why K-means can’t be applied to binary or categorical data. You\n",
    "would usually use the “one hot encoder” representation (see “One Hot Encoder” on\n",
    "page 242) to convert the categorical data to numeric values. In practice, however,\n",
    "using K-means and PCA with binary data can be difficult.\n",
    "If the standard z-scores are used, the binary variables will dominate the definition of\n",
    "the clusters. This is because 0/1 variables take on only two values, and K-means can\n",
    "obtain a small within-cluster sum-of-squares by assigning all the records with a 0 or 1\n",
    "to a single cluster."
   ]
  },
  {
   "cell_type": "code",
   "execution_count": null,
   "metadata": {},
   "outputs": [],
   "source": []
  }
 ],
 "metadata": {
  "interpreter": {
   "hash": "b4e8f4f1c3b8324d6d16cd48f41ad5638240ba994d2f06302ae6e77a116c172c"
  },
  "kernelspec": {
   "display_name": "Python 3.9.7 64-bit ('machine_learning': venv)",
   "language": "python",
   "name": "python3"
  },
  "language_info": {
   "codemirror_mode": {
    "name": "ipython",
    "version": 3
   },
   "file_extension": ".py",
   "mimetype": "text/x-python",
   "name": "python",
   "nbconvert_exporter": "python",
   "pygments_lexer": "ipython3",
   "version": "3.9.7"
  },
  "orig_nbformat": 4
 },
 "nbformat": 4,
 "nbformat_minor": 2
}
